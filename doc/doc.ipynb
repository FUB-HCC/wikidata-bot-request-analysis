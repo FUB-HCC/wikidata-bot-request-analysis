{
 "cells": [
  {
   "cell_type": "code",
   "execution_count": 111,
   "metadata": {
    "collapsed": false
   },
   "outputs": [
    {
     "data": {
      "text/html": [
       "<script>requirejs.config({paths: { 'plotly': ['https://cdn.plot.ly/plotly-latest.min']},});if(!window.Plotly) {{require(['plotly'],function(plotly) {window.Plotly=plotly;});}}</script>"
      ],
      "text/vnd.plotly.v1+html": [
       "<script>requirejs.config({paths: { 'plotly': ['https://cdn.plot.ly/plotly-latest.min']},});if(!window.Plotly) {{require(['plotly'],function(plotly) {window.Plotly=plotly;});}}</script>"
      ]
     },
     "metadata": {},
     "output_type": "display_data"
    },
    {
     "name": "stdout",
     "output_type": "stream",
     "text": [
      "The autoreload extension is already loaded. To reload it, use:\n",
      "  %reload_ext autoreload\n"
     ]
    }
   ],
   "source": [
    "import sqlite3\n",
    "import pandas as pd\n",
    "import matplotlib.pyplot as plt\n",
    "import matplotlib\n",
    "import pandas as pd\n",
    "import os\n",
    "import sys\n",
    "from plotly.offline import init_notebook_mode, iplot\n",
    "from plotly.graph_objs import Bar\n",
    "init_notebook_mode(connected=True)\n",
    "\n",
    "module_path = os.path.abspath(os.path.join('../src'))\n",
    "if module_path not in sys.path:\n",
    "    sys.path.append(module_path)\n",
    "\n",
    "from analyser import Analyser\n",
    "from db import SqliteDb as db\n",
    "\n",
    "%matplotlib inline\n",
    "%load_ext autoreload\n",
    "%autoreload 2"
   ]
  },
  {
   "cell_type": "markdown",
   "metadata": {
    "collapsed": true
   },
   "source": [
    "# Documentation\n",
    "\n",
    "## Research Questions\n",
    "\n",
    "** Which contribution have bots to the quality of Wikidata? **\n",
    "* Which differences exist between bots which successfully completed the request for permission process and those who doesn't? (Hypothesis: The request for permission process is a quality gate for bots)\n",
    "* How does bot's field of activity change over time?\n",
    "* What is the difference between a bot with the group 'bot' and a bot with a botflag?"
   ]
  },
  {
   "cell_type": "markdown",
   "metadata": {},
   "source": [
    "## Data acquisition and preparation"
   ]
  },
  {
   "cell_type": "markdown",
   "metadata": {},
   "source": [
    "### Requests for permissions\n",
    "\n",
    "As a first step we downloaded and parsed the data about requests for permissions about bots from Wikidata in July 2018. We collected the already closed requests which can be found in the Wikidata archive (e.g. https://www.wikidata.org/wiki/Wikidata:Requests_for_permissions/Archive#Requests_for_bot_flags). The data is stored in the table `requests_for_permissions` database.\n",
    "\n",
    "Request for permissions which have no own page were left out (e.g. https://www.wikidata.org/w/index.php?title=Wikidata:Requests_for_permissions/Bot/Checkallthestrings_bot_1&action=edit&redlink=1).\n",
    "\n",
    "Request for permissions which are listed several times in different archives were only parsed once (e.g. https://www.wikidata.org/wiki/Wikidata:Requests_for_permissions/Bot/VIAFbot is listes in https://www.wikidata.org/wiki/Wikidata:Requests_for_permissions/RfBot/March_2013 and in https://www.wikidata.org/wiki/Wikidata:Requests_for_permissions/RfBot/April_2013)."
   ]
  },
  {
   "cell_type": "markdown",
   "metadata": {},
   "source": [
    "### Bots\n",
    "In a second step we fetched data from five different sources that contain lists of bots or information that can help to detect bots. None of the list is complete. The following table lists these sources and describe what they contain. The data is first saved in csv files (also listed in the table) and afterwards stored in the table `bots` in the database."
   ]
  },
  {
   "cell_type": "markdown",
   "metadata": {},
   "source": [
    "| description                           |  source               | output file          |\n",
    "| ---------------------------------- |:--------------------:|:--------------------:|\n",
    "| users in the group 'bot' | MediaWiki API (Example URL: https://www.wikidata.org/w/api.php?action=query&list=allusers&augroup=bot) | data/parser/users_in_bot_group.csv |\n",
    "| bots that have a closed request for permission | [Requests for bot flags](https://www.wikidata.org/wiki/Wikidata:Requests_for_permissions/Archive#Requests_for_bot_flags ) | data/spiders/bots_with_requests_for_permissions.csv |\n",
    "| bots with a botflag     | [Bots with botflag](https://www.wikidata.org/wiki/Category:Bots_with_botflag) | data/spiders/bots_with_botflag.csv |\n",
    "| bots without a botflag  | [Bots without a botflag](https://www.wikidata.org/wiki/Category:Bots_without_botflag) | data/spiders/bots_without_botflag.csv |\n",
    "| extension bots           | [Extension bots](https://www.wikidata.org/wiki/Category:Extension_bots) | data/spiders/extension_bots.csv |"
   ]
  },
  {
   "cell_type": "markdown",
   "metadata": {},
   "source": [
    "### Database"
   ]
  },
  {
   "cell_type": "markdown",
   "metadata": {},
   "source": [
    "#### Schema\n",
    "The original db schema can be found under the path `db/schema.ddl`. The db schema as diagram looks as follows: \n",
    "\n",
    "Note: The lates update for this diagram was on 17 July 2018 and may not be up-to-date!\n",
    "\n",
    "![DB schema](images/db_schema.png)"
   ]
  },
  {
   "cell_type": "markdown",
   "metadata": {},
   "source": [
    "#### Tables"
   ]
  },
  {
   "cell_type": "markdown",
   "metadata": {},
   "source": [
    "The tabel `requests_for_permissions` contains the following content: \n",
    "\n",
    "Note: The lates update for this table was on 17 July 2018 and thus may not be up-to-date!\n",
    "\n",
    "| column                | content explanation                                                                   |\n",
    "|:---------------------:|:-------------------------------------------------------------------------------------:|\n",
    "| id                    | unique identifier                                                                     |\n",
    "| url                   | url of the request for permission                                                     |\n",
    "| bot_url               | url of the bot for which the request for permission is for                            |\n",
    "| bot_name              | name of the bot for which the request for permission is for                           |\n",
    "| bot_has_red_link      | flag which states if the url of the bot is a red link (i.e. not working)              |\n",
    "| operator_url          | url of the operator which opend the request for permission                            |\n",
    "| operator_name         | name of the operator which opend the request for permission                           |\n",
    "| operator_has_red_link | flag which states if the url of the operator is a red link (i.e. not working)         |\n",
    "| is_successful         | flag which states if the request for permission was successful. 1 if it was and 0 if not     |\n",
    "| first_edit            | timestamp when the first edit of this request for permission was made         |\n",
    "| last_edit             | timestamp when the last edit of this request for permission was made          |\n",
    "| closed_at             | timestamp when the request for permission was closed which is equvalent to the time when the summary was written |\n",
    "| revision_count        | count how many revisions were applied to the request for permission                   |\n",
    "| editor_count          | count how many different editors made revisons to the request for permission          |\n",
    "| comment_symbol_count  | count how often a comment symbol was used in the discussion of the request            |\n",
    "| question_symbol_count | count how often a question symbol was used in the discussion of the request           |\n",
    "| oppose_symbol_count   | count how often a oppose symbol was used in the discussion of the request             |\n",
    "| answer_symbol_count   | count how often a answer symbol was used in the discussion of the request             |\n",
    "| support_symbol_count  | count how often a support symbol was used in the discussion of the request            |\n",
    "| html                  | raw html of the site that can be found under the url. only the main part of the site is saved. |\n",
    "| task                  | short description of the bot function                                                 |\n",
    "| code                  | link to the online repository or other code describing text                           |\n",
    "| function              | detailed description of the bot function                                              |\n",
    "| archive_comment       | short comment why the request for permission was successful or not. Example can be found under the following link: https://www.wikidata.org/wiki/Wikidata:Requests_for_permissions/RfBot/April_2013 (see for example '(approved temporary)') |\n",
    "| summary               | summary about the discussion and the final decision about the request for permission  | \n",
    "| retrieved_at          | timestamp when the data was retrived                                          |"
   ]
  },
  {
   "cell_type": "markdown",
   "metadata": {},
   "source": [
    "The tabel `bots` contains the following content:\n",
    "Note: The lates update for this table was on 17 July 2018 and thus may not be up-to-date!\n",
    "\n",
    "\n",
    "| column                | content explanation                                                                   |\n",
    "| ----------------------|:-------------------------------------------------------------------------------------:|\n",
    "| id                    | unique identifier |\n",
    "| userid                | user id on wikidata |\n",
    "| name                  | name of the bot                                                                       |\n",
    "| has_botflag           | flag which states if the bot has a bot flag. 1 if it has and 0 if not |\n",
    "| is_extension_bot      | flag which states if the bot is a extension bot. 1 if it is and 0 if not|\n",
    "| is_blocked            | flag which states if the bot is blocked. 1 if it is and 0 if not|\n",
    "| blockid               | ... |\n",
    "| blockedby             | ... |\n",
    "| blockedbyid           | ... |\n",
    "| blockedtimestamp      | timestamp when the bot was blocked |\n",
    "| blockreason           | reason why the bot was blocked |\n",
    "| blockexpiry           | ... |\n",
    "| groups                | groups which the bot belongs to |\n",
    "| implicitgroups        | implicit groups which the bot belongs to|\n",
    "| rights                | rights which the bot has |\n",
    "| editcount             | count of edits the bot has made so far |\n",
    "| registration          | timestamp when the bot was registered |\n",
    "| redirect_to           | if the bot name is an alias of another name, the id of the other bot is mentioned here |\n",
    "| retrieved_at          | timestamp when the data was retrived |"
   ]
  },
  {
   "cell_type": "markdown",
   "metadata": {},
   "source": [
    "## Analysis"
   ]
  },
  {
   "cell_type": "markdown",
   "metadata": {},
   "source": [
    "### Analysis of Wikidata Bots\n",
    "\n",
    "This chapter aims to analyse the bots on Wikidata. "
   ]
  },
  {
   "cell_type": "markdown",
   "metadata": {},
   "source": [
    "### Number of bots with respect to there origins\n",
    "As a first step we try to find out the number of bots with respect to there origins. Note: The list is updateed manually thus disparities between this tables and the following results may occur! Last update: 17 July 2018"
   ]
  },
  {
   "cell_type": "markdown",
   "metadata": {},
   "source": [
    "| criteria                           | amount       | \n",
    "| ---------------------------------- |:------------:|\n",
    "| number of users in the group 'bot' | 252 |\n",
    "| number of bots that have a closed request for permission | 363 |\n",
    "| number of bots with a botflag     | 259 |\n",
    "| number of bots without a botflag  | 164 |\n",
    "| number of extension bots           | 6 |"
   ]
  },
  {
   "cell_type": "markdown",
   "metadata": {},
   "source": [
    "The following statistics describe partially the same as the table before but instead of fetching the results from the csv files, they are retrived from the db and contain more crtieria. The calcuated values are summarizes in the subsequent matrix. An example of how to interpret the matrix is that the field `b_f ex_b` describe how many distinct bots which have a bot flag and which are extension bots exist. If you want to see the names of the bots which belong to each group, you can uncomment the line ``` Analyser.print_matrix_bot_names() ```. The column names are described as follows:\n",
    "\n",
    "| column name               | explanation                               |\n",
    "| --------------------------|:-----------------------------------------:|\n",
    "| b_f                       | has bot flag                              |\n",
    "| no_b_f                    | has no bot flag                           |\n",
    "| ex_b                      | is a extension bot                        |\n",
    "| group                     | is in group 'bot'                         |\n",
    "| request                   | has a request for permission              |\n",
    "| s_request                 | has a successful request for permission   |\n",
    "| u_request                 | has a unsuccessful request for permission |\n"
   ]
  },
  {
   "cell_type": "code",
   "execution_count": 22,
   "metadata": {
    "collapsed": false,
    "scrolled": true
   },
   "outputs": [
    {
     "name": "stdout",
     "output_type": "stream",
     "text": [
      "           b_f no_b_f ex_b group request s_request u_request\n",
      "b_f        259      0    0   202     249       249        20\n",
      "no_b_f     NaN    164    0    23      63        41        24\n",
      "ex_b       NaN    NaN    6     3       1         1         0\n",
      "group      NaN    NaN  NaN   252     242       242        15\n",
      "request    NaN    NaN  NaN   NaN     363       317        70\n",
      "s_request  NaN    NaN  NaN   NaN     NaN       317        24\n",
      "u_request  NaN    NaN  NaN   NaN     NaN       NaN        70\n"
     ]
    }
   ],
   "source": [
    "Analyser.generate_matrix()"
   ]
  },
  {
   "cell_type": "code",
   "execution_count": 21,
   "metadata": {
    "collapsed": false
   },
   "outputs": [],
   "source": [
    "# Analyser.print_matrix_bot_names()"
   ]
  },
  {
   "cell_type": "markdown",
   "metadata": {},
   "source": [
    "### Number and names of unique bots"
   ]
  },
  {
   "cell_type": "markdown",
   "metadata": {},
   "source": [
    "The following describes the number and the names of all unique bots. These bots are retrieved from all lists (e.g. bots with a bot flag, bots without a bot flag, bots with a request for permission, bots in the user group 'bot' and extension bots)"
   ]
  },
  {
   "cell_type": "code",
   "execution_count": 3,
   "metadata": {
    "collapsed": false,
    "scrolled": true
   },
   "outputs": [],
   "source": [
    "# Analyser.print_unique_bots()"
   ]
  },
  {
   "cell_type": "markdown",
   "metadata": {},
   "source": [
    "### Differences between unique bots with a request and bots without a request\n",
    "The following section compares all unique bots which have a request for permission and those who don't."
   ]
  },
  {
   "cell_type": "markdown",
   "metadata": {},
   "source": [
    "#### Number and names of bots with a request for permission."
   ]
  },
  {
   "cell_type": "code",
   "execution_count": 34,
   "metadata": {
    "collapsed": false,
    "scrolled": true
   },
   "outputs": [],
   "source": [
    "# Analyser.print_bots_with_request()"
   ]
  },
  {
   "cell_type": "markdown",
   "metadata": {},
   "source": [
    "#### Number and names of bots without a request for permission."
   ]
  },
  {
   "cell_type": "code",
   "execution_count": 35,
   "metadata": {
    "collapsed": false,
    "scrolled": false
   },
   "outputs": [],
   "source": [
    "# Analyser.print_bots_without_request()"
   ]
  },
  {
   "cell_type": "markdown",
   "metadata": {},
   "source": [
    "#### Rights of bots with a request for permission.\n",
    "The following shows how many bots with a request for permission have a specific right. Note: the rights could not be retrived for all bots form the API for the reason that some bots for example do not have a user account anymore. Therefore in the graphic the maximum value of bots that have a specific right is 357 and not 363!"
   ]
  },
  {
   "cell_type": "code",
   "execution_count": 37,
   "metadata": {
    "collapsed": false,
    "scrolled": true
   },
   "outputs": [],
   "source": [
    "# Analyser.print_rights_of_bots_with_request()"
   ]
  },
  {
   "cell_type": "markdown",
   "metadata": {},
   "source": [
    "#### Bots with request without rights in the database\n",
    "The following tries to answer the question, why there are bots in our database for which no rights could be retrieved from the api."
   ]
  },
  {
   "cell_type": "code",
   "execution_count": 39,
   "metadata": {
    "collapsed": false,
    "scrolled": true
   },
   "outputs": [],
   "source": [
    "# Analyser.print_bots_with_request_without_rights()"
   ]
  },
  {
   "cell_type": "markdown",
   "metadata": {},
   "source": [
    "All bots for which no rights could be retrived and which have a red link, were probably deleted and therefore have no user account for which rights can be retrived.\n",
    "\n",
    "The bot 'Global Economic Map Bot' has its own user page but still no rights can be retrived; it is not yet solved why (TODO).\n",
    "\n",
    "Note: There can alo be a discrepancy between the total amount of bots with a request (e.g. 368 at the time of 17. July 2018) and the sum of bots with rights in the db (e.g. 362) plus bots with no rights and no redlink (e.g. 1) and bots with a red link (e.g. 5). This can happen if various requests for permissions for one bot exist and for one request only a red link for the bot could be parsed and for the other a working link could be parsed. "
   ]
  },
  {
   "cell_type": "markdown",
   "metadata": {},
   "source": [
    "#### Rights of bots without a request for permission.\n",
    "The following shows which rights bots without a request for permission have and how many of them have these right. Note: the rights could not be retrived for all bots form the API for the reason that some bots for example do not have a user account anymore. Therefore in the graphic the maximum value of bots that have a specific right is 117 and not 119!"
   ]
  },
  {
   "cell_type": "code",
   "execution_count": 50,
   "metadata": {
    "collapsed": false,
    "scrolled": false
   },
   "outputs": [],
   "source": [
    "# Analyser.print_rights_of_bots_without_request()"
   ]
  },
  {
   "cell_type": "markdown",
   "metadata": {},
   "source": [
    "#### Bots without request and without rights in the database"
   ]
  },
  {
   "cell_type": "markdown",
   "metadata": {},
   "source": [
    "The following tries to answer the question, why there are bots in our database for which no rights could be retrieved from the api."
   ]
  },
  {
   "cell_type": "code",
   "execution_count": 43,
   "metadata": {
    "collapsed": false,
    "scrolled": true
   },
   "outputs": [],
   "source": [
    "# Analyser.print_bots_without_request_without_rights()"
   ]
  },
  {
   "cell_type": "markdown",
   "metadata": {},
   "source": [
    "The bot '127.0.0.1' is no user in the common sense. It belongs to the extension bots and is part of the MediaWiki software. Therefore no rights can be parsed.\n",
    "\n",
    "For the bot 'Eflybot' rights can only be retrieved over the MediaWikiApi (e.g. https://www.mediawiki.org/w/api.php) and not the Wikdata API (e.g. https://www.wikidata.org/w/api.php). It is not yet solved why (TODO)."
   ]
  },
  {
   "cell_type": "markdown",
   "metadata": {},
   "source": [
    "#### Differences of bot rights\n",
    "The following shows all right that bots with a request for permission have but all other bots do not have and vice versa."
   ]
  },
  {
   "cell_type": "code",
   "execution_count": 45,
   "metadata": {
    "collapsed": false
   },
   "outputs": [],
   "source": [
    "# Analyser.print_right_differences_for_request()"
   ]
  },
  {
   "cell_type": "markdown",
   "metadata": {},
   "source": [
    "#### Groups of bots with a request for permission.\n",
    "The following shows how many bots with a request for permission belong to a specific group. Note: the groups could not be retrived for all bots form the API for the reason that some bots for example do not have a user account anymore. Therefore in the graphic the maximum value of bots that have a specific right is 357 and not 363!\n",
    "\n",
    "Note: All visitors to the site, including unregistered users, are part of the '*' group and get associated rights (for more infromation see: https://en.wikipedia.org/wiki/Wikipedia:User_access_levels#User_groups)"
   ]
  },
  {
   "cell_type": "code",
   "execution_count": 50,
   "metadata": {
    "collapsed": false
   },
   "outputs": [],
   "source": [
    "# Analyser.print_groups_of_bots_with_request()"
   ]
  },
  {
   "cell_type": "markdown",
   "metadata": {},
   "source": [
    "#### Bots with request and without groups in db\n",
    "The following tries to answer the question, why there are bots in our db for which no groups could be retrieved from the api."
   ]
  },
  {
   "cell_type": "code",
   "execution_count": 52,
   "metadata": {
    "collapsed": false
   },
   "outputs": [],
   "source": [
    "# Analyser.print_bots_with_request_without_groups()"
   ]
  },
  {
   "cell_type": "markdown",
   "metadata": {},
   "source": [
    "All bots for which no groups could be retrived and which have a red link, were probably deleted and therefore have no user account for which groups can be retrived.\n",
    "\n",
    "The bot 'Global Economic Map Bot' has its own user page but still no groups can be retrived; it is not yet solved why (TODO).\n",
    "\n",
    "Note: There can alo be a discrepancy between the total amount of bots with a request (e.g. 368 at the time of 17. July 2018) and the sum of bots with groups in the db (e.g. 362) plus bots with no groups and no redlink (e.g. 1) and bots with no groups and a red link (e.g. 5). This can happen if various requests for permissions for one bot exist and for one request only a red link for the bot could be parsed and for the other a working link could be parsed. "
   ]
  },
  {
   "cell_type": "markdown",
   "metadata": {},
   "source": [
    "#### Groups of bots without a request for permission.\n",
    "The following shows how many bots without a request for permission belong to a specific group. Note: the groups could not be retrived for all bots form the API for the reason that some bots for example do not have a user account anymore. Therefore in the graphic the maximum value of bots that have a specific right is 117 and not 119!"
   ]
  },
  {
   "cell_type": "code",
   "execution_count": 54,
   "metadata": {
    "collapsed": false
   },
   "outputs": [],
   "source": [
    "# Analyser.print_groups_of_bots_without_request()"
   ]
  },
  {
   "cell_type": "markdown",
   "metadata": {},
   "source": [
    "#### Bots with request and without groups in db\n",
    "The following tries to answer the question, why there are bots in our db for which no groups could be retrieved from the api."
   ]
  },
  {
   "cell_type": "code",
   "execution_count": 56,
   "metadata": {
    "collapsed": false
   },
   "outputs": [],
   "source": [
    "# Analyser.print_bots_without_request_without_groups()"
   ]
  },
  {
   "cell_type": "markdown",
   "metadata": {},
   "source": [
    "The bot '127.0.0.1' is no user in the common sense. It belongs to the extension bots and is part of the MediaWiki software. Therefore no groups can be parsed.\n",
    "\n",
    "For the bot 'Eflybot' groups can only be retrieved over the MediaWikiApi (e.g. https://www.mediawiki.org/w/api.php) and not the Wikdata API (e.g. https://www.wikidata.org/w/api.php). It is not yet solved why (TODO)."
   ]
  },
  {
   "cell_type": "markdown",
   "metadata": {},
   "source": [
    "#### Differences of bot groups\n",
    "The following shows all groups that bots with a request for permission belong to but all other bots do not and vice versa."
   ]
  },
  {
   "cell_type": "code",
   "execution_count": 58,
   "metadata": {
    "collapsed": false
   },
   "outputs": [],
   "source": [
    "# Analyser.print_groups_differences()"
   ]
  },
  {
   "cell_type": "markdown",
   "metadata": {},
   "source": [
    "### Differences between bots with bot flag and bots in the group bot\n",
    "The following section compares all unique bots which have a bot flag (and do not belong to the group bot) and bots which belong to the group bot (and do not have a bot flag).\n",
    "#### Number and names of bots with a bot flag and do not belong to the group bot"
   ]
  },
  {
   "cell_type": "code",
   "execution_count": 60,
   "metadata": {
    "collapsed": false
   },
   "outputs": [],
   "source": [
    "# Analyser.print_bots_with_bot_flag()"
   ]
  },
  {
   "cell_type": "markdown",
   "metadata": {},
   "source": [
    "#### Number and names of bots which belong to the group bot and do not have a bot flag"
   ]
  },
  {
   "cell_type": "code",
   "execution_count": 56,
   "metadata": {
    "collapsed": false
   },
   "outputs": [],
   "source": [
    "# Analyser.print_bots_in_bot_group()"
   ]
  },
  {
   "cell_type": "markdown",
   "metadata": {},
   "source": [
    "#### Number and names of bots with a bot flag and which belong to the group bot\n",
    "Note: If you add up this number of bots and the number of bots which belong to the group bot and do not have a bot flag, you will not get the overall amount of bots which belong to the bot group. This effect is due to the fact that in the database bots exist which belong to the bot group but have a NULL value for the field `has_botflag` and therefore are not captured by one of these queries."
   ]
  },
  {
   "cell_type": "code",
   "execution_count": 58,
   "metadata": {
    "collapsed": false
   },
   "outputs": [],
   "source": [
    "# Analyser.print_bots_with_bot_flag_and_in_bot_group()"
   ]
  },
  {
   "cell_type": "markdown",
   "metadata": {},
   "source": [
    "#### Rights of bots with a bot flag"
   ]
  },
  {
   "cell_type": "code",
   "execution_count": 42,
   "metadata": {
    "collapsed": false
   },
   "outputs": [],
   "source": [
    "# Analyser.print_rights_of_bot_with_bot_flag()"
   ]
  },
  {
   "cell_type": "markdown",
   "metadata": {},
   "source": [
    "#### Rights of bots which belong to the group 'bot'"
   ]
  },
  {
   "cell_type": "code",
   "execution_count": 46,
   "metadata": {
    "collapsed": false
   },
   "outputs": [],
   "source": [
    "# Analyser.print_right_differences_for_bot_flag_and_bot_group()"
   ]
  },
  {
   "cell_type": "markdown",
   "metadata": {},
   "source": [
    "#### Differences of bot rights\n",
    "The following shows all right that bots with a bot flag have but bots which belong to the group bot do not have and vice versa. "
   ]
  },
  {
   "cell_type": "code",
   "execution_count": 50,
   "metadata": {
    "collapsed": false
   },
   "outputs": [],
   "source": [
    "# Analyser.print_right_differences_for_bot_flag_and_bot_group()"
   ]
  },
  {
   "cell_type": "markdown",
   "metadata": {},
   "source": [
    "### Analysis of groups"
   ]
  },
  {
   "cell_type": "code",
   "execution_count": 125,
   "metadata": {
    "collapsed": false
   },
   "outputs": [],
   "source": [
    "# Analyser.plot_bots_group_destribution()"
   ]
  },
  {
   "cell_type": "markdown",
   "metadata": {},
   "source": [
    "### Analysis of edit count\n",
    "\n",
    "List of bots ordered by their edit count."
   ]
  },
  {
   "cell_type": "code",
   "execution_count": 92,
   "metadata": {
    "collapsed": false
   },
   "outputs": [],
   "source": [
    "# Analyser.print_edit_count()"
   ]
  },
  {
   "cell_type": "markdown",
   "metadata": {},
   "source": [
    "List of bots ordered by and their average edit count per day since there registration."
   ]
  },
  {
   "cell_type": "code",
   "execution_count": 95,
   "metadata": {
    "collapsed": false
   },
   "outputs": [],
   "source": [
    "# Analyser.print_average_edit_count_per_day()"
   ]
  },
  {
   "cell_type": "markdown",
   "metadata": {},
   "source": [
    "### Analysis of Requests for Permission\n",
    "\n",
    "This chepter aims to analyse the requests for permissions for bots on Wikidata."
   ]
  },
  {
   "cell_type": "markdown",
   "metadata": {},
   "source": [
    "#### General characteristics"
   ]
  },
  {
   "cell_type": "markdown",
   "metadata": {},
   "source": [
    "The following table contain some key figures about the requests for permissions in our database. As reference point the date when the request was first edited is taken. Note: The list is updateed manually thus disparities between this tables and the values in the database may occur! Last update: 24 July 2018"
   ]
  },
  {
   "cell_type": "markdown",
   "metadata": {},
   "source": [
    "| criteria                       | amount                |\n",
    "| -------------------------------|:---------------------:|\n",
    "| number of bots                 |368                    |\n",
    "| number of requests             |683                    |\n",
    "| number of succesful bots       |322                    |\n",
    "| number of succesful requests   |599                    |\n",
    "| number of unsuccesful bots     |70                     |\n",
    "| number of unsuccesful requests |84                     |\n",
    "| date of the first request      |2012-11-13 03:29:25    |\n",
    "| date of the last request       |2018-07-14 21:26:58    |"
   ]
  },
  {
   "cell_type": "code",
   "execution_count": 48,
   "metadata": {
    "collapsed": false
   },
   "outputs": [
    {
     "data": {
      "application/vnd.plotly.v1+json": {
       "data": [
        {
         "marker": {
          "color": "rgb(235,173,104)",
          "line": {
           "color": "rgb(185,125,54)",
           "width": 1.5
          }
         },
         "name": "Requests for Permissions",
         "opacity": 0.8,
         "orientation": "h",
         "type": "bar",
         "x": [
          683,
          599,
          84
         ],
         "y": [
          "all",
          "successful",
          "unsuccessful"
         ]
        },
        {
         "marker": {
          "color": "rgb(204,204,204)",
          "line": {
           "color": "rgb(150,150,150)",
           "width": 1.5
          }
         },
         "name": "Bots",
         "opacity": 0.8,
         "orientation": "h",
         "type": "bar",
         "x": [
          368,
          322,
          70
         ],
         "y": [
          "all",
          "successful",
          "unsuccessful"
         ]
        }
       ],
       "layout": {
        "barmode": "group",
        "xaxis": {
         "tickangle": -45
        }
       }
      },
      "text/html": [
       "<div id=\"4be43d71-3d7a-4bac-9fae-8ae78c911bf3\" style=\"height: 525px; width: 100%;\" class=\"plotly-graph-div\"></div><script type=\"text/javascript\">require([\"plotly\"], function(Plotly) { window.PLOTLYENV=window.PLOTLYENV || {};window.PLOTLYENV.BASE_URL=\"https://plot.ly\";Plotly.newPlot(\"4be43d71-3d7a-4bac-9fae-8ae78c911bf3\", [{\"type\": \"bar\", \"y\": [\"all\", \"successful\", \"unsuccessful\"], \"x\": [683, 599, 84], \"name\": \"Requests for Permissions\", \"orientation\": \"h\", \"marker\": {\"color\": \"rgb(235,173,104)\", \"line\": {\"color\": \"rgb(185,125,54)\", \"width\": 1.5}}, \"opacity\": 0.8}, {\"type\": \"bar\", \"y\": [\"all\", \"successful\", \"unsuccessful\"], \"x\": [368, 322, 70], \"name\": \"Bots\", \"orientation\": \"h\", \"marker\": {\"color\": \"rgb(204,204,204)\", \"line\": {\"color\": \"rgb(150,150,150)\", \"width\": 1.5}}, \"opacity\": 0.8}], {\"xaxis\": {\"tickangle\": -45}, \"barmode\": \"group\"}, {\"showLink\": true, \"linkText\": \"Export to plot.ly\"})});</script>"
      ],
      "text/vnd.plotly.v1+html": [
       "<div id=\"4be43d71-3d7a-4bac-9fae-8ae78c911bf3\" style=\"height: 525px; width: 100%;\" class=\"plotly-graph-div\"></div><script type=\"text/javascript\">require([\"plotly\"], function(Plotly) { window.PLOTLYENV=window.PLOTLYENV || {};window.PLOTLYENV.BASE_URL=\"https://plot.ly\";Plotly.newPlot(\"4be43d71-3d7a-4bac-9fae-8ae78c911bf3\", [{\"type\": \"bar\", \"y\": [\"all\", \"successful\", \"unsuccessful\"], \"x\": [683, 599, 84], \"name\": \"Requests for Permissions\", \"orientation\": \"h\", \"marker\": {\"color\": \"rgb(235,173,104)\", \"line\": {\"color\": \"rgb(185,125,54)\", \"width\": 1.5}}, \"opacity\": 0.8}, {\"type\": \"bar\", \"y\": [\"all\", \"successful\", \"unsuccessful\"], \"x\": [368, 322, 70], \"name\": \"Bots\", \"orientation\": \"h\", \"marker\": {\"color\": \"rgb(204,204,204)\", \"line\": {\"color\": \"rgb(150,150,150)\", \"width\": 1.5}}, \"opacity\": 0.8}], {\"xaxis\": {\"tickangle\": -45}, \"barmode\": \"group\"}, {\"showLink\": true, \"linkText\": \"Export to plot.ly\"})});</script>"
      ]
     },
     "metadata": {},
     "output_type": "display_data"
    }
   ],
   "source": [
    "Analyser.plot_general_statistics_about_requests()"
   ]
  },
  {
   "cell_type": "markdown",
   "metadata": {},
   "source": [
    "#### Distribution of request for permission\n",
    "\n",
    "This shows the distribution of request for permission over time. As reference point for the time the date when the request for permission was closed is taken."
   ]
  },
  {
   "cell_type": "code",
   "execution_count": 41,
   "metadata": {
    "collapsed": false
   },
   "outputs": [
    {
     "data": {
      "application/vnd.plotly.v1+json": {
       "data": [
        {
         "marker": {
          "color": "rgb(235,173,104)",
          "line": {
           "color": "rgb(185,125,54)",
           "width": 1.5
          }
         },
         "opacity": 0.8,
         "type": "bar",
         "x": [
          "2012-11",
          "2012-12",
          "2013-01",
          "2013-02",
          "2013-03",
          "2013-04",
          "2013-05",
          "2013-06",
          "2013-07",
          "2013-08",
          "2013-09",
          "2013-10",
          "2013-11",
          "2013-12",
          "2014-01",
          "2014-02",
          "2014-03",
          "2014-04",
          "2014-05",
          "2014-06",
          "2014-07",
          "2014-08",
          "2014-09",
          "2014-10",
          "2014-11",
          "2014-12",
          "2015-01",
          "2015-02",
          "2015-03",
          "2015-04",
          "2015-05",
          "2015-06",
          "2015-07",
          "2015-08",
          "2015-09",
          "2015-10",
          "2015-11",
          "2015-12",
          "2016-01",
          "2016-02",
          "2016-03",
          "2016-04",
          "2016-05",
          "2016-06",
          "2016-07",
          "2016-08",
          "2016-09",
          "2016-10",
          "2016-11",
          "2016-12",
          "2017-01",
          "2017-02",
          "2017-03",
          "2017-04",
          "2017-05",
          "2017-06",
          "2017-07",
          "2017-08",
          "2017-09",
          "2017-10",
          "2017-11",
          "2017-12",
          "2018-01",
          "2018-02",
          "2018-03",
          "2018-04",
          "2018-05",
          "2018-06",
          "2018-07"
         ],
         "y": [
          7,
          3,
          5,
          8,
          19,
          31,
          33,
          24,
          17,
          21,
          10,
          10,
          10,
          11,
          13,
          14,
          10,
          13,
          11,
          4,
          5,
          7,
          13,
          10,
          10,
          10,
          7,
          5,
          8,
          7,
          6,
          10,
          7,
          9,
          4,
          8,
          3,
          5,
          3,
          15,
          7,
          3,
          4,
          8,
          6,
          4,
          7,
          8,
          7,
          3,
          10,
          10,
          12,
          9,
          8,
          12,
          9,
          11,
          9,
          4,
          29,
          6,
          10,
          10,
          21,
          4,
          9,
          9,
          4
         ]
        }
       ],
       "layout": {}
      },
      "text/html": [
       "<div id=\"740b0f4b-aa8e-4492-bbb6-c7eb31d1a147\" style=\"height: 525px; width: 100%;\" class=\"plotly-graph-div\"></div><script type=\"text/javascript\">require([\"plotly\"], function(Plotly) { window.PLOTLYENV=window.PLOTLYENV || {};window.PLOTLYENV.BASE_URL=\"https://plot.ly\";Plotly.newPlot(\"740b0f4b-aa8e-4492-bbb6-c7eb31d1a147\", [{\"type\": \"bar\", \"x\": [\"2012-11\", \"2012-12\", \"2013-01\", \"2013-02\", \"2013-03\", \"2013-04\", \"2013-05\", \"2013-06\", \"2013-07\", \"2013-08\", \"2013-09\", \"2013-10\", \"2013-11\", \"2013-12\", \"2014-01\", \"2014-02\", \"2014-03\", \"2014-04\", \"2014-05\", \"2014-06\", \"2014-07\", \"2014-08\", \"2014-09\", \"2014-10\", \"2014-11\", \"2014-12\", \"2015-01\", \"2015-02\", \"2015-03\", \"2015-04\", \"2015-05\", \"2015-06\", \"2015-07\", \"2015-08\", \"2015-09\", \"2015-10\", \"2015-11\", \"2015-12\", \"2016-01\", \"2016-02\", \"2016-03\", \"2016-04\", \"2016-05\", \"2016-06\", \"2016-07\", \"2016-08\", \"2016-09\", \"2016-10\", \"2016-11\", \"2016-12\", \"2017-01\", \"2017-02\", \"2017-03\", \"2017-04\", \"2017-05\", \"2017-06\", \"2017-07\", \"2017-08\", \"2017-09\", \"2017-10\", \"2017-11\", \"2017-12\", \"2018-01\", \"2018-02\", \"2018-03\", \"2018-04\", \"2018-05\", \"2018-06\", \"2018-07\"], \"y\": [7, 3, 5, 8, 19, 31, 33, 24, 17, 21, 10, 10, 10, 11, 13, 14, 10, 13, 11, 4, 5, 7, 13, 10, 10, 10, 7, 5, 8, 7, 6, 10, 7, 9, 4, 8, 3, 5, 3, 15, 7, 3, 4, 8, 6, 4, 7, 8, 7, 3, 10, 10, 12, 9, 8, 12, 9, 11, 9, 4, 29, 6, 10, 10, 21, 4, 9, 9, 4], \"marker\": {\"color\": \"rgb(235,173,104)\", \"line\": {\"color\": \"rgb(185,125,54)\", \"width\": 1.5}}, \"opacity\": 0.8}], {}, {\"showLink\": true, \"linkText\": \"Export to plot.ly\"})});</script>"
      ],
      "text/vnd.plotly.v1+html": [
       "<div id=\"740b0f4b-aa8e-4492-bbb6-c7eb31d1a147\" style=\"height: 525px; width: 100%;\" class=\"plotly-graph-div\"></div><script type=\"text/javascript\">require([\"plotly\"], function(Plotly) { window.PLOTLYENV=window.PLOTLYENV || {};window.PLOTLYENV.BASE_URL=\"https://plot.ly\";Plotly.newPlot(\"740b0f4b-aa8e-4492-bbb6-c7eb31d1a147\", [{\"type\": \"bar\", \"x\": [\"2012-11\", \"2012-12\", \"2013-01\", \"2013-02\", \"2013-03\", \"2013-04\", \"2013-05\", \"2013-06\", \"2013-07\", \"2013-08\", \"2013-09\", \"2013-10\", \"2013-11\", \"2013-12\", \"2014-01\", \"2014-02\", \"2014-03\", \"2014-04\", \"2014-05\", \"2014-06\", \"2014-07\", \"2014-08\", \"2014-09\", \"2014-10\", \"2014-11\", \"2014-12\", \"2015-01\", \"2015-02\", \"2015-03\", \"2015-04\", \"2015-05\", \"2015-06\", \"2015-07\", \"2015-08\", \"2015-09\", \"2015-10\", \"2015-11\", \"2015-12\", \"2016-01\", \"2016-02\", \"2016-03\", \"2016-04\", \"2016-05\", \"2016-06\", \"2016-07\", \"2016-08\", \"2016-09\", \"2016-10\", \"2016-11\", \"2016-12\", \"2017-01\", \"2017-02\", \"2017-03\", \"2017-04\", \"2017-05\", \"2017-06\", \"2017-07\", \"2017-08\", \"2017-09\", \"2017-10\", \"2017-11\", \"2017-12\", \"2018-01\", \"2018-02\", \"2018-03\", \"2018-04\", \"2018-05\", \"2018-06\", \"2018-07\"], \"y\": [7, 3, 5, 8, 19, 31, 33, 24, 17, 21, 10, 10, 10, 11, 13, 14, 10, 13, 11, 4, 5, 7, 13, 10, 10, 10, 7, 5, 8, 7, 6, 10, 7, 9, 4, 8, 3, 5, 3, 15, 7, 3, 4, 8, 6, 4, 7, 8, 7, 3, 10, 10, 12, 9, 8, 12, 9, 11, 9, 4, 29, 6, 10, 10, 21, 4, 9, 9, 4], \"marker\": {\"color\": \"rgb(235,173,104)\", \"line\": {\"color\": \"rgb(185,125,54)\", \"width\": 1.5}}, \"opacity\": 0.8}], {}, {\"showLink\": true, \"linkText\": \"Export to plot.ly\"})});</script>"
      ]
     },
     "metadata": {},
     "output_type": "display_data"
    }
   ],
   "source": [
    "Analyser.plot_distribution_over_time(\n",
    "    '''\n",
    "    SELECT closed_at \n",
    "    FROM requests_for_permissions \n",
    "    WHERE closed_at <> ''\n",
    "    AND closed_at NOT NULL\n",
    "    ORDER BY closed_at\n",
    "    ''')"
   ]
  },
  {
   "cell_type": "markdown",
   "metadata": {},
   "source": [
    "#### Distribution of successful request for permission\n",
    "\n",
    "This shows the distribution of successful request for permission over time. As reference point for the time the date when the request for permission was closed is taken."
   ]
  },
  {
   "cell_type": "code",
   "execution_count": 42,
   "metadata": {
    "collapsed": false
   },
   "outputs": [
    {
     "data": {
      "application/vnd.plotly.v1+json": {
       "data": [
        {
         "marker": {
          "color": "rgb(235,173,104)",
          "line": {
           "color": "rgb(185,125,54)",
           "width": 1.5
          }
         },
         "opacity": 0.8,
         "type": "bar",
         "x": [
          "2012-11",
          "2012-12",
          "2013-01",
          "2013-02",
          "2013-03",
          "2013-04",
          "2013-05",
          "2013-06",
          "2013-07",
          "2013-08",
          "2013-09",
          "2013-10",
          "2013-11",
          "2013-12",
          "2014-01",
          "2014-02",
          "2014-03",
          "2014-04",
          "2014-05",
          "2014-06",
          "2014-07",
          "2014-08",
          "2014-09",
          "2014-10",
          "2014-11",
          "2014-12",
          "2015-01",
          "2015-02",
          "2015-03",
          "2015-04",
          "2015-05",
          "2015-06",
          "2015-07",
          "2015-08",
          "2015-09",
          "2015-10",
          "2015-11",
          "2015-12",
          "2016-01",
          "2016-02",
          "2016-03",
          "2016-04",
          "2016-05",
          "2016-06",
          "2016-07",
          "2016-08",
          "2016-09",
          "2016-10",
          "2016-11",
          "2016-12",
          "2017-01",
          "2017-02",
          "2017-03",
          "2017-04",
          "2017-05",
          "2017-06",
          "2017-07",
          "2017-08",
          "2017-09",
          "2017-10",
          "2017-11",
          "2017-12",
          "2018-01",
          "2018-02",
          "2018-03",
          "2018-04",
          "2018-05",
          "2018-06",
          "2018-07"
         ],
         "y": [
          6,
          3,
          3,
          7,
          17,
          27,
          31,
          23,
          15,
          17,
          9,
          10,
          10,
          7,
          13,
          14,
          5,
          12,
          10,
          4,
          5,
          6,
          13,
          8,
          7,
          10,
          7,
          5,
          5,
          7,
          6,
          9,
          7,
          9,
          4,
          8,
          3,
          4,
          3,
          10,
          7,
          3,
          4,
          8,
          6,
          4,
          7,
          8,
          6,
          2,
          10,
          9,
          11,
          6,
          7,
          9,
          7,
          10,
          7,
          4,
          29,
          6,
          6,
          6,
          11,
          4,
          8,
          8,
          4
         ]
        }
       ],
       "layout": {}
      },
      "text/html": [
       "<div id=\"0c2ed048-dba2-4c56-a92d-b7b00198a96a\" style=\"height: 525px; width: 100%;\" class=\"plotly-graph-div\"></div><script type=\"text/javascript\">require([\"plotly\"], function(Plotly) { window.PLOTLYENV=window.PLOTLYENV || {};window.PLOTLYENV.BASE_URL=\"https://plot.ly\";Plotly.newPlot(\"0c2ed048-dba2-4c56-a92d-b7b00198a96a\", [{\"type\": \"bar\", \"x\": [\"2012-11\", \"2012-12\", \"2013-01\", \"2013-02\", \"2013-03\", \"2013-04\", \"2013-05\", \"2013-06\", \"2013-07\", \"2013-08\", \"2013-09\", \"2013-10\", \"2013-11\", \"2013-12\", \"2014-01\", \"2014-02\", \"2014-03\", \"2014-04\", \"2014-05\", \"2014-06\", \"2014-07\", \"2014-08\", \"2014-09\", \"2014-10\", \"2014-11\", \"2014-12\", \"2015-01\", \"2015-02\", \"2015-03\", \"2015-04\", \"2015-05\", \"2015-06\", \"2015-07\", \"2015-08\", \"2015-09\", \"2015-10\", \"2015-11\", \"2015-12\", \"2016-01\", \"2016-02\", \"2016-03\", \"2016-04\", \"2016-05\", \"2016-06\", \"2016-07\", \"2016-08\", \"2016-09\", \"2016-10\", \"2016-11\", \"2016-12\", \"2017-01\", \"2017-02\", \"2017-03\", \"2017-04\", \"2017-05\", \"2017-06\", \"2017-07\", \"2017-08\", \"2017-09\", \"2017-10\", \"2017-11\", \"2017-12\", \"2018-01\", \"2018-02\", \"2018-03\", \"2018-04\", \"2018-05\", \"2018-06\", \"2018-07\"], \"y\": [6, 3, 3, 7, 17, 27, 31, 23, 15, 17, 9, 10, 10, 7, 13, 14, 5, 12, 10, 4, 5, 6, 13, 8, 7, 10, 7, 5, 5, 7, 6, 9, 7, 9, 4, 8, 3, 4, 3, 10, 7, 3, 4, 8, 6, 4, 7, 8, 6, 2, 10, 9, 11, 6, 7, 9, 7, 10, 7, 4, 29, 6, 6, 6, 11, 4, 8, 8, 4], \"marker\": {\"color\": \"rgb(235,173,104)\", \"line\": {\"color\": \"rgb(185,125,54)\", \"width\": 1.5}}, \"opacity\": 0.8}], {}, {\"showLink\": true, \"linkText\": \"Export to plot.ly\"})});</script>"
      ],
      "text/vnd.plotly.v1+html": [
       "<div id=\"0c2ed048-dba2-4c56-a92d-b7b00198a96a\" style=\"height: 525px; width: 100%;\" class=\"plotly-graph-div\"></div><script type=\"text/javascript\">require([\"plotly\"], function(Plotly) { window.PLOTLYENV=window.PLOTLYENV || {};window.PLOTLYENV.BASE_URL=\"https://plot.ly\";Plotly.newPlot(\"0c2ed048-dba2-4c56-a92d-b7b00198a96a\", [{\"type\": \"bar\", \"x\": [\"2012-11\", \"2012-12\", \"2013-01\", \"2013-02\", \"2013-03\", \"2013-04\", \"2013-05\", \"2013-06\", \"2013-07\", \"2013-08\", \"2013-09\", \"2013-10\", \"2013-11\", \"2013-12\", \"2014-01\", \"2014-02\", \"2014-03\", \"2014-04\", \"2014-05\", \"2014-06\", \"2014-07\", \"2014-08\", \"2014-09\", \"2014-10\", \"2014-11\", \"2014-12\", \"2015-01\", \"2015-02\", \"2015-03\", \"2015-04\", \"2015-05\", \"2015-06\", \"2015-07\", \"2015-08\", \"2015-09\", \"2015-10\", \"2015-11\", \"2015-12\", \"2016-01\", \"2016-02\", \"2016-03\", \"2016-04\", \"2016-05\", \"2016-06\", \"2016-07\", \"2016-08\", \"2016-09\", \"2016-10\", \"2016-11\", \"2016-12\", \"2017-01\", \"2017-02\", \"2017-03\", \"2017-04\", \"2017-05\", \"2017-06\", \"2017-07\", \"2017-08\", \"2017-09\", \"2017-10\", \"2017-11\", \"2017-12\", \"2018-01\", \"2018-02\", \"2018-03\", \"2018-04\", \"2018-05\", \"2018-06\", \"2018-07\"], \"y\": [6, 3, 3, 7, 17, 27, 31, 23, 15, 17, 9, 10, 10, 7, 13, 14, 5, 12, 10, 4, 5, 6, 13, 8, 7, 10, 7, 5, 5, 7, 6, 9, 7, 9, 4, 8, 3, 4, 3, 10, 7, 3, 4, 8, 6, 4, 7, 8, 6, 2, 10, 9, 11, 6, 7, 9, 7, 10, 7, 4, 29, 6, 6, 6, 11, 4, 8, 8, 4], \"marker\": {\"color\": \"rgb(235,173,104)\", \"line\": {\"color\": \"rgb(185,125,54)\", \"width\": 1.5}}, \"opacity\": 0.8}], {}, {\"showLink\": true, \"linkText\": \"Export to plot.ly\"})});</script>"
      ]
     },
     "metadata": {},
     "output_type": "display_data"
    }
   ],
   "source": [
    "Analyser.plot_distribution_over_time(\n",
    "    '''\n",
    "    SELECT closed_at \n",
    "    FROM requests_for_permissions \n",
    "    WHERE is_successful = 1 \n",
    "    AND closed_at <> '' \n",
    "    AND closed_at NOT NULL\n",
    "    ORDER BY closed_at\n",
    "    ''')"
   ]
  },
  {
   "cell_type": "markdown",
   "metadata": {},
   "source": [
    "#### Distribution of unsuccessful request for permission\n",
    "\n",
    "This shows the distribution of unsuccessful request for permission over time. As reference point for the time the date when the request for permission was closed is taken."
   ]
  },
  {
   "cell_type": "code",
   "execution_count": 43,
   "metadata": {
    "collapsed": false
   },
   "outputs": [
    {
     "data": {
      "application/vnd.plotly.v1+json": {
       "data": [
        {
         "marker": {
          "color": "rgb(235,173,104)",
          "line": {
           "color": "rgb(185,125,54)",
           "width": 1.5
          }
         },
         "opacity": 0.8,
         "type": "bar",
         "x": [
          "2012-11",
          "2012-12",
          "2013-01",
          "2013-02",
          "2013-03",
          "2013-04",
          "2013-05",
          "2013-06",
          "2013-07",
          "2013-08",
          "2013-09",
          "2013-10",
          "2013-11",
          "2013-12",
          "2014-01",
          "2014-02",
          "2014-03",
          "2014-04",
          "2014-05",
          "2014-06",
          "2014-07",
          "2014-08",
          "2014-09",
          "2014-10",
          "2014-11",
          "2014-12",
          "2015-01",
          "2015-02",
          "2015-03",
          "2015-04",
          "2015-05",
          "2015-06",
          "2015-07",
          "2015-08",
          "2015-09",
          "2015-10",
          "2015-11",
          "2015-12",
          "2016-01",
          "2016-02",
          "2016-03",
          "2016-04",
          "2016-05",
          "2016-06",
          "2016-07",
          "2016-08",
          "2016-09",
          "2016-10",
          "2016-11",
          "2016-12",
          "2017-01",
          "2017-02",
          "2017-03",
          "2017-04",
          "2017-05",
          "2017-06",
          "2017-07",
          "2017-08",
          "2017-09",
          "2017-10",
          "2017-11",
          "2017-12",
          "2018-01",
          "2018-02",
          "2018-03",
          "2018-04",
          "2018-05",
          "2018-06"
         ],
         "y": [
          1,
          0,
          2,
          1,
          2,
          4,
          2,
          1,
          2,
          4,
          1,
          0,
          0,
          4,
          0,
          0,
          5,
          1,
          1,
          0,
          0,
          1,
          0,
          2,
          3,
          0,
          0,
          0,
          3,
          0,
          0,
          1,
          0,
          0,
          0,
          0,
          0,
          1,
          0,
          5,
          0,
          0,
          0,
          0,
          0,
          0,
          0,
          0,
          1,
          1,
          0,
          1,
          1,
          3,
          1,
          3,
          2,
          1,
          2,
          0,
          0,
          0,
          4,
          4,
          10,
          0,
          1,
          1
         ]
        }
       ],
       "layout": {}
      },
      "text/html": [
       "<div id=\"4ee3a161-2309-46d7-ab94-b30b68c5ae8b\" style=\"height: 525px; width: 100%;\" class=\"plotly-graph-div\"></div><script type=\"text/javascript\">require([\"plotly\"], function(Plotly) { window.PLOTLYENV=window.PLOTLYENV || {};window.PLOTLYENV.BASE_URL=\"https://plot.ly\";Plotly.newPlot(\"4ee3a161-2309-46d7-ab94-b30b68c5ae8b\", [{\"type\": \"bar\", \"x\": [\"2012-11\", \"2012-12\", \"2013-01\", \"2013-02\", \"2013-03\", \"2013-04\", \"2013-05\", \"2013-06\", \"2013-07\", \"2013-08\", \"2013-09\", \"2013-10\", \"2013-11\", \"2013-12\", \"2014-01\", \"2014-02\", \"2014-03\", \"2014-04\", \"2014-05\", \"2014-06\", \"2014-07\", \"2014-08\", \"2014-09\", \"2014-10\", \"2014-11\", \"2014-12\", \"2015-01\", \"2015-02\", \"2015-03\", \"2015-04\", \"2015-05\", \"2015-06\", \"2015-07\", \"2015-08\", \"2015-09\", \"2015-10\", \"2015-11\", \"2015-12\", \"2016-01\", \"2016-02\", \"2016-03\", \"2016-04\", \"2016-05\", \"2016-06\", \"2016-07\", \"2016-08\", \"2016-09\", \"2016-10\", \"2016-11\", \"2016-12\", \"2017-01\", \"2017-02\", \"2017-03\", \"2017-04\", \"2017-05\", \"2017-06\", \"2017-07\", \"2017-08\", \"2017-09\", \"2017-10\", \"2017-11\", \"2017-12\", \"2018-01\", \"2018-02\", \"2018-03\", \"2018-04\", \"2018-05\", \"2018-06\"], \"y\": [1, 0, 2, 1, 2, 4, 2, 1, 2, 4, 1, 0, 0, 4, 0, 0, 5, 1, 1, 0, 0, 1, 0, 2, 3, 0, 0, 0, 3, 0, 0, 1, 0, 0, 0, 0, 0, 1, 0, 5, 0, 0, 0, 0, 0, 0, 0, 0, 1, 1, 0, 1, 1, 3, 1, 3, 2, 1, 2, 0, 0, 0, 4, 4, 10, 0, 1, 1], \"marker\": {\"color\": \"rgb(235,173,104)\", \"line\": {\"color\": \"rgb(185,125,54)\", \"width\": 1.5}}, \"opacity\": 0.8}], {}, {\"showLink\": true, \"linkText\": \"Export to plot.ly\"})});</script>"
      ],
      "text/vnd.plotly.v1+html": [
       "<div id=\"4ee3a161-2309-46d7-ab94-b30b68c5ae8b\" style=\"height: 525px; width: 100%;\" class=\"plotly-graph-div\"></div><script type=\"text/javascript\">require([\"plotly\"], function(Plotly) { window.PLOTLYENV=window.PLOTLYENV || {};window.PLOTLYENV.BASE_URL=\"https://plot.ly\";Plotly.newPlot(\"4ee3a161-2309-46d7-ab94-b30b68c5ae8b\", [{\"type\": \"bar\", \"x\": [\"2012-11\", \"2012-12\", \"2013-01\", \"2013-02\", \"2013-03\", \"2013-04\", \"2013-05\", \"2013-06\", \"2013-07\", \"2013-08\", \"2013-09\", \"2013-10\", \"2013-11\", \"2013-12\", \"2014-01\", \"2014-02\", \"2014-03\", \"2014-04\", \"2014-05\", \"2014-06\", \"2014-07\", \"2014-08\", \"2014-09\", \"2014-10\", \"2014-11\", \"2014-12\", \"2015-01\", \"2015-02\", \"2015-03\", \"2015-04\", \"2015-05\", \"2015-06\", \"2015-07\", \"2015-08\", \"2015-09\", \"2015-10\", \"2015-11\", \"2015-12\", \"2016-01\", \"2016-02\", \"2016-03\", \"2016-04\", \"2016-05\", \"2016-06\", \"2016-07\", \"2016-08\", \"2016-09\", \"2016-10\", \"2016-11\", \"2016-12\", \"2017-01\", \"2017-02\", \"2017-03\", \"2017-04\", \"2017-05\", \"2017-06\", \"2017-07\", \"2017-08\", \"2017-09\", \"2017-10\", \"2017-11\", \"2017-12\", \"2018-01\", \"2018-02\", \"2018-03\", \"2018-04\", \"2018-05\", \"2018-06\"], \"y\": [1, 0, 2, 1, 2, 4, 2, 1, 2, 4, 1, 0, 0, 4, 0, 0, 5, 1, 1, 0, 0, 1, 0, 2, 3, 0, 0, 0, 3, 0, 0, 1, 0, 0, 0, 0, 0, 1, 0, 5, 0, 0, 0, 0, 0, 0, 0, 0, 1, 1, 0, 1, 1, 3, 1, 3, 2, 1, 2, 0, 0, 0, 4, 4, 10, 0, 1, 1], \"marker\": {\"color\": \"rgb(235,173,104)\", \"line\": {\"color\": \"rgb(185,125,54)\", \"width\": 1.5}}, \"opacity\": 0.8}], {}, {\"showLink\": true, \"linkText\": \"Export to plot.ly\"})});</script>"
      ]
     },
     "metadata": {},
     "output_type": "display_data"
    }
   ],
   "source": [
    "Analyser.plot_distribution_over_time(\n",
    "    '''\n",
    "    SELECT closed_at \n",
    "    FROM requests_for_permissions \n",
    "    WHERE is_successful = 0 \n",
    "    AND closed_at <> ''\n",
    "    AND closed_at NOT NULL\n",
    "    ORDER BY closed_at\n",
    "    ''')"
   ]
  },
  {
   "cell_type": "markdown",
   "metadata": {},
   "source": [
    "#### Requests for permissions where closed_at is not set\n",
    "\n",
    "TODO: Check why that happens."
   ]
  },
  {
   "cell_type": "code",
   "execution_count": 123,
   "metadata": {
    "collapsed": false
   },
   "outputs": [],
   "source": [
    "# Analyser.print_request_for_permission_without_closed_at()"
   ]
  },
  {
   "cell_type": "markdown",
   "metadata": {},
   "source": [
    "#### Distribution of editor count\n",
    "\n",
    "This shows the distribution of editor count per request for permission. The editor count represents the number of different users who edited the request for permission."
   ]
  },
  {
   "cell_type": "code",
   "execution_count": 46,
   "metadata": {
    "collapsed": false
   },
   "outputs": [
    {
     "data": {
      "application/vnd.plotly.v1+json": {
       "data": [
        {
         "marker": {
          "color": "rgb(235,173,104)",
          "line": {
           "color": "rgb(185,125,54)",
           "width": 1.5
          }
         },
         "opacity": 0.8,
         "type": "bar",
         "x": [
          1,
          2,
          3,
          4,
          5,
          6,
          7,
          8,
          9,
          10,
          11,
          12,
          13,
          14,
          15,
          16,
          17,
          18,
          19,
          20,
          21
         ],
         "y": [
          17,
          18,
          182,
          173,
          116,
          59,
          32,
          24,
          16,
          11,
          8,
          5,
          3,
          2,
          1,
          2,
          1,
          0,
          6,
          0,
          2
         ]
        }
       ],
       "layout": {}
      },
      "text/html": [
       "<div id=\"da0aea65-beac-409c-9116-a4613d89e4d2\" style=\"height: 525px; width: 100%;\" class=\"plotly-graph-div\"></div><script type=\"text/javascript\">require([\"plotly\"], function(Plotly) { window.PLOTLYENV=window.PLOTLYENV || {};window.PLOTLYENV.BASE_URL=\"https://plot.ly\";Plotly.newPlot(\"da0aea65-beac-409c-9116-a4613d89e4d2\", [{\"type\": \"bar\", \"x\": [1, 2, 3, 4, 5, 6, 7, 8, 9, 10, 11, 12, 13, 14, 15, 16, 17, 18, 19, 20, 21], \"y\": [17, 18, 182, 173, 116, 59, 32, 24, 16, 11, 8, 5, 3, 2, 1, 2, 1, 0, 6, 0, 2], \"marker\": {\"color\": \"rgb(235,173,104)\", \"line\": {\"color\": \"rgb(185,125,54)\", \"width\": 1.5}}, \"opacity\": 0.8}], {}, {\"showLink\": true, \"linkText\": \"Export to plot.ly\"})});</script>"
      ],
      "text/vnd.plotly.v1+html": [
       "<div id=\"da0aea65-beac-409c-9116-a4613d89e4d2\" style=\"height: 525px; width: 100%;\" class=\"plotly-graph-div\"></div><script type=\"text/javascript\">require([\"plotly\"], function(Plotly) { window.PLOTLYENV=window.PLOTLYENV || {};window.PLOTLYENV.BASE_URL=\"https://plot.ly\";Plotly.newPlot(\"da0aea65-beac-409c-9116-a4613d89e4d2\", [{\"type\": \"bar\", \"x\": [1, 2, 3, 4, 5, 6, 7, 8, 9, 10, 11, 12, 13, 14, 15, 16, 17, 18, 19, 20, 21], \"y\": [17, 18, 182, 173, 116, 59, 32, 24, 16, 11, 8, 5, 3, 2, 1, 2, 1, 0, 6, 0, 2], \"marker\": {\"color\": \"rgb(235,173,104)\", \"line\": {\"color\": \"rgb(185,125,54)\", \"width\": 1.5}}, \"opacity\": 0.8}], {}, {\"showLink\": true, \"linkText\": \"Export to plot.ly\"})});</script>"
      ]
     },
     "metadata": {},
     "output_type": "display_data"
    }
   ],
   "source": [
    "Analyser.plot_distribution(\n",
    "    '''\n",
    "    SELECT editor_count, COUNT(*)\n",
    "    FROM requests_for_permissions\n",
    "    WHERE editor_count NOT NULL\n",
    "    GROUP BY editor_count\n",
    "    ''')"
   ]
  },
  {
   "cell_type": "markdown",
   "metadata": {},
   "source": [
    "List urls of requests for permissions ordered by their editor count."
   ]
  },
  {
   "cell_type": "code",
   "execution_count": 105,
   "metadata": {
    "collapsed": false
   },
   "outputs": [],
   "source": [
    "# Analyser.print_editor_count()"
   ]
  },
  {
   "cell_type": "markdown",
   "metadata": {},
   "source": [
    "#### Distribution of editor count with a successful request for permission"
   ]
  },
  {
   "cell_type": "code",
   "execution_count": 45,
   "metadata": {
    "collapsed": false
   },
   "outputs": [
    {
     "data": {
      "application/vnd.plotly.v1+json": {
       "data": [
        {
         "marker": {
          "color": "rgb(235,173,104)",
          "line": {
           "color": "rgb(185,125,54)",
           "width": 1.5
          }
         },
         "opacity": 0.8,
         "type": "bar",
         "x": [
          1,
          2,
          3,
          4,
          5,
          6,
          7,
          8,
          9,
          10,
          11,
          12,
          13,
          14,
          15,
          16,
          17,
          18,
          19,
          20,
          21
         ],
         "y": [
          12,
          15,
          174,
          163,
          100,
          47,
          23,
          18,
          15,
          6,
          6,
          4,
          2,
          2,
          1,
          1,
          1,
          0,
          5,
          0,
          1
         ]
        }
       ],
       "layout": {}
      },
      "text/html": [
       "<div id=\"d9eb1e43-0989-47e6-befa-287136c810d4\" style=\"height: 525px; width: 100%;\" class=\"plotly-graph-div\"></div><script type=\"text/javascript\">require([\"plotly\"], function(Plotly) { window.PLOTLYENV=window.PLOTLYENV || {};window.PLOTLYENV.BASE_URL=\"https://plot.ly\";Plotly.newPlot(\"d9eb1e43-0989-47e6-befa-287136c810d4\", [{\"type\": \"bar\", \"x\": [1, 2, 3, 4, 5, 6, 7, 8, 9, 10, 11, 12, 13, 14, 15, 16, 17, 18, 19, 20, 21], \"y\": [12, 15, 174, 163, 100, 47, 23, 18, 15, 6, 6, 4, 2, 2, 1, 1, 1, 0, 5, 0, 1], \"marker\": {\"color\": \"rgb(235,173,104)\", \"line\": {\"color\": \"rgb(185,125,54)\", \"width\": 1.5}}, \"opacity\": 0.8}], {}, {\"showLink\": true, \"linkText\": \"Export to plot.ly\"})});</script>"
      ],
      "text/vnd.plotly.v1+html": [
       "<div id=\"d9eb1e43-0989-47e6-befa-287136c810d4\" style=\"height: 525px; width: 100%;\" class=\"plotly-graph-div\"></div><script type=\"text/javascript\">require([\"plotly\"], function(Plotly) { window.PLOTLYENV=window.PLOTLYENV || {};window.PLOTLYENV.BASE_URL=\"https://plot.ly\";Plotly.newPlot(\"d9eb1e43-0989-47e6-befa-287136c810d4\", [{\"type\": \"bar\", \"x\": [1, 2, 3, 4, 5, 6, 7, 8, 9, 10, 11, 12, 13, 14, 15, 16, 17, 18, 19, 20, 21], \"y\": [12, 15, 174, 163, 100, 47, 23, 18, 15, 6, 6, 4, 2, 2, 1, 1, 1, 0, 5, 0, 1], \"marker\": {\"color\": \"rgb(235,173,104)\", \"line\": {\"color\": \"rgb(185,125,54)\", \"width\": 1.5}}, \"opacity\": 0.8}], {}, {\"showLink\": true, \"linkText\": \"Export to plot.ly\"})});</script>"
      ]
     },
     "metadata": {},
     "output_type": "display_data"
    }
   ],
   "source": [
    "Analyser.plot_distribution(\n",
    "    '''\n",
    "    SELECT editor_count, COUNT(*)\n",
    "    FROM requests_for_permissions\n",
    "    WHERE editor_count NOT NULL\n",
    "    AND is_successful = 1\n",
    "    GROUP BY editor_count\n",
    "    ''')"
   ]
  },
  {
   "cell_type": "markdown",
   "metadata": {},
   "source": [
    "List urls of succesful requests for permissions ordered by their editor count."
   ]
  },
  {
   "cell_type": "code",
   "execution_count": 107,
   "metadata": {
    "collapsed": false
   },
   "outputs": [],
   "source": [
    "# Analyser.print_editor_count(mode='successful')"
   ]
  },
  {
   "cell_type": "code",
   "execution_count": 44,
   "metadata": {
    "collapsed": false
   },
   "outputs": [
    {
     "data": {
      "application/vnd.plotly.v1+json": {
       "data": [
        {
         "marker": {
          "color": "rgb(235,173,104)",
          "line": {
           "color": "rgb(185,125,54)",
           "width": 1.5
          }
         },
         "opacity": 0.8,
         "type": "bar",
         "x": [
          1,
          2,
          3,
          4,
          5,
          6,
          7,
          8,
          9,
          10,
          11,
          12,
          13,
          14,
          15,
          16,
          17,
          18,
          19,
          20,
          21
         ],
         "y": [
          5,
          3,
          8,
          10,
          16,
          12,
          9,
          6,
          1,
          5,
          2,
          1,
          1,
          0,
          0,
          1,
          0,
          0,
          1,
          0,
          1
         ]
        }
       ],
       "layout": {}
      },
      "text/html": [
       "<div id=\"d090eb24-553e-4320-b1c9-5ebf37786478\" style=\"height: 525px; width: 100%;\" class=\"plotly-graph-div\"></div><script type=\"text/javascript\">require([\"plotly\"], function(Plotly) { window.PLOTLYENV=window.PLOTLYENV || {};window.PLOTLYENV.BASE_URL=\"https://plot.ly\";Plotly.newPlot(\"d090eb24-553e-4320-b1c9-5ebf37786478\", [{\"type\": \"bar\", \"x\": [1, 2, 3, 4, 5, 6, 7, 8, 9, 10, 11, 12, 13, 14, 15, 16, 17, 18, 19, 20, 21], \"y\": [5, 3, 8, 10, 16, 12, 9, 6, 1, 5, 2, 1, 1, 0, 0, 1, 0, 0, 1, 0, 1], \"marker\": {\"color\": \"rgb(235,173,104)\", \"line\": {\"color\": \"rgb(185,125,54)\", \"width\": 1.5}}, \"opacity\": 0.8}], {}, {\"showLink\": true, \"linkText\": \"Export to plot.ly\"})});</script>"
      ],
      "text/vnd.plotly.v1+html": [
       "<div id=\"d090eb24-553e-4320-b1c9-5ebf37786478\" style=\"height: 525px; width: 100%;\" class=\"plotly-graph-div\"></div><script type=\"text/javascript\">require([\"plotly\"], function(Plotly) { window.PLOTLYENV=window.PLOTLYENV || {};window.PLOTLYENV.BASE_URL=\"https://plot.ly\";Plotly.newPlot(\"d090eb24-553e-4320-b1c9-5ebf37786478\", [{\"type\": \"bar\", \"x\": [1, 2, 3, 4, 5, 6, 7, 8, 9, 10, 11, 12, 13, 14, 15, 16, 17, 18, 19, 20, 21], \"y\": [5, 3, 8, 10, 16, 12, 9, 6, 1, 5, 2, 1, 1, 0, 0, 1, 0, 0, 1, 0, 1], \"marker\": {\"color\": \"rgb(235,173,104)\", \"line\": {\"color\": \"rgb(185,125,54)\", \"width\": 1.5}}, \"opacity\": 0.8}], {}, {\"showLink\": true, \"linkText\": \"Export to plot.ly\"})});</script>"
      ]
     },
     "metadata": {},
     "output_type": "display_data"
    }
   ],
   "source": [
    "Analyser.plot_distribution(\n",
    "    '''\n",
    "    SELECT editor_count, COUNT(*)\n",
    "    FROM requests_for_permissions\n",
    "    WHERE editor_count NOT NULL\n",
    "    AND is_successful = 0\n",
    "    GROUP BY editor_count\n",
    "    ''')"
   ]
  },
  {
   "cell_type": "markdown",
   "metadata": {},
   "source": [
    "List urls of succesful requests for permissions ordered by their editor count."
   ]
  },
  {
   "cell_type": "code",
   "execution_count": 110,
   "metadata": {
    "collapsed": false
   },
   "outputs": [],
   "source": [
    "# Analyser.print_editor_count(mode='unsuccessful')"
   ]
  },
  {
   "cell_type": "markdown",
   "metadata": {},
   "source": [
    "#### Requests for permissions where editor_count is not set\n",
    "\n",
    "TODO: Check why that happens."
   ]
  },
  {
   "cell_type": "code",
   "execution_count": 62,
   "metadata": {
    "collapsed": false
   },
   "outputs": [],
   "source": [
    "# Analyser.print_request_for_permission_without_editor_count()"
   ]
  },
  {
   "cell_type": "code",
   "execution_count": null,
   "metadata": {
    "collapsed": true
   },
   "outputs": [],
   "source": []
  }
 ],
 "metadata": {
  "kernelspec": {
   "display_name": "Python 3",
   "language": "python",
   "name": "python3"
  },
  "language_info": {
   "codemirror_mode": {
    "name": "ipython",
    "version": 3
   },
   "file_extension": ".py",
   "mimetype": "text/x-python",
   "name": "python",
   "nbconvert_exporter": "python",
   "pygments_lexer": "ipython3",
   "version": "3.6.0"
  }
 },
 "nbformat": 4,
 "nbformat_minor": 1
}
