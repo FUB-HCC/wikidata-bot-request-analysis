{
 "cells": [
  {
   "cell_type": "code",
   "execution_count": 136,
   "metadata": {},
   "outputs": [
    {
     "name": "stdout",
     "output_type": "stream",
     "text": [
      "The autoreload extension is already loaded. To reload it, use:\n",
      "  %reload_ext autoreload\n"
     ]
    }
   ],
   "source": [
    "import sqlite3\n",
    "import pandas as pd\n",
    "import matplotlib.pyplot as plt\n",
    "import matplotlib\n",
    "import pandas as pd\n",
    "import os\n",
    "import sys\n",
    "module_path = os.path.abspath(os.path.join('../src'))\n",
    "if module_path not in sys.path:\n",
    "    sys.path.append(module_path)\n",
    "%matplotlib inline\n",
    "%load_ext autoreload\n",
    "%autoreload 2\n",
    "\n",
    "from analyser import Analyser"
   ]
  },
  {
   "cell_type": "markdown",
   "metadata": {
    "collapsed": true
   },
   "source": [
    "# Documentation\n",
    "\n",
    "## Research Questions\n",
    "\n",
    "** Which contribution have bots to the quality of Wikidata? **\n",
    "* Which differences exist between bots which successfully completed the request for permission process and those who doesn't? (Hypothesis: The request for permission process is a quality gate for bots)\n",
    "* How does bot's field of activity change over time?\n",
    "* What is the difference between a bot with the group 'bot' and a bot with a botflag?\n",
    "\n",
    "\n",
    "## Data preparation\n",
    "### Request for permissions\n",
    "\n",
    "As a first step we downloaded and parsed the data about requests for permissions for bots from Wikidata in May 2018. We collected the already closed requests which can be found in the Wikidata archive (https://www.wikidata.org/wiki/Wikidata:Requests_for_permissions/Archive#Requests_for_bot_flags). The data is stored in a database.\n",
    "\n",
    "Request for permissions which have no own page were left out (e.g. https://www.wikidata.org/w/index.php?title=Wikidata:Requests_for_permissions/Bot/Checkallthestrings_bot_1&action=edit&redlink=1).\n",
    "\n",
    "Request for permissions which are listed several times in different archives were only parsed once (e.g. https://www.wikidata.org/wiki/Wikidata:Requests_for_permissions/Bot/VIAFbot is listes in https://www.wikidata.org/wiki/Wikidata:Requests_for_permissions/RfBot/March_2013 and in https://www.wikidata.org/wiki/Wikidata:Requests_for_permissions/RfBot/April_2013).\n",
    "\n",
    "## DB\n",
    "\n",
    "### Schema\n",
    "\n",
    "The db in which the requests for permissions are saved has the following schema as diagram:\n",
    "\n",
    "![DB schema](images/db_schema.png)\n",
    "\n",
    "and as ddl: \n",
    "\n",
    "```sql\n",
    "CREATE TABLE request_for_permission (\n",
    "    id                    INTEGER PRIMARY KEY AUTOINCREMENT NOT NULL,\n",
    "    url                   TEXT UNIQUE,\n",
    "    bot                   TEXT,\n",
    "    operator              TEXT,\n",
    "    is_successful         INTEGER,\n",
    "    first_edit            TEXT,\n",
    "    last_edit             TEXT,\n",
    "    closed_at             TEXT,\n",
    "    revision_count        INTEGER,\n",
    "    editor_count          INTEGER,\n",
    "    comment_symbol_count  INTEGER,\n",
    "    question_symbol_count INTEGER,\n",
    "    oppose_symbol_count   INTEGER,\n",
    "    answer_symbol_count   INTEGER,\n",
    "    support_symbol_count  INTEGER,\n",
    "    html                  TEXT,\n",
    "    task                  TEXT,\n",
    "    code                  TEXT,\n",
    "    function              TEXT,\n",
    "    archive_comment       TEXT,\n",
    "    summary               TEXT,\n",
    "    retrieved_at          DATE,\n",
    "    FOREIGN KEY(operator) REFERENCES operator(name)\n",
    ");\n",
    "CREATE TABLE bot (\n",
    "    name TEXT PRIMARY KEY NOT NULL\n",
    ");\n",
    "```\n",
    "\n",
    "### Tables\n",
    "\n",
    "The db fields for the tabel request_for_permission contains the following content:\n",
    "\n",
    "| column                | content explanation                                                                   |\n",
    "| ----------------------|:-------------------------------------------------------------------------------------:|\n",
    "| id                    | unique identifier                                                                     |\n",
    "| url                   | url of the request for permission                                                     |\n",
    "| bot                   | the wikidata user account for which the request for permission is for.                |\n",
    "| operator              | the wikidata user account which opend the request for permission and is responsible for the bot. |\n",
    "| is_successful         | flag which states if the request for permission was successful. 1 if it was successful and 0 if not     |\n",
    "| first_edit            | utc date and time when the first edit of this request for permission was made         |\n",
    "| last_edit             | utc date and time when the last edit of this request for permission was made          |\n",
    "| closed_at             | utc date and time when the request for permission was closed which is equvalent to the time when the summary was written |\n",
    "| revision_count        | count how many revisions were applied to the request for permission                   |\n",
    "| edit_count            | count how many distinct editors made revisons to the request for permission           |\n",
    "| comment_symbol_count  | count how often a comment symbol was used in the discussion of the request            |\n",
    "| question_symbol_count | count how often a question symbol was used in the discussion of the request           |\n",
    "| oppose_symbol_count   | count how often a oppose symbol was used in the discussion of the request             |\n",
    "| answer_symbol_count   | count how often a answer symbol was used in the discussion of the request             |\n",
    "| support_symbol_count  | count how often a support symbol was used in the discussion of the request            |\n",
    "| html                  | raw html of the site that can be found under the url. only the main part of the site is saved. |\n",
    "| task                  | short description of the bot function                                                 |\n",
    "| code                  | link to the online repository or other code describing text                           |\n",
    "| function              | detailed description of the bot function                                              |\n",
    "| archive_comment       | short comment why the request for permission was successful or not. Example can be found under the following link: https://www.wikidata.org/wiki/Wikidata:Requests_for_permissions/RfBot/April_2013 (see for example '(approved temporary)') |\n",
    "| summary               | summary about the discussion and the final decision about the request for permission   | \n",
    "| retrieved_at          | utc date and time when the data was retrived                                          |\n",
    "\n",
    "The db fields for the tabel bot contains the following content:\n",
    "\n",
    "| column                | content explanation                                                                   |\n",
    "| ----------------------|:-------------------------------------------------------------------------------------:|\n",
    "| name                  | name of the bot                                                                       |\n"
   ]
  },
  {
   "cell_type": "markdown",
   "metadata": {},
   "source": [
    "## Analysis\n",
    "\n",
    "### Analysis of Wikidata Bots\n",
    "\n",
    "This chapter aims to analyse the bots on wikidata. \n",
    "\n",
    "As a first step we try to find out which user accounts on Wikidata are bots. There are several sources that contain lists of bots or can help to detect them. None of them is complete. Therefore we fetched data from five different sources. The following table lists these sources and the number of contained bots.\n",
    "\n",
    "Note: The list is updateed manually thus disparities between this tables and the following results may occur! Last update: 28 May 2018"
   ]
  },
  {
   "cell_type": "markdown",
   "metadata": {},
   "source": [
    "| criteria                           | amount       | source               | output file          |\n",
    "| ---------------------------------- |:------------:|:--------------------:|:--------------------:|\n",
    "| number of users in the group 'bot' | 245 | MediaWiki API (Example URL: https://www.wikidata.org/w/api.php?action=query&list=allusers&augroup=bot) | data/parser/users_in_bot_group.csv |\n",
    "| number of bots that have a closed request for permission | 364 | [Requests for bot flags](https://www.wikidata.org/wiki/Wikidata:Requests_for_permissions/Archive#Requests_for_bot_flags ) | data/spiders/bots_with_requests_for_permissions.csv |\n",
    "| number of bots with a botflag     | 258 | [Bots with botflag](https://www.wikidata.org/wiki/Category:Bots_with_botflag) | data/spiders/bots_with_botflag.csv |\n",
    "| number of bots without a botflag  | 163 | [Bots without a botflag](https://www.wikidata.org/wiki/Category:Bots_without_botflag) | data/spiders/bots_without_botflag.csv |\n",
    "| number of extension bots           | 7 | [Extension bots](https://www.wikidata.org/wiki/Category:Extension_bots) | data/spiders/extension_bots.csv |"
   ]
  },
  {
   "cell_type": "markdown",
   "metadata": {},
   "source": [
    "The following statistics describe partially the same as the table before but instead of fetching the results from the csv files there are retrived from the db. If you want to see not only the count but the name of the bots you can uncomment the line ```python # print(bots) ``` and you will see all names."
   ]
  },
  {
   "cell_type": "code",
   "execution_count": 5,
   "metadata": {},
   "outputs": [],
   "source": [
    "db_file = '../db/wikidata_bot_requests_for_permissions.db'\n",
    "conn = sqlite3.connect(db_file)\n",
    "cursor = conn.cursor()"
   ]
  },
  {
   "cell_type": "code",
   "execution_count": 3,
   "metadata": {},
   "outputs": [],
   "source": [
    "index = ['b_f', 'no_b_f', 'ex_b', 'group', 'request', 's_request', 'u_request', 'sum']\n",
    "df = pd.DataFrame(index=index, columns=index)"
   ]
  },
  {
   "cell_type": "markdown",
   "metadata": {},
   "source": [
    "The following describe the number and names of bots with a botflag."
   ]
  },
  {
   "cell_type": "code",
   "execution_count": 4,
   "metadata": {},
   "outputs": [],
   "source": [
    "sql = \"SELECT DISTINCT(bots.name) FROM bots WHERE has_botflag = 1\"\n",
    "result = cursor.execute(sql)\n",
    "\n",
    "bots = []\n",
    "for item in result:\n",
    "    bots.append(item[0])\n",
    "df['b_f']['b_f'] = len(bots)\n",
    "# print(bots)"
   ]
  },
  {
   "cell_type": "markdown",
   "metadata": {},
   "source": [
    "The following describe the number names of bots without a botflag"
   ]
  },
  {
   "cell_type": "code",
   "execution_count": 5,
   "metadata": {},
   "outputs": [],
   "source": [
    "sql = \"SELECT DISTINCT(bots.name) FROM bots WHERE has_botflag = 0\"\n",
    "result = cursor.execute(sql)\n",
    "    \n",
    "bots = []\n",
    "for item in result:\n",
    "    bots.append(item[0])\n",
    "df['no_b_f']['no_b_f'] = len(bots)\n",
    "# print(bots)"
   ]
  },
  {
   "cell_type": "markdown",
   "metadata": {},
   "source": [
    "The following describe the number and names of extension bots "
   ]
  },
  {
   "cell_type": "code",
   "execution_count": 6,
   "metadata": {},
   "outputs": [],
   "source": [
    "sql = \"SELECT DISTINCT(bots.name) FROM bots WHERE is_extension_bot = 1\"\n",
    "result = cursor.execute(sql)\n",
    "\n",
    "bots = []\n",
    "for item in result:\n",
    "    bots.append(item[0])\n",
    "df['ex_b']['ex_b'] = len(bots)\n",
    "# print(bots)"
   ]
  },
  {
   "cell_type": "markdown",
   "metadata": {},
   "source": [
    "The following describe the number and names of bots with the group 'bot'"
   ]
  },
  {
   "cell_type": "code",
   "execution_count": 7,
   "metadata": {},
   "outputs": [],
   "source": [
    "sql = \"SELECT DISTINCT(bots.name) FROM bots WHERE groups LIKE '%bot%'\"\n",
    "result = cursor.execute(sql)\n",
    "    \n",
    "bots = []\n",
    "for item in result:\n",
    "    bots.append(item[0])\n",
    "df['group']['group'] = len(bots)\n",
    "# print(bots)"
   ]
  },
  {
   "cell_type": "markdown",
   "metadata": {},
   "source": [
    "The following describe the number and names of bots with a request for permission"
   ]
  },
  {
   "cell_type": "code",
   "execution_count": 8,
   "metadata": {},
   "outputs": [],
   "source": [
    "sql = \"SELECT DISTINCT(bot_name) FROM requests_for_permissions\"\n",
    "result = cursor.execute(sql)\n",
    "    \n",
    "bots = []\n",
    "for item in result:\n",
    "    bots.append(item[0])\n",
    "df['request']['request'] = len(bots)\n",
    "# print(bots)"
   ]
  },
  {
   "cell_type": "markdown",
   "metadata": {},
   "source": [
    "The following describe the number and names of bots with a successful request for permission"
   ]
  },
  {
   "cell_type": "code",
   "execution_count": 9,
   "metadata": {},
   "outputs": [],
   "source": [
    "sql = \"SELECT DISTINCT(bot_name) FROM requests_for_permissions WHERE is_successful = 1\"\n",
    "result = cursor.execute(sql)\n",
    "    \n",
    "bots = []\n",
    "for item in result:\n",
    "    bots.append(item[0])\n",
    "df['s_request']['s_request'] = len(bots)\n",
    "df['s_request']['request'] = len(bots)\n",
    "# print(bots)"
   ]
  },
  {
   "cell_type": "markdown",
   "metadata": {},
   "source": [
    "The following describe the number and names of bots with an unsuccessful request for permission"
   ]
  },
  {
   "cell_type": "code",
   "execution_count": 10,
   "metadata": {},
   "outputs": [],
   "source": [
    "sql = \"SELECT DISTINCT(bot_name) FROM requests_for_permissions WHERE is_successful = 0\"\n",
    "result = cursor.execute(sql)\n",
    "    \n",
    "bots = []\n",
    "for item in result:\n",
    "    bots.append(item[0])\n",
    "df['u_request']['u_request'] = len(bots)\n",
    "df['u_request']['request'] = len(bots)\n",
    "# print(bots)"
   ]
  },
  {
   "cell_type": "markdown",
   "metadata": {},
   "source": [
    "The following describe the number and names of bots with a bot flag and without a bot flag"
   ]
  },
  {
   "cell_type": "code",
   "execution_count": 11,
   "metadata": {
    "collapsed": true
   },
   "outputs": [],
   "source": [
    "df['no_b_f']['b_f'] = 0"
   ]
  },
  {
   "cell_type": "markdown",
   "metadata": {},
   "source": [
    "The following describe the number and names of bots with a bot flag and is a extension bot"
   ]
  },
  {
   "cell_type": "code",
   "execution_count": 12,
   "metadata": {},
   "outputs": [],
   "source": [
    "sql = \"SELECT DISTINCT(bots.name) FROM bots WHERE bots.has_botflag = 1 AND bots.is_extension_bot = 1\"\n",
    "result = cursor.execute(sql)\n",
    "\n",
    "bots = []\n",
    "for item in result:\n",
    "    bots.append(item[0])\n",
    "df['ex_b']['b_f'] = len(bots)\n",
    "# print(bots)"
   ]
  },
  {
   "cell_type": "markdown",
   "metadata": {},
   "source": [
    "The following describe the number and names of bots with a bot flag and in group 'bot'"
   ]
  },
  {
   "cell_type": "code",
   "execution_count": 13,
   "metadata": {},
   "outputs": [],
   "source": [
    "sql = \"SELECT DISTINCT(bots.name) FROM bots WHERE groups LIKE '%bot%' AND has_botflag = 1\"\n",
    "result = cursor.execute(sql)\n",
    "    \n",
    "bots = []\n",
    "for item in result:\n",
    "    bots.append(item[0])\n",
    "df['group']['b_f'] = len(bots)\n",
    "# print(bots)"
   ]
  },
  {
   "cell_type": "markdown",
   "metadata": {},
   "source": [
    "The following describe the number and names of bots with a bot flag and a request for permission"
   ]
  },
  {
   "cell_type": "code",
   "execution_count": 14,
   "metadata": {},
   "outputs": [],
   "source": [
    "sql = \"SELECT DISTINCT(bots.name) FROM bots INNER JOIN requests_for_permissions ON requests_for_permissions.bot_name = bots.name WHERE bots.has_botflag = 1\"\n",
    "result = cursor.execute(sql)\n",
    "\n",
    "bots = []\n",
    "for item in result:\n",
    "    bots.append(item[0])\n",
    "df['request']['b_f'] = len(bots)\n",
    "# print(bots)"
   ]
  },
  {
   "cell_type": "markdown",
   "metadata": {},
   "source": [
    "The following describe the number and names of bots with a bot flag and a successful request for permission"
   ]
  },
  {
   "cell_type": "code",
   "execution_count": 15,
   "metadata": {},
   "outputs": [],
   "source": [
    "sql = \"SELECT DISTINCT(bots.name) FROM bots INNER JOIN requests_for_permissions ON requests_for_permissions.bot_name = bots.name WHERE bots.has_botflag = 1 AND requests_for_permissions.is_successful = 1\"\n",
    "result = cursor.execute(sql)\n",
    "\n",
    "bots = []\n",
    "for item in result:\n",
    "    bots.append(item[0])\n",
    "df['s_request']['b_f'] = len(bots)\n",
    "# print(bots)"
   ]
  },
  {
   "cell_type": "markdown",
   "metadata": {},
   "source": [
    "The following describe the number and names of bots with a bot flag and an unsuccessful request for permission"
   ]
  },
  {
   "cell_type": "code",
   "execution_count": 16,
   "metadata": {
    "collapsed": true
   },
   "outputs": [],
   "source": [
    "sql = \"SELECT DISTINCT(bots.name) FROM bots INNER JOIN requests_for_permissions ON requests_for_permissions.bot_name = bots.name WHERE bots.has_botflag = 1 AND requests_for_permissions.is_successful = 0\"\n",
    "result = cursor.execute(sql)\n",
    "\n",
    "bots = []\n",
    "for item in result:\n",
    "    bots.append(item[0])\n",
    "df['u_request']['b_f'] = len(bots)\n",
    "# print(bots)"
   ]
  },
  {
   "cell_type": "markdown",
   "metadata": {},
   "source": [
    "The following describe the number and names of bots without a bot flag and is a extension bot"
   ]
  },
  {
   "cell_type": "code",
   "execution_count": 17,
   "metadata": {
    "collapsed": true
   },
   "outputs": [],
   "source": [
    "sql = \"SELECT DISTINCT(bots.name) FROM bots WHERE bots.has_botflag = 0 AND bots.is_extension_bot = 1\"\n",
    "result = cursor.execute(sql)\n",
    "    \n",
    "bots = []\n",
    "for item in result:\n",
    "    bots.append(item[0])\n",
    "df['ex_b']['no_b_f'] = len(bots)\n",
    "# print(bots)"
   ]
  },
  {
   "cell_type": "markdown",
   "metadata": {},
   "source": [
    "The following describe the number and names of bots without a bot flag and in group 'bot'"
   ]
  },
  {
   "cell_type": "code",
   "execution_count": 18,
   "metadata": {
    "collapsed": true
   },
   "outputs": [],
   "source": [
    "sql = \"SELECT DISTINCT(bots.name) FROM bots WHERE groups LIKE '%bot%' AND has_botflag = 0\"\n",
    "result = cursor.execute(sql)\n",
    "\n",
    "bots = []\n",
    "for item in result:\n",
    "    bots.append(item[0])\n",
    "df['group']['no_b_f'] = len(bots)\n",
    "# print(bots)"
   ]
  },
  {
   "cell_type": "markdown",
   "metadata": {},
   "source": [
    "The following describe the number and names of bots without a bot flag and a request for permission"
   ]
  },
  {
   "cell_type": "code",
   "execution_count": 19,
   "metadata": {
    "collapsed": true
   },
   "outputs": [],
   "source": [
    "sql = \"SELECT DISTINCT(bots.name) FROM bots INNER JOIN requests_for_permissions ON requests_for_permissions.bot_name = bots.name WHERE bots.has_botflag = 0\"\n",
    "result = cursor.execute(sql)\n",
    "    \n",
    "bots = []\n",
    "for item in result:\n",
    "    bots.append(item[0])\n",
    "df['request']['no_b_f'] = len(bots)\n",
    "# print(bots)"
   ]
  },
  {
   "cell_type": "markdown",
   "metadata": {},
   "source": [
    "The following describe the number and names of bots without a bot flag and a successful request for permission"
   ]
  },
  {
   "cell_type": "code",
   "execution_count": 20,
   "metadata": {
    "collapsed": true
   },
   "outputs": [],
   "source": [
    "sql = \"SELECT DISTINCT(bots.name) FROM bots INNER JOIN requests_for_permissions ON requests_for_permissions.bot_name = bots.name WHERE bots.has_botflag = 0 AND requests_for_permissions.is_successful = 1\"\n",
    "result = cursor.execute(sql)\n",
    "    \n",
    "bots = []\n",
    "for item in result:\n",
    "    bots.append(item[0])\n",
    "df['s_request']['no_b_f'] = len(bots)\n",
    "# print(bots)"
   ]
  },
  {
   "cell_type": "markdown",
   "metadata": {},
   "source": [
    "The following describe the number and names of bots without a bot flag and an unsuccessful request for permission"
   ]
  },
  {
   "cell_type": "code",
   "execution_count": 21,
   "metadata": {
    "collapsed": true
   },
   "outputs": [],
   "source": [
    "sql = \"SELECT DISTINCT(bots.name) FROM bots INNER JOIN requests_for_permissions ON requests_for_permissions.bot_name = bots.name WHERE bots.has_botflag = 0 AND requests_for_permissions.is_successful = 0\"\n",
    "result = cursor.execute(sql)\n",
    "    \n",
    "bots = []\n",
    "for item in result:\n",
    "    bots.append(item[0])\n",
    "df['u_request']['no_b_f'] = len(bots)\n",
    "# print(bots)"
   ]
  },
  {
   "cell_type": "markdown",
   "metadata": {},
   "source": [
    "The following describe the number and names of extension bots and in group 'bot'"
   ]
  },
  {
   "cell_type": "code",
   "execution_count": 22,
   "metadata": {
    "collapsed": true
   },
   "outputs": [],
   "source": [
    "sql = \"SELECT DISTINCT(bots.name) FROM bots WHERE groups LIKE '%bot%'AND is_extension_bot = 1\"\n",
    "result = cursor.execute(sql)\n",
    "    \n",
    "bots = []\n",
    "for item in result:\n",
    "    bots.append(item[0])\n",
    "df['group']['ex_b'] = len(bots)\n",
    "# print(bots)"
   ]
  },
  {
   "cell_type": "markdown",
   "metadata": {},
   "source": [
    "The following describe the number and names of extension bots and a request for permission"
   ]
  },
  {
   "cell_type": "code",
   "execution_count": 23,
   "metadata": {
    "collapsed": true
   },
   "outputs": [],
   "source": [
    "sql = \"SELECT DISTINCT(bots.name) FROM bots INNER JOIN requests_for_permissions ON requests_for_permissions.bot_name = bots.name WHERE is_extension_bot = 1\"\n",
    "result = cursor.execute(sql)\n",
    "    \n",
    "bots = []\n",
    "for item in result:\n",
    "    bots.append(item[0])\n",
    "df['request']['ex_b'] = len(bots)\n",
    "# print(bots)"
   ]
  },
  {
   "cell_type": "markdown",
   "metadata": {},
   "source": [
    "The following describe the number and names of extension bots and a successful request for permission"
   ]
  },
  {
   "cell_type": "code",
   "execution_count": 24,
   "metadata": {
    "collapsed": true
   },
   "outputs": [],
   "source": [
    "sql = \"SELECT DISTINCT(bots.name) FROM bots INNER JOIN requests_for_permissions ON requests_for_permissions.bot_name = bots.name WHERE is_extension_bot = 1 AND requests_for_permissions.is_successful = 1\"\n",
    "result = cursor.execute(sql)\n",
    "\n",
    "bots = []\n",
    "for item in result:\n",
    "    bots.append(item[0])\n",
    "df['s_request']['ex_b'] = len(bots)\n",
    "# print(bots)"
   ]
  },
  {
   "cell_type": "markdown",
   "metadata": {},
   "source": [
    "The following describe the number and names of extension bots and an unsuccessful request for permission"
   ]
  },
  {
   "cell_type": "code",
   "execution_count": 25,
   "metadata": {
    "collapsed": true
   },
   "outputs": [],
   "source": [
    "sql = \"SELECT DISTINCT(bots.name) FROM bots INNER JOIN requests_for_permissions ON requests_for_permissions.bot_name = bots.name WHERE is_extension_bot = 1 AND requests_for_permissions.is_successful = 0\"\n",
    "result = cursor.execute(sql)\n",
    "\n",
    "bots = []\n",
    "for item in result:\n",
    "    bots.append(item[0])\n",
    "df['u_request']['ex_b'] = len(bots)\n",
    "# print(bots)"
   ]
  },
  {
   "cell_type": "markdown",
   "metadata": {},
   "source": [
    "The following describe the number and names of bots in group 'bot' and a request for permission"
   ]
  },
  {
   "cell_type": "code",
   "execution_count": 26,
   "metadata": {
    "collapsed": true
   },
   "outputs": [],
   "source": [
    "sql = \"SELECT DISTINCT(bots.name) FROM bots INNER JOIN requests_for_permissions ON requests_for_permissions.bot_name = bots.name WHERE groups LIKE '%bot%'\"\n",
    "result = cursor.execute(sql)\n",
    "    \n",
    "bots = []\n",
    "for item in result:\n",
    "    bots.append(item[0])\n",
    "df['request']['group'] = len(bots)\n",
    "# print(bots)"
   ]
  },
  {
   "cell_type": "markdown",
   "metadata": {},
   "source": [
    "The following describe the number and names of bots in group 'bot' and a successful request for permission"
   ]
  },
  {
   "cell_type": "code",
   "execution_count": 27,
   "metadata": {
    "collapsed": true
   },
   "outputs": [],
   "source": [
    "sql = \"SELECT DISTINCT(bots.name) FROM bots INNER JOIN requests_for_permissions ON requests_for_permissions.bot_name = bots.name WHERE groups LIKE '%bot%' AND requests_for_permissions.is_successful = 1\"\n",
    "result = cursor.execute(sql)\n",
    "\n",
    "bots = []\n",
    "for item in result:\n",
    "    bots.append(item[0])\n",
    "df['s_request']['group'] = len(bots)\n",
    "# print(bots)"
   ]
  },
  {
   "cell_type": "markdown",
   "metadata": {},
   "source": [
    "The following describe the number and names of bots in group 'bot' and an unsuccessful request for permission"
   ]
  },
  {
   "cell_type": "code",
   "execution_count": 28,
   "metadata": {
    "collapsed": true
   },
   "outputs": [],
   "source": [
    "sql = \"SELECT DISTINCT(bots.name) FROM bots INNER JOIN requests_for_permissions ON requests_for_permissions.bot_name = bots.name WHERE groups LIKE '%bot%' AND requests_for_permissions.is_successful = 0\"\n",
    "result = cursor.execute(sql)\n",
    "    \n",
    "bots = []\n",
    "for item in result:\n",
    "    bots.append(item[0])\n",
    "df['u_request']['group'] = len(bots)\n",
    "# print(bots)"
   ]
  },
  {
   "cell_type": "markdown",
   "metadata": {},
   "source": [
    "The following describe the number and of bots with a successful an unsuccessful request for permission"
   ]
  },
  {
   "cell_type": "code",
   "execution_count": 29,
   "metadata": {
    "collapsed": true
   },
   "outputs": [],
   "source": [
    "sql = \"SELECT DISTINCT(bot_name) FROM requests_for_permissions WHERE  requests_for_permissions.is_successful = 1 AND bot_name IN (SELECT bot_name FROM requests_for_permissions WHERE requests_for_permissions.is_successful = 0)\"\n",
    "result = cursor.execute(sql)\n",
    "    \n",
    "bots = []\n",
    "for item in result:\n",
    "    bots.append(item[0])\n",
    "df['u_request']['s_request'] = len(bots)\n",
    "# print(bots)"
   ]
  },
  {
   "cell_type": "markdown",
   "metadata": {},
   "source": [
    "The subsequent table summarizes all previous calculated values (only the count) to give a better overview. The collumn names are described as follows:\n",
    "\n",
    "| column name               | explanation                               |\n",
    "| --------------------------|:-----------------------------------------:|\n",
    "| b_f                       | has bot flag                              |\n",
    "| no_b_f                    | has no bot flag                           |\n",
    "| ex_b                      | is a extension bot                        |\n",
    "| group                     | is in group 'bot'                         |\n",
    "| request                   | has a request for permission              |\n",
    "| s_request                 | has a successful request for permission   |\n",
    "| u_request                 | has a unsuccessful request for permission |"
   ]
  },
  {
   "cell_type": "code",
   "execution_count": 30,
   "metadata": {},
   "outputs": [
    {
     "name": "stdout",
     "output_type": "stream",
     "text": [
      "           b_f no_b_f ex_b group request s_request u_request\n",
      "b_f        258      0    0   198     219       219        18\n",
      "no_b_f     NaN    163    0    24      52        32        22\n",
      "ex_b       NaN    NaN    7     3       0         0         0\n",
      "group      NaN    NaN  NaN   247     203       203        12\n",
      "request    NaN    NaN  NaN   NaN     355       311        65\n",
      "s_request  NaN    NaN  NaN   NaN     NaN       311        21\n",
      "u_request  NaN    NaN  NaN   NaN     NaN       NaN        65\n"
     ]
    }
   ],
   "source": [
    "print(df)"
   ]
  },
  {
   "cell_type": "markdown",
   "metadata": {},
   "source": [
    "### Difference between rights of bots wist a bot flag and bots which are in the group 'bot'"
   ]
  },
  {
   "cell_type": "markdown",
   "metadata": {},
   "source": [
    "The following shows which different rights bots with a bot flag but without beeing in the group 'bot' have."
   ]
  },
  {
   "cell_type": "code",
   "execution_count": 31,
   "metadata": {},
   "outputs": [
    {
     "name": "stdout",
     "output_type": "stream",
     "text": [
      "{'editmyuserjs', 'translate', 'translate-groupreview', 'flow-hide', 'editsemiprotected', 'item-term', 'abusefilter-log-detail', 'viewmywatchlist', 'minoredit', 'translate-messagereview', 'flow-edit-post', 'move-categorypages', 'abusefilter-log', 'spamblacklistlog', 'read', 'createtalk', 'move-rootuserpages', 'editmyprivateinfo', 'autopatrol', 'reupload', 'autoconfirmed', 'property-term', 'collectionsaveascommunitypage', 'flow-lock', 'edit', 'changetags', 'vipsscaler-test', 'editmyuserjson', 'transcode-reset', 'applychangetags', 'mwoauthmanagemygrants', 'createaccount', 'item-redirect', 'item-merge', 'sendemail', 'purge', 'editmyoptions', 'editmyusercss', 'move', 'editmywatchlist', 'centralauth-merge', 'writeapi', 'abusefilter-view', 'upload', 'reupload-own', 'skipcaptcha', 'viewmyprivateinfo', 'patrol', 'collectionsaveasuserpage', 'createpage'}\n"
     ]
    }
   ],
   "source": [
    "sql = \"SELECT rights FROM bots WHERE has_botflag = 1 AND groups NOT LIKE '%bot%'\"\n",
    "result = cursor.execute(sql)\n",
    "\n",
    "bot_flag_rights = []\n",
    "for item in result:\n",
    "    if item[0] is not None:\n",
    "        bot_flag_rights += item[0].split(',')\n",
    "bot_flag_rights = set(bot_flag_rights)\n",
    "print(bot_flag_rights)"
   ]
  },
  {
   "cell_type": "markdown",
   "metadata": {},
   "source": [
    "The following shows which different rights bots which are in the group 'bot' but do not have a bot flag have."
   ]
  },
  {
   "cell_type": "code",
   "execution_count": 32,
   "metadata": {},
   "outputs": [
    {
     "name": "stdout",
     "output_type": "stream",
     "text": [
      "{'editmyuserjs', 'translate', 'translate-groupreview', 'flow-hide', 'editsemiprotected', 'item-term', 'abusefilter-log-detail', 'viewmywatchlist', 'minoredit', 'translate-messagereview', 'flow-edit-post', 'move-categorypages', 'abusefilter-log', 'spamblacklistlog', 'read', 'bot', 'nominornewtalk', 'createtalk', 'apihighlimits', 'move-rootuserpages', 'editmyprivateinfo', 'autoconfirmed', 'autopatrol', 'reupload', 'noratelimit', 'property-term', 'collectionsaveascommunitypage', 'flow-lock', 'edit', 'changetags', 'vipsscaler-test', 'editmyuserjson', 'transcode-reset', 'applychangetags', 'mwoauthmanagemygrants', 'createaccount', 'item-redirect', 'item-merge', 'sendemail', 'purge', 'editmyoptions', 'editmyusercss', 'move', 'editmywatchlist', 'centralauth-merge', 'writeapi', 'suppressredirect', 'abusefilter-view', 'reupload-own', 'upload', 'skipcaptcha', 'viewmyprivateinfo', 'patrol', 'collectionsaveasuserpage', 'createpage'}\n"
     ]
    }
   ],
   "source": [
    "sql = \"SELECT rights FROM bots WHERE has_botflag = 0 AND groups LIKE '%bot%'\"\n",
    "result = cursor.execute(sql)\n",
    "\n",
    "group_rights = []\n",
    "for item in result:\n",
    "    if item[0] is not None:\n",
    "        group_rights += item[0].split(',')\n",
    "group_rights = set(group_rights)\n",
    "print(group_rights)"
   ]
  },
  {
   "cell_type": "markdown",
   "metadata": {},
   "source": [
    "This shows all rights that bots with a bot flag have but bot which are in the group 'bot' do not have."
   ]
  },
  {
   "cell_type": "code",
   "execution_count": 33,
   "metadata": {},
   "outputs": [
    {
     "name": "stdout",
     "output_type": "stream",
     "text": [
      "set()\n"
     ]
    }
   ],
   "source": [
    "print(bot_flag_rights.difference(group_rights))"
   ]
  },
  {
   "cell_type": "markdown",
   "metadata": {},
   "source": [
    "This shows all rights that bots which are in the group 'bot' have but bots with a flag do not have."
   ]
  },
  {
   "cell_type": "code",
   "execution_count": 34,
   "metadata": {},
   "outputs": [
    {
     "name": "stdout",
     "output_type": "stream",
     "text": [
      "{'bot', 'nominornewtalk', 'apihighlimits', 'suppressredirect', 'noratelimit'}\n"
     ]
    }
   ],
   "source": [
    "print(group_rights.difference(bot_flag_rights))"
   ]
  },
  {
   "cell_type": "markdown",
   "metadata": {},
   "source": [
    "### Analysis of Requests for Permission\n",
    "\n",
    "This chepter aims to analyse the requests for permissions for bots on Wikidata."
   ]
  },
  {
   "cell_type": "markdown",
   "metadata": {},
   "source": [
    "| criteria                  | amount                |\n",
    "| --------------------------|:---------------------:|\n",
    "| number of bots            |356                    |\n",
    "| number of requests        |655                    |\n",
    "| date of the first request |2012-11-13 03:29:25    |\n",
    "| date of the last request  |2018-05-14 13:03:51    |\n",
    "\n",
    "As date value the date when the request was first edited is taken."
   ]
  },
  {
   "cell_type": "markdown",
   "metadata": {},
   "source": [
    "#### Distribution of request for permission\n",
    "\n",
    "This shows the distribution of request for permission over time. As time value the time when the request for permission was closed is taken."
   ]
  },
  {
   "cell_type": "code",
   "execution_count": 116,
   "metadata": {},
   "outputs": [
    {
     "data": {
      "image/png": "[encoded data removed]",
      "text/plain": [
       "<matplotlib.figure.Figure at 0x10f6d7cc0>"
      ]
     },
     "metadata": {},
     "output_type": "display_data"
    }
   ],
   "source": [
    "Analyser.plot_distribution_over_time(\n",
    "    '''\n",
    "    SELECT closed_at \n",
    "    FROM requests_for_permissions \n",
    "    WHERE closed_at <> '' \n",
    "    ORDER BY closed_at\n",
    "    ''')"
   ]
  },
  {
   "cell_type": "markdown",
   "metadata": {},
   "source": [
    "### Distribution of successful request for permission\n",
    "\n",
    "This shows the distribution of successful request for permission over time. As time value the time when the request for permission was closed is taken."
   ]
  },
  {
   "cell_type": "code",
   "execution_count": 115,
   "metadata": {},
   "outputs": [
    {
     "data": {
      "image/png": "[encoded data removed]",
      "text/plain": [
       "<matplotlib.figure.Figure at 0x10fc60240>"
      ]
     },
     "metadata": {},
     "output_type": "display_data"
    }
   ],
   "source": [
    "Analyser.plot_distribution_over_time(\n",
    "    '''\n",
    "    SELECT closed_at \n",
    "    FROM requests_for_permissions \n",
    "    WHERE is_successful = 1 \n",
    "    AND closed_at <> '' \n",
    "    ORDER BY closed_at\n",
    "    ''')"
   ]
  },
  {
   "cell_type": "markdown",
   "metadata": {},
   "source": [
    "### Distribution of unsuccessful request for permission\n",
    "\n",
    "This shows the distribution of unsuccessful request for permission over time. As time value the time when the request for permission was closed is taken."
   ]
  },
  {
   "cell_type": "code",
   "execution_count": 117,
   "metadata": {},
   "outputs": [
    {
     "data": {
      "image/png": "[encoded data removed]",
      "text/plain": [
       "<matplotlib.figure.Figure at 0x1101b00b8>"
      ]
     },
     "metadata": {},
     "output_type": "display_data"
    }
   ],
   "source": [
    "Analyser.plot_distribution_over_time(\n",
    "    '''\n",
    "    SELECT closed_at \n",
    "    FROM requests_for_permissions \n",
    "    WHERE is_successful = 0 \n",
    "    AND closed_at <> '' \n",
    "    ORDER BY closed_at\n",
    "    ''')"
   ]
  },
  {
   "cell_type": "markdown",
   "metadata": {},
   "source": [
    "### Distribution of editor count\n",
    "\n",
    "This shows the distribution of editor count per request for permission. The editor count represents the number of different users who edited the request for permission."
   ]
  },
  {
   "cell_type": "code",
   "execution_count": 135,
   "metadata": {},
   "outputs": [
    {
     "data": {
      "image/png": "[encoded data removed]",
      "text/plain": [
       "<matplotlib.figure.Figure at 0x10fc22668>"
      ]
     },
     "metadata": {},
     "output_type": "display_data"
    }
   ],
   "source": [
    "Analyser.plot_distribution(\n",
    "    '''\n",
    "    SELECT editor_count, COUNT(*)\n",
    "    FROM requests_for_permissions\n",
    "    GROUP BY editor_count\n",
    "    ''')"
   ]
  },
  {
   "cell_type": "code",
   "execution_count": null,
   "metadata": {},
   "outputs": [],
   "source": []
  }
 ],
 "metadata": {
  "kernelspec": {
   "display_name": "Python 3",
   "language": "python",
   "name": "python3"
  },
  "language_info": {
   "codemirror_mode": {
    "name": "ipython",
    "version": 3
   },
   "file_extension": ".py",
   "mimetype": "text/x-python",
   "name": "python",
   "nbconvert_exporter": "python",
   "pygments_lexer": "ipython3",
   "version": "3.6.0"
  }
 },
 "nbformat": 4,
 "nbformat_minor": 1
}
