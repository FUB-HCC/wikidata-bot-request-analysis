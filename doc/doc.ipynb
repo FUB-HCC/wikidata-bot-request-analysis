{
 "cells": [
  {
   "cell_type": "code",
   "execution_count": 1,
   "metadata": {},
   "outputs": [],
   "source": [
    "import sqlite3\n",
    "import pandas as pd\n",
    "import matplotlib.pyplot as plt\n",
    "import matplotlib\n",
    "import pandas as pd\n",
    "import os\n",
    "import sys\n",
    "module_path = os.path.abspath(os.path.join('../src'))\n",
    "if module_path not in sys.path:\n",
    "    sys.path.append(module_path)\n",
    "%matplotlib inline\n",
    "%load_ext autoreload\n",
    "%autoreload 2\n",
    "\n",
    "from analyser import Analyser\n",
    "from db import SqliteDb as db"
   ]
  },
  {
   "cell_type": "markdown",
   "metadata": {
    "collapsed": true
   },
   "source": [
    "# Documentation\n",
    "\n",
    "## Research Questions\n",
    "\n",
    "** Which contribution have bots to the quality of Wikidata? **\n",
    "* Which differences exist between bots which successfully completed the request for permission process and those who doesn't? (Hypothesis: The request for permission process is a quality gate for bots)\n",
    "* How does bot's field of activity change over time?\n",
    "* What is the difference between a bot with the group 'bot' and a bot with a botflag?\n",
    "\n",
    "\n",
    "## Data preparation\n",
    "### Request for permissions\n",
    "\n",
    "As a first step we downloaded and parsed the data about requests for permissions for bots from Wikidata in May 2018. We collected the already closed requests which can be found in the Wikidata archive (https://www.wikidata.org/wiki/Wikidata:Requests_for_permissions/Archive#Requests_for_bot_flags). The data is stored in a database.\n",
    "\n",
    "Request for permissions which have no own page were left out (e.g. https://www.wikidata.org/w/index.php?title=Wikidata:Requests_for_permissions/Bot/Checkallthestrings_bot_1&action=edit&redlink=1).\n",
    "\n",
    "Request for permissions which are listed several times in different archives were only parsed once (e.g. https://www.wikidata.org/wiki/Wikidata:Requests_for_permissions/Bot/VIAFbot is listes in https://www.wikidata.org/wiki/Wikidata:Requests_for_permissions/RfBot/March_2013 and in https://www.wikidata.org/wiki/Wikidata:Requests_for_permissions/RfBot/April_2013).\n",
    "\n",
    "## DB\n",
    "\n",
    "### Schema\n",
    "\n",
    "The db in which the requests for permissions are saved has the following schema as diagram:\n",
    "\n",
    "![DB schema](images/db_schema.png)\n",
    "\n",
    "and as ddl: \n",
    "\n",
    "```sql\n",
    "CREATE TABLE request_for_permission (\n",
    "    id                    INTEGER PRIMARY KEY AUTOINCREMENT NOT NULL,\n",
    "    url                   TEXT UNIQUE,\n",
    "    bot                   TEXT,\n",
    "    operator              TEXT,\n",
    "    is_successful         INTEGER,\n",
    "    first_edit            TEXT,\n",
    "    last_edit             TEXT,\n",
    "    closed_at             TEXT,\n",
    "    revision_count        INTEGER,\n",
    "    editor_count          INTEGER,\n",
    "    comment_symbol_count  INTEGER,\n",
    "    question_symbol_count INTEGER,\n",
    "    oppose_symbol_count   INTEGER,\n",
    "    answer_symbol_count   INTEGER,\n",
    "    support_symbol_count  INTEGER,\n",
    "    html                  TEXT,\n",
    "    task                  TEXT,\n",
    "    code                  TEXT,\n",
    "    function              TEXT,\n",
    "    archive_comment       TEXT,\n",
    "    summary               TEXT,\n",
    "    retrieved_at          DATE,\n",
    "    FOREIGN KEY(operator) REFERENCES operator(name)\n",
    ");\n",
    "CREATE TABLE bot (\n",
    "    name TEXT PRIMARY KEY NOT NULL\n",
    ");\n",
    "```\n",
    "\n",
    "### Tables\n",
    "\n",
    "The db fields for the tabel request_for_permission contains the following content:\n",
    "\n",
    "| column                | content explanation                                                                   |\n",
    "| ----------------------|:-------------------------------------------------------------------------------------:|\n",
    "| id                    | unique identifier                                                                     |\n",
    "| url                   | url of the request for permission                                                     |\n",
    "| bot                   | the wikidata user account for which the request for permission is for.                |\n",
    "| operator              | the wikidata user account which opend the request for permission and is responsible for the bot. |\n",
    "| is_successful         | flag which states if the request for permission was successful. 1 if it was successful and 0 if not     |\n",
    "| first_edit            | utc date and time when the first edit of this request for permission was made         |\n",
    "| last_edit             | utc date and time when the last edit of this request for permission was made          |\n",
    "| closed_at             | utc date and time when the request for permission was closed which is equvalent to the time when the summary was written |\n",
    "| revision_count        | count how many revisions were applied to the request for permission                   |\n",
    "| edit_count            | count how many distinct editors made revisons to the request for permission           |\n",
    "| comment_symbol_count  | count how often a comment symbol was used in the discussion of the request            |\n",
    "| question_symbol_count | count how often a question symbol was used in the discussion of the request           |\n",
    "| oppose_symbol_count   | count how often a oppose symbol was used in the discussion of the request             |\n",
    "| answer_symbol_count   | count how often a answer symbol was used in the discussion of the request             |\n",
    "| support_symbol_count  | count how often a support symbol was used in the discussion of the request            |\n",
    "| html                  | raw html of the site that can be found under the url. only the main part of the site is saved. |\n",
    "| task                  | short description of the bot function                                                 |\n",
    "| code                  | link to the online repository or other code describing text                           |\n",
    "| function              | detailed description of the bot function                                              |\n",
    "| archive_comment       | short comment why the request for permission was successful or not. Example can be found under the following link: https://www.wikidata.org/wiki/Wikidata:Requests_for_permissions/RfBot/April_2013 (see for example '(approved temporary)') |\n",
    "| summary               | summary about the discussion and the final decision about the request for permission   | \n",
    "| retrieved_at          | utc date and time when the data was retrived                                          |\n",
    "\n",
    "The db fields for the tabel bot contains the following content:\n",
    "\n",
    "| column                | content explanation                                                                   |\n",
    "| ----------------------|:-------------------------------------------------------------------------------------:|\n",
    "| name                  | name of the bot                                                                       |\n"
   ]
  },
  {
   "cell_type": "markdown",
   "metadata": {},
   "source": [
    "## Analysis\n",
    "\n",
    "### Analysis of Wikidata Bots\n",
    "\n",
    "This chapter aims to analyse the bots on wikidata. \n",
    "\n",
    "As a first step we try to find out which user accounts on Wikidata are bots. There are several sources that contain lists of bots or can help to detect them. None of them is complete. Therefore we fetched data from five different sources. The following table lists these sources and the number of contained bots.\n",
    "\n",
    "Note: The list is updateed manually thus disparities between this tables and the following results may occur! Last update: 28 May 2018"
   ]
  },
  {
   "cell_type": "markdown",
   "metadata": {},
   "source": [
    "| criteria                           | amount       | source               | output file          |\n",
    "| ---------------------------------- |:------------:|:--------------------:|:--------------------:|\n",
    "| number of users in the group 'bot' | 245 | MediaWiki API (Example URL: https://www.wikidata.org/w/api.php?action=query&list=allusers&augroup=bot) | data/parser/users_in_bot_group.csv |\n",
    "| number of bots that have a closed request for permission | 364 | [Requests for bot flags](https://www.wikidata.org/wiki/Wikidata:Requests_for_permissions/Archive#Requests_for_bot_flags ) | data/spiders/bots_with_requests_for_permissions.csv |\n",
    "| number of bots with a botflag     | 258 | [Bots with botflag](https://www.wikidata.org/wiki/Category:Bots_with_botflag) | data/spiders/bots_with_botflag.csv |\n",
    "| number of bots without a botflag  | 163 | [Bots without a botflag](https://www.wikidata.org/wiki/Category:Bots_without_botflag) | data/spiders/bots_without_botflag.csv |\n",
    "| number of extension bots           | 7 | [Extension bots](https://www.wikidata.org/wiki/Category:Extension_bots) | data/spiders/extension_bots.csv |"
   ]
  },
  {
   "cell_type": "markdown",
   "metadata": {},
   "source": [
    "The following statistics describe partially the same as the table before but instead of fetching the results from the csv files there are retrived from the db. If you want to see not only the count but the name of the bots you can uncomment the line ```python # print(bots) ``` and you will see all names."
   ]
  },
  {
   "cell_type": "code",
   "execution_count": 2,
   "metadata": {},
   "outputs": [],
   "source": [
    "conn = db.connect()\n",
    "cursor = conn.cursor()"
   ]
  },
  {
   "cell_type": "code",
   "execution_count": 3,
   "metadata": {},
   "outputs": [],
   "source": [
    "index = ['b_f', 'no_b_f', 'ex_b', 'group', 'request', 's_request', 'u_request', 'sum']\n",
    "df = pd.DataFrame(index=index, columns=index)"
   ]
  },
  {
   "cell_type": "markdown",
   "metadata": {},
   "source": [
    "The following describes the number and names of bots with a botflag."
   ]
  },
  {
   "cell_type": "code",
   "execution_count": 4,
   "metadata": {},
   "outputs": [],
   "source": [
    "sql = \"SELECT DISTINCT(bots.name) FROM bots WHERE has_botflag = 1\"\n",
    "result = cursor.execute(sql)\n",
    "\n",
    "bots = []\n",
    "for item in result:\n",
    "    bots.append(item[0])\n",
    "df['b_f']['b_f'] = len(bots)\n",
    "# print(bots)"
   ]
  },
  {
   "cell_type": "markdown",
   "metadata": {},
   "source": [
    "The following describes the number names of bots without a botflag"
   ]
  },
  {
   "cell_type": "code",
   "execution_count": 5,
   "metadata": {},
   "outputs": [],
   "source": [
    "sql = \"SELECT DISTINCT(bots.name) FROM bots WHERE has_botflag = 0\"\n",
    "result = cursor.execute(sql)\n",
    "    \n",
    "bots = []\n",
    "for item in result:\n",
    "    bots.append(item[0])\n",
    "df['no_b_f']['no_b_f'] = len(bots)\n",
    "# print(bots)"
   ]
  },
  {
   "cell_type": "markdown",
   "metadata": {},
   "source": [
    "The following describes the number and names of extension bots "
   ]
  },
  {
   "cell_type": "code",
   "execution_count": 6,
   "metadata": {},
   "outputs": [],
   "source": [
    "sql = \"SELECT DISTINCT(bots.name) FROM bots WHERE is_extension_bot = 1\"\n",
    "result = cursor.execute(sql)\n",
    "\n",
    "bots = []\n",
    "for item in result:\n",
    "    bots.append(item[0])\n",
    "df['ex_b']['ex_b'] = len(bots)\n",
    "# print(bots)"
   ]
  },
  {
   "cell_type": "markdown",
   "metadata": {},
   "source": [
    "The following describes the number and names of bots with the group 'bot'"
   ]
  },
  {
   "cell_type": "code",
   "execution_count": 7,
   "metadata": {},
   "outputs": [],
   "source": [
    "sql = \"SELECT DISTINCT(bots.name) FROM bots WHERE groups LIKE '%bot%'\"\n",
    "result = cursor.execute(sql)\n",
    "    \n",
    "bots = []\n",
    "for item in result:\n",
    "    bots.append(item[0])\n",
    "df['group']['group'] = len(bots)\n",
    "# print(bots)"
   ]
  },
  {
   "cell_type": "markdown",
   "metadata": {},
   "source": [
    "The following describes the number and names of bots with a request for permission"
   ]
  },
  {
   "cell_type": "code",
   "execution_count": 8,
   "metadata": {},
   "outputs": [],
   "source": [
    "sql = \"SELECT DISTINCT(bot_name) FROM requests_for_permissions\"\n",
    "result = cursor.execute(sql)\n",
    "    \n",
    "bots = []\n",
    "for item in result:\n",
    "    bots.append(item[0])\n",
    "df['request']['request'] = len(bots)\n",
    "# print(bots)"
   ]
  },
  {
   "cell_type": "markdown",
   "metadata": {},
   "source": [
    "The following describes the number and names of bots with a successful request for permission"
   ]
  },
  {
   "cell_type": "code",
   "execution_count": 9,
   "metadata": {},
   "outputs": [],
   "source": [
    "sql = \"SELECT DISTINCT(bot_name) FROM requests_for_permissions WHERE is_successful = 1\"\n",
    "result = cursor.execute(sql)\n",
    "    \n",
    "bots = []\n",
    "for item in result:\n",
    "    bots.append(item[0])\n",
    "df['s_request']['s_request'] = len(bots)\n",
    "df['s_request']['request'] = len(bots)\n",
    "# print(bots)"
   ]
  },
  {
   "cell_type": "markdown",
   "metadata": {},
   "source": [
    "The following describes the number and names of bots with an unsuccessful request for permission"
   ]
  },
  {
   "cell_type": "code",
   "execution_count": 10,
   "metadata": {},
   "outputs": [],
   "source": [
    "sql = \"SELECT DISTINCT(bot_name) FROM requests_for_permissions WHERE is_successful = 0\"\n",
    "result = cursor.execute(sql)\n",
    "    \n",
    "bots = []\n",
    "for item in result:\n",
    "    bots.append(item[0])\n",
    "df['u_request']['u_request'] = len(bots)\n",
    "df['u_request']['request'] = len(bots)\n",
    "# print(bots)"
   ]
  },
  {
   "cell_type": "markdown",
   "metadata": {},
   "source": [
    "The following describes the number and names of bots with a bot flag and without a bot flag"
   ]
  },
  {
   "cell_type": "code",
   "execution_count": 11,
   "metadata": {},
   "outputs": [],
   "source": [
    "df['no_b_f']['b_f'] = 0"
   ]
  },
  {
   "cell_type": "markdown",
   "metadata": {},
   "source": [
    "The following describes the number and names of bots with a bot flag and is a extension bot"
   ]
  },
  {
   "cell_type": "code",
   "execution_count": 12,
   "metadata": {},
   "outputs": [],
   "source": [
    "sql = \"SELECT DISTINCT(bots.name) FROM bots WHERE bots.has_botflag = 1 AND bots.is_extension_bot = 1\"\n",
    "result = cursor.execute(sql)\n",
    "\n",
    "bots = []\n",
    "for item in result:\n",
    "    bots.append(item[0])\n",
    "df['ex_b']['b_f'] = len(bots)\n",
    "# print(bots)"
   ]
  },
  {
   "cell_type": "markdown",
   "metadata": {},
   "source": [
    "The following describes the number and names of bots with a bot flag and in group 'bot'"
   ]
  },
  {
   "cell_type": "code",
   "execution_count": 13,
   "metadata": {},
   "outputs": [],
   "source": [
    "sql = \"SELECT DISTINCT(bots.name) FROM bots WHERE groups LIKE '%bot%' AND has_botflag = 1\"\n",
    "result = cursor.execute(sql)\n",
    "    \n",
    "bots = []\n",
    "for item in result:\n",
    "    bots.append(item[0])\n",
    "df['group']['b_f'] = len(bots)\n",
    "# print(bots)"
   ]
  },
  {
   "cell_type": "markdown",
   "metadata": {},
   "source": [
    "The following describes the number and names of bots with a bot flag and a request for permission"
   ]
  },
  {
   "cell_type": "code",
   "execution_count": 14,
   "metadata": {},
   "outputs": [],
   "source": [
    "sql = \"SELECT DISTINCT(bots.name) FROM bots INNER JOIN requests_for_permissions ON requests_for_permissions.bot_name = bots.name WHERE bots.has_botflag = 1\"\n",
    "result = cursor.execute(sql)\n",
    "\n",
    "bots = []\n",
    "for item in result:\n",
    "    bots.append(item[0])\n",
    "df['request']['b_f'] = len(bots)\n",
    "# print(bots)"
   ]
  },
  {
   "cell_type": "markdown",
   "metadata": {},
   "source": [
    "The following describes the number and names of bots with a bot flag and a successful request for permission"
   ]
  },
  {
   "cell_type": "code",
   "execution_count": 15,
   "metadata": {},
   "outputs": [],
   "source": [
    "sql = \"SELECT DISTINCT(bots.name) FROM bots INNER JOIN requests_for_permissions ON requests_for_permissions.bot_name = bots.name WHERE bots.has_botflag = 1 AND requests_for_permissions.is_successful = 1\"\n",
    "result = cursor.execute(sql)\n",
    "\n",
    "bots = []\n",
    "for item in result:\n",
    "    bots.append(item[0])\n",
    "df['s_request']['b_f'] = len(bots)\n",
    "# print(bots)"
   ]
  },
  {
   "cell_type": "markdown",
   "metadata": {},
   "source": [
    "The following describes the number and names of bots with a bot flag and an unsuccessful request for permission"
   ]
  },
  {
   "cell_type": "code",
   "execution_count": 16,
   "metadata": {},
   "outputs": [],
   "source": [
    "sql = \"SELECT DISTINCT(bots.name) FROM bots INNER JOIN requests_for_permissions ON requests_for_permissions.bot_name = bots.name WHERE bots.has_botflag = 1 AND requests_for_permissions.is_successful = 0\"\n",
    "result = cursor.execute(sql)\n",
    "\n",
    "bots = []\n",
    "for item in result:\n",
    "    bots.append(item[0])\n",
    "df['u_request']['b_f'] = len(bots)\n",
    "# print(bots)"
   ]
  },
  {
   "cell_type": "markdown",
   "metadata": {},
   "source": [
    "The following describes the number and names of bots without a bot flag and is a extension bot"
   ]
  },
  {
   "cell_type": "code",
   "execution_count": 17,
   "metadata": {},
   "outputs": [],
   "source": [
    "sql = \"SELECT DISTINCT(bots.name) FROM bots WHERE bots.has_botflag = 0 AND bots.is_extension_bot = 1\"\n",
    "result = cursor.execute(sql)\n",
    "    \n",
    "bots = []\n",
    "for item in result:\n",
    "    bots.append(item[0])\n",
    "df['ex_b']['no_b_f'] = len(bots)\n",
    "# print(bots)"
   ]
  },
  {
   "cell_type": "markdown",
   "metadata": {},
   "source": [
    "The following describes the number and names of bots without a bot flag and in group 'bot'"
   ]
  },
  {
   "cell_type": "code",
   "execution_count": 18,
   "metadata": {},
   "outputs": [],
   "source": [
    "sql = \"SELECT DISTINCT(bots.name) FROM bots WHERE groups LIKE '%bot%' AND has_botflag = 0\"\n",
    "result = cursor.execute(sql)\n",
    "\n",
    "bots = []\n",
    "for item in result:\n",
    "    bots.append(item[0])\n",
    "df['group']['no_b_f'] = len(bots)\n",
    "# print(bots)"
   ]
  },
  {
   "cell_type": "markdown",
   "metadata": {},
   "source": [
    "The following describes the number and names of bots without a bot flag and a request for permission"
   ]
  },
  {
   "cell_type": "code",
   "execution_count": 19,
   "metadata": {},
   "outputs": [],
   "source": [
    "sql = \"SELECT DISTINCT(bots.name) FROM bots INNER JOIN requests_for_permissions ON requests_for_permissions.bot_name = bots.name WHERE bots.has_botflag = 0\"\n",
    "result = cursor.execute(sql)\n",
    "    \n",
    "bots = []\n",
    "for item in result:\n",
    "    bots.append(item[0])\n",
    "df['request']['no_b_f'] = len(bots)\n",
    "# print(bots)"
   ]
  },
  {
   "cell_type": "markdown",
   "metadata": {},
   "source": [
    "The following describes the number and names of bots without a bot flag and a successful request for permission"
   ]
  },
  {
   "cell_type": "code",
   "execution_count": 20,
   "metadata": {},
   "outputs": [],
   "source": [
    "sql = \"SELECT DISTINCT(bots.name) FROM bots INNER JOIN requests_for_permissions ON requests_for_permissions.bot_name = bots.name WHERE bots.has_botflag = 0 AND requests_for_permissions.is_successful = 1\"\n",
    "result = cursor.execute(sql)\n",
    "    \n",
    "bots = []\n",
    "for item in result:\n",
    "    bots.append(item[0])\n",
    "df['s_request']['no_b_f'] = len(bots)\n",
    "# print(bots)"
   ]
  },
  {
   "cell_type": "markdown",
   "metadata": {},
   "source": [
    "The following describes the number and names of bots without a bot flag and an unsuccessful request for permission"
   ]
  },
  {
   "cell_type": "code",
   "execution_count": 21,
   "metadata": {},
   "outputs": [],
   "source": [
    "sql = \"SELECT DISTINCT(bots.name) FROM bots INNER JOIN requests_for_permissions ON requests_for_permissions.bot_name = bots.name WHERE bots.has_botflag = 0 AND requests_for_permissions.is_successful = 0\"\n",
    "result = cursor.execute(sql)\n",
    "    \n",
    "bots = []\n",
    "for item in result:\n",
    "    bots.append(item[0])\n",
    "df['u_request']['no_b_f'] = len(bots)\n",
    "# print(bots)"
   ]
  },
  {
   "cell_type": "markdown",
   "metadata": {},
   "source": [
    "The following describes the number and names of extension bots and in group 'bot'"
   ]
  },
  {
   "cell_type": "code",
   "execution_count": 22,
   "metadata": {},
   "outputs": [],
   "source": [
    "sql = \"SELECT DISTINCT(bots.name) FROM bots WHERE groups LIKE '%bot%'AND is_extension_bot = 1\"\n",
    "result = cursor.execute(sql)\n",
    "    \n",
    "bots = []\n",
    "for item in result:\n",
    "    bots.append(item[0])\n",
    "df['group']['ex_b'] = len(bots)\n",
    "# print(bots)"
   ]
  },
  {
   "cell_type": "markdown",
   "metadata": {},
   "source": [
    "The following describes the number and names of extension bots and a request for permission"
   ]
  },
  {
   "cell_type": "code",
   "execution_count": 23,
   "metadata": {},
   "outputs": [],
   "source": [
    "sql = \"SELECT DISTINCT(bots.name) FROM bots INNER JOIN requests_for_permissions ON requests_for_permissions.bot_name = bots.name WHERE is_extension_bot = 1\"\n",
    "result = cursor.execute(sql)\n",
    "    \n",
    "bots = []\n",
    "for item in result:\n",
    "    bots.append(item[0])\n",
    "df['request']['ex_b'] = len(bots)\n",
    "# print(bots)"
   ]
  },
  {
   "cell_type": "markdown",
   "metadata": {},
   "source": [
    "The following describes the number and names of extension bots and a successful request for permission"
   ]
  },
  {
   "cell_type": "code",
   "execution_count": 24,
   "metadata": {},
   "outputs": [],
   "source": [
    "sql = \"SELECT DISTINCT(bots.name) FROM bots INNER JOIN requests_for_permissions ON requests_for_permissions.bot_name = bots.name WHERE is_extension_bot = 1 AND requests_for_permissions.is_successful = 1\"\n",
    "result = cursor.execute(sql)\n",
    "\n",
    "bots = []\n",
    "for item in result:\n",
    "    bots.append(item[0])\n",
    "df['s_request']['ex_b'] = len(bots)\n",
    "# print(bots)"
   ]
  },
  {
   "cell_type": "markdown",
   "metadata": {},
   "source": [
    "The following describes the number and names of extension bots and an unsuccessful request for permission"
   ]
  },
  {
   "cell_type": "code",
   "execution_count": 25,
   "metadata": {},
   "outputs": [],
   "source": [
    "sql = \"SELECT DISTINCT(bots.name) FROM bots INNER JOIN requests_for_permissions ON requests_for_permissions.bot_name = bots.name WHERE is_extension_bot = 1 AND requests_for_permissions.is_successful = 0\"\n",
    "result = cursor.execute(sql)\n",
    "\n",
    "bots = []\n",
    "for item in result:\n",
    "    bots.append(item[0])\n",
    "df['u_request']['ex_b'] = len(bots)\n",
    "# print(bots)"
   ]
  },
  {
   "cell_type": "markdown",
   "metadata": {},
   "source": [
    "The following describes the number and names of bots in group 'bot' and a request for permission"
   ]
  },
  {
   "cell_type": "code",
   "execution_count": 26,
   "metadata": {},
   "outputs": [],
   "source": [
    "sql = \"SELECT DISTINCT(bots.name) FROM bots INNER JOIN requests_for_permissions ON requests_for_permissions.bot_name = bots.name WHERE groups LIKE '%bot%'\"\n",
    "result = cursor.execute(sql)\n",
    "    \n",
    "bots = []\n",
    "for item in result:\n",
    "    bots.append(item[0])\n",
    "df['request']['group'] = len(bots)\n",
    "# print(bots)"
   ]
  },
  {
   "cell_type": "markdown",
   "metadata": {},
   "source": [
    "The following describes the number and names of bots in group 'bot' and a successful request for permission"
   ]
  },
  {
   "cell_type": "code",
   "execution_count": 27,
   "metadata": {},
   "outputs": [],
   "source": [
    "sql = \"SELECT DISTINCT(bots.name) FROM bots INNER JOIN requests_for_permissions ON requests_for_permissions.bot_name = bots.name WHERE groups LIKE '%bot%' AND requests_for_permissions.is_successful = 1\"\n",
    "result = cursor.execute(sql)\n",
    "\n",
    "bots = []\n",
    "for item in result:\n",
    "    bots.append(item[0])\n",
    "df['s_request']['group'] = len(bots)\n",
    "# print(bots)"
   ]
  },
  {
   "cell_type": "markdown",
   "metadata": {},
   "source": [
    "The following describes the number and names of bots in group 'bot' and an unsuccessful request for permission"
   ]
  },
  {
   "cell_type": "code",
   "execution_count": 28,
   "metadata": {},
   "outputs": [],
   "source": [
    "sql = \"SELECT DISTINCT(bots.name) FROM bots INNER JOIN requests_for_permissions ON requests_for_permissions.bot_name = bots.name WHERE groups LIKE '%bot%' AND requests_for_permissions.is_successful = 0\"\n",
    "result = cursor.execute(sql)\n",
    "    \n",
    "bots = []\n",
    "for item in result:\n",
    "    bots.append(item[0])\n",
    "df['u_request']['group'] = len(bots)\n",
    "# print(bots)"
   ]
  },
  {
   "cell_type": "markdown",
   "metadata": {},
   "source": [
    "The following describes the number and of bots with a successful an unsuccessful request for permission"
   ]
  },
  {
   "cell_type": "code",
   "execution_count": 29,
   "metadata": {},
   "outputs": [],
   "source": [
    "sql = \"SELECT DISTINCT(bot_name) FROM requests_for_permissions WHERE  requests_for_permissions.is_successful = 1 AND bot_name IN (SELECT bot_name FROM requests_for_permissions WHERE requests_for_permissions.is_successful = 0)\"\n",
    "result = cursor.execute(sql)\n",
    "    \n",
    "bots = []\n",
    "for item in result:\n",
    "    bots.append(item[0])\n",
    "df['u_request']['s_request'] = len(bots)\n",
    "# print(bots)"
   ]
  },
  {
   "cell_type": "markdown",
   "metadata": {},
   "source": [
    "The subsequent table summarizes all previous calculated values (only the count) to give a better overview. The collumn names are described as follows:\n",
    "\n",
    "| column name               | explanation                               |\n",
    "| --------------------------|:-----------------------------------------:|\n",
    "| b_f                       | has bot flag                              |\n",
    "| no_b_f                    | has no bot flag                           |\n",
    "| ex_b                      | is a extension bot                        |\n",
    "| group                     | is in group 'bot'                         |\n",
    "| request                   | has a request for permission              |\n",
    "| s_request                 | has a successful request for permission   |\n",
    "| u_request                 | has a unsuccessful request for permission |"
   ]
  },
  {
   "cell_type": "code",
   "execution_count": 30,
   "metadata": {},
   "outputs": [
    {
     "name": "stdout",
     "output_type": "stream",
     "text": [
      "           b_f no_b_f ex_b group request s_request u_request  sum\n",
      "b_f        258      0    0   200     244       244        20  NaN\n",
      "no_b_f     NaN    161    0    23      61        40        23  NaN\n",
      "ex_b       NaN    NaN    6     3       1         1         0  NaN\n",
      "group      NaN    NaN  NaN   251     237       237        15  NaN\n",
      "request    NaN    NaN  NaN   NaN     367       321        70  NaN\n",
      "s_request  NaN    NaN  NaN   NaN     NaN       321        24  NaN\n",
      "u_request  NaN    NaN  NaN   NaN     NaN       NaN        70  NaN\n",
      "sum        NaN    NaN  NaN   NaN     NaN       NaN       NaN  NaN\n"
     ]
    }
   ],
   "source": [
    "print(df)"
   ]
  },
  {
   "cell_type": "markdown",
   "metadata": {},
   "source": [
    "The following describes the number and the names of all unique bots. These bots are retrieved from all lists (e.g. bots with a bot flag, bots without a bot flag, bots with a request for permission, bots in the user group 'bot' and extension bots)"
   ]
  },
  {
   "cell_type": "code",
   "execution_count": 31,
   "metadata": {},
   "outputs": [
    {
     "name": "stdout",
     "output_type": "stream",
     "text": [
      "Number of all unique bots: 489\n",
      "Names of all unique bots: Fabot, PositionStatements Bot, Mr Robot, CyclingInitBot, Citing Bot, Antoine2711bot, SaschaBot, ThieolBot, Huzzlet the bot, JarektBot, Kartṛ-bot, DanmicholoBot, ValterVBot, 1VeertjeBot, Byrialbot, DynamicBot Srv2, Donna Nobot, Sartle.wiki.bot, MechQuesterBot, Kompakt-bot, Dom bot, Lingua Libre Bot, JonHaraldSøbyWMNO-bot, Glavkos bot, SDrewthbot, Krdbot, EmptyBot, JVbot, AlphamaBot, SvebertBot, PastoriBot, BacDiveBot, AxelBot, BacterialAnnotationBot, LinedBot, ZbwAddAuthorityBot, Lisp.hippie.bot, Framabot, CoBot, L PBot, US National Archives bot, The Anomebot, CommonsDelinquent, Addbot, Mbchbot, JhealdBatch, MahdiBot, Hkn-bot, Jane023bot, ViscoBot, RoboViolet, DiscogsBot, Peuc bot, ZaBOTka, BotMultichill, BraveBot, BotNinja, MalarzBOT, Alecs.bot, RobotMichiel1972, Github-wiki-bot, HaroldBot, PreferentialBot, RobotRobin, ScorumMEBot, TaxonBot, AvicBot, Eflybot, Choboty, Cyberbot I, Smbbot, Atobot, Johnflow, Butlerbot, LkastlerBot, SergoBot, Mahirbot, 레비:봇, Mush bot, ItalianSchoolsBot, RollBot, HaploBot, Scorumbot, Theo's Little Bot, RfcBot, Vadbot, R2-D2 Bot, Shuaib-bot, AkBot, Botik, Epochs bot, DbBot, ShonagonBot, Shyde, MastiBot, Steenthbot, SourcererBot, Tulsibot, PokestarFanBot, RobokoBot, Hoo Bot, DarafshBot, MajedBot, PajnBot, Nicolas1981Bot, DrTrigonBot, OpenLibraryBot, DangSunFlood2, JackieBot, LinkRecoveryBot, BotAdventures, Catabot, StrynBot, Valerio Bozzolan bot, KaldariBot, SanniBot, S205643bot, GPUBot, MsynBot, CellosaurusBot, JayWackerBot, TokokoBot, DangSunBot, LocatorBot, Աշբոտ, Jeblad (bot), Dipsacus fullonum bot, Gerakibot, JoRobot, Shankarbot, BotOrienteerix, NIOSH bot, ListeriaBot, CennoBot, Xaris333Bot, Asahibot, Faebot, Lansbot, TptBot, UreomiczBot, ZkBot, EdgarsBot, Escarbot, EloBot, Dima st bk bot, Luuvabot, ETISBot, StackerBot, JanitorBot, KrBot2, Legobot, CaliburnBOT, ZedlikBot, SweetBot, KRLS Bot, BOTZellforschung, MuBot, %D0%9D%D0%A1%D0%91%D0%BE%D1%82, Polish Monuments, Babel AutoCreate, MatmaBot, Ra-bot-nik, Maintenance script, BaseBot, WylveWidar, ÖdokBot, DeltaBot, DSisyphBot, Mr.Ibrahembot, YBot, Rodrigo Padula (BOT), SbisoloBot, Prompter Bot, KrattBot, Mikey641Bot, Ajrbot, JAnDbot, Symac bot, BotLuffyTech, VortBot, Persian Wikis Janitor Bot, Bigbossrobot, DynBot Srv2, IDbot, TemirovBot, BonifazWolbot, Checkallthestrings bot, CensusBot, Pathwaybot, MenoBot, ThetaBot, SteinsplitterBot, AVMbot, Robbot, WikiTrackBot, VlsergeyBot, Wasabot, JhsBot, Ugbot, SuccuBot, ZacheBot, D%C3%A6ghrefnBot, XXN-bot, Welvon-bot, Fatemibot, Fluxbot, DangSunFlood, AvocatoBot, GZWDer (flood), A-lú-mih-bot, AuCoBot, GanimalBot, Ruud Koot (bot), KrattBot1, RaymondYeeBot, Innocent bot, LandesfilmsammlungBot, PamputtBot, ShinobiBot, Tokrkbot, CanaryBot, Elhuyar Fundazioa bot, William Avery Bot, KabouterBot, AlessioBot, Snow22Bot, MarmaseBot, OmarGhridaBot, The Anonybot, Fako85bot, Or1Bot, Thebot, NoclaimsBot, Fatameh sister bot, BeneBot*, Armaanaziz, OrlodrimBot, Edoderoobot, KrBot, Verification pages bot, Revibot, TheStoneBot, EstonianHeritageBot, Flow talk page manager, KLBot2, MABot, Robin Bot, WikiLovesESBot, BaluBot, Dr Plane, Envlhbot, Lanbot, %C3%96dokBot, StigBot, MediaWiki message delivery, Chobot, Global Economic Map Bot, Citationgraph bot, 127.0.0.1, FischBot-test, UreomicsBot, DennyBot, MicrobeBot, BrackiBot, BinBot, MuISBot, FischBot, NikkiBot, SLiuBot, YuatchaBot, PintochBot, AeroidBot, ShBot, VesihiisiBot, CultureBot, MergeBot, VIAFbot, FutoohBot, Ebrambot, UrbanecmBot, InductiveBot, Liangent-bot, Politican scraper comparison bot, UVbot, Gabrielchihonglee-Bot, Taiwan democracy common, Goo1Bot, SoCalChemBot, FrigidBot, SKbot, PavloChemBot, InfoRobBot, Bovlbbot, Zielmicha Bot, JohlBot, ZiyadBot, ReimannBot, Research Bot, Pi bot, ImplicatorBot, KunMilanoRobot, OctraBot, FLOSSbot, KoehlBot, 1-Byte-Bot, AGbot, Structor, AndreCostaWMSE-bot, Botcrux, RileyBot, Makecat-bot, Ping08Bot, Florentyna, Gzen92Bot, ReosarevokBot, VorontsovIEbot, CalakBot, Arasaacbot, MagulBot, CommonsDelinker, Bekicot, MexBot, VollBot, DoctorBot, MdupontDataBot, WYImporterBot, Rezabot, DangSunBot2, Alleycatbot, MidleadingBot, Frettiebot, BandMemberBot, Aplikasi-Bot, BalajijagadeshBot, Cewbot, Sarojbot, Jntent's Bot, JarBot, SamoaBot, Popcornbot, Fabris Los, Descriptioncreator, Hazard-Bot, AftabBot, D2-bot, Strainubot, KasparBot, Sanjeev bot, RobotGMwikt, Tabot, JhealdBot, Peter17-Bot, Mjbmrbot, Yuibot, ProteinBoxBot, Deskanabot, GeneaBot, PBot, AkkakkBot, PoliticianBot, ConBot, Dafna3.bot, InteliBOT, YasBot, DBpedia-mapper-bot, BthBasketbot, FuzzyBot, Sk!dbot, Jefft0Bot, JWbot, BotMultichillT, Csvtodata, Xqbot, Widar of zolo, Escabot, BernsteinBot, MerlBot, HannolansBot, InkoBot, MediaWiki default, ASammourBot, WikiDataScapeBot, Phenobot, Dexbot, CzechoBot, AviBot, MedalBot, PLbot, DixonDBot, Manuvinabot, TambonBot, BraunBot, Botapyb, AndreeBot, Translation Notification Bot, Wizzo-Bot, Position holder history bot, Rebot, Theo%27s Little Bot, ProgvalInfoboxBot, Soh.Miero.Bot, Whymbot, JYBot, Pywikibot, Miguillen-bot, NukatCatalogBot, AmpersandBot, Hawk-Eye-Bot, HuskyBot, SpBot, DimaBot, SaamDataImportBot, Louperibot, Hurricanefan25 in the storm, TohaomgBot, FloBot, Svenbot, SPQRobot, DæghrefnBot, AyackBot, Crossref bot, QuickStatementsBot, Makrobot, MineoBot, WikiGrok, MilanBot, BetaBot, WapBot, EaasServiceBot, GrammarwareBot, Alexabot, A ka es qbot, Mangler-bot, SalviBot, EmausBot, EV100 bot, VsBot, AinaliBot, AliciaFagervingWMSE-bot, RavenXBot2, Docu with script, JneubertAutomated, QZandenBot, AHbot, Cheers!-bot, %D4%B1%D5%B7%D5%A2%D5%B8%D5%BF, MerlIwBot, BMacZeroBot, WhidouBot, DidymBot, Reinheitsgebot, Mro-bot, Aosbot, CC0-JS, KamikazeBot, AudeBot, HaxpettBot, Danroks bot, HypoBOT, Dcirovicbot, EranBot, Abuse filter, Twofivesixbot, Lockalbot, HiveBot, The Anomebot 3, Wolfgang8741 bot, AlepfuBot, ElphiBot, Pigsonthewing-bot, UnderlyingBot, Neonionbot, Maria research bot, Chembot, EdinBot, BoulaurBot, MatSuBot, APSbot, Dɐ-Bot, MBAreaBot, PingWDbot, InwBot, Emijrpbot, PoulpyBot, Nullzerobot, Mk-II, Wakebrdkid's bot, JudgeBot, B0ttle\n"
     ]
    }
   ],
   "source": [
    "result = cursor.execute(\n",
    "    '''\n",
    "    SELECT name AS bot\n",
    "    FROM bots\n",
    "    UNION\n",
    "    SELECT bot_name AS bot\n",
    "    FROM requests_for_permissions\n",
    "    ''')\n",
    "    \n",
    "bots = []\n",
    "for item in result:\n",
    "    bots.append(item[0])\n",
    "bots = set(bots)\n",
    "\n",
    "print(\"Number of all unique bots: %d\" % len(bots))\n",
    "print(\"Names of all unique bots: %s\" % ', '.join(list(bots)))"
   ]
  },
  {
   "cell_type": "markdown",
   "metadata": {},
   "source": [
    "The following section compares all unique bots which have a request for permission and all other bots.\n",
    "\n",
    "The first comparison is the amount of bots with and without a request for permission and there names.\n",
    "\n",
    "Bots with a request for permission:"
   ]
  },
  {
   "cell_type": "code",
   "execution_count": 32,
   "metadata": {},
   "outputs": [
    {
     "name": "stdout",
     "output_type": "stream",
     "text": [
      "Number of all unique bots with a request for permission: 367\n",
      "Names of all unique bots with a request for permission: Fabot, PositionStatements Bot, CyclingInitBot, Citing Bot, SaschaBot, ThieolBot, ValterVBot, DanmicholoBot, Byrialbot, DynamicBot Srv2, Donna Nobot, Sartle.wiki.bot, MechQuesterBot, Kompakt-bot, Dom bot, Lingua Libre Bot, Glavkos bot, SDrewthbot, Krdbot, EmptyBot, SvebertBot, JVbot, AlphamaBot, BacDiveBot, Lisp.hippie.bot, Framabot, L PBot, CoBot, The Anomebot, Addbot, Mbchbot, JhealdBatch, MahdiBot, Hkn-bot, Jane023bot, ViscoBot, RoboViolet, DiscogsBot, Peuc bot, ZaBOTka, BotMultichill, BraveBot, BotNinja, RobotMichiel1972, MalarzBOT, Github-wiki-bot, PreferentialBot, HaroldBot, ScorumMEBot, TaxonBot, Choboty, Cyberbot I, Smbbot, Atobot, SergoBot, Mahirbot, ItalianSchoolsBot, RollBot, HaploBot, RfcBot, Shuaib-bot, AkBot, Botik, Epochs bot, DbBot, Shyde, ShonagonBot, MastiBot, Steenthbot, SourcererBot, Tulsibot, PokestarFanBot, Hoo Bot, MajedBot, PajnBot, Nicolas1981Bot, DrTrigonBot, OpenLibraryBot, DangSunFlood2, LinkRecoveryBot, BotAdventures, Valerio Bozzolan bot, StrynBot, Catabot, KaldariBot, SanniBot, S205643bot, GPUBot, MsynBot, CellosaurusBot, JayWackerBot, TokokoBot, LocatorBot, Jeblad (bot), Dipsacus fullonum bot, Shankarbot, JoRobot, BotOrienteerix, Xaris333Bot, CennoBot, ListeriaBot, Faebot, TptBot, UreomiczBot, ZkBot, EdgarsBot, Escarbot, EloBot, Dima st bk bot, Luuvabot, ETISBot, StackerBot, KrBot2, Legobot, CaliburnBOT, ZedlikBot, SweetBot, KRLS Bot, MuBot, %D0%9D%D0%A1%D0%91%D0%BE%D1%82, Polish Monuments, MatmaBot, Ra-bot-nik, BaseBot, WylveWidar, DeltaBot, DSisyphBot, Mr.Ibrahembot, SbisoloBot, Prompter Bot, KrattBot, Mikey641Bot, JAnDbot, Symac bot, VortBot, TemirovBot, Checkallthestrings bot, CensusBot, Pathwaybot, SteinsplitterBot, Robbot, AVMbot, VlsergeyBot, Wasabot, JhsBot, SuccuBot, D%C3%A6ghrefnBot, XXN-bot, Welvon-bot, Fatemibot, Fluxbot, DangSunFlood, GZWDer (flood), AvocatoBot, AuCoBot, Ruud Koot (bot), KrattBot1, RaymondYeeBot, Innocent bot, LandesfilmsammlungBot, ShinobiBot, PamputtBot, CanaryBot, Elhuyar Fundazioa bot, William Avery Bot, KabouterBot, AlessioBot, MarmaseBot, The Anonybot, Or1Bot, Thebot, NoclaimsBot, Fatameh sister bot, BeneBot*, OrlodrimBot, Edoderoobot, KrBot, Revibot, TheStoneBot, EstonianHeritageBot, KLBot2, MABot, Robin Bot, WikiLovesESBot, BaluBot, %C3%96dokBot, StigBot, Chobot, Global Economic Map Bot, Citationgraph bot, DennyBot, MicrobeBot, BrackiBot, MuISBot, FischBot, SLiuBot, NikkiBot, PintochBot, ShBot, VesihiisiBot, MergeBot, VIAFbot, FutoohBot, Ebrambot, UrbanecmBot, InductiveBot, Liangent-bot, Taiwan democracy common, Goo1Bot, SoCalChemBot, FrigidBot, SKbot, InfoRobBot, ZiyadBot, ReimannBot, Research Bot, Pi bot, ImplicatorBot, KunMilanoRobot, OctraBot, FLOSSbot, 1-Byte-Bot, AGbot, Structor, AndreCostaWMSE-bot, Botcrux, RileyBot, Makecat-bot, Florentyna, Gzen92Bot, ReosarevokBot, VorontsovIEbot, MagulBot, CalakBot, CommonsDelinker, Bekicot, MexBot, VollBot, DoctorBot, MdupontDataBot, WYImporterBot, Rezabot, MidleadingBot, Frettiebot, BandMemberBot, BalajijagadeshBot, Aplikasi-Bot, Cewbot, Sarojbot, JarBot, SamoaBot, Popcornbot, Descriptioncreator, Hazard-Bot, AftabBot, D2-bot, Strainubot, KasparBot, Sanjeev bot, RobotGMwikt, JhealdBot, Peter17-Bot, Mjbmrbot, Yuibot, ProteinBoxBot, GeneaBot, PBot, AkkakkBot, PoliticianBot, YasBot, InteliBOT, DBpedia-mapper-bot, BthBasketbot, Sk!dbot, JWbot, BotMultichillT, Widar of zolo, Escabot, MerlBot, HannolansBot, InkoBot, ASammourBot, WikiDataScapeBot, Phenobot, Dexbot, CzechoBot, AviBot, MedalBot, PLbot, DixonDBot, TambonBot, BraunBot, Botapyb, AndreeBot, Translation Notification Bot, Wizzo-Bot, Position holder history bot, Theo%27s Little Bot, ProgvalInfoboxBot, Whymbot, JYBot, Pywikibot, Miguillen-bot, NukatCatalogBot, AmpersandBot, Hawk-Eye-Bot, HuskyBot, SpBot, SaamDataImportBot, Louperibot, TohaomgBot, Hurricanefan25 in the storm, Svenbot, AyackBot, QuickStatementsBot, Makrobot, MineoBot, WikiGrok, MilanBot, BetaBot, WapBot, GrammarwareBot, EaasServiceBot, Alexabot, A ka es qbot, SalviBot, EmausBot, VsBot, AinaliBot, AliciaFagervingWMSE-bot, RavenXBot2, Docu with script, JneubertAutomated, AHbot, %D4%B1%D5%B7%D5%A2%D5%B8%D5%BF, MerlIwBot, BMacZeroBot, WhidouBot, Reinheitsgebot, DidymBot, Mro-bot, Aosbot, CC0-JS, AudeBot, HaxpettBot, HypoBOT, Dcirovicbot, EranBot, Twofivesixbot, HiveBot, ElphiBot, AlepfuBot, Pigsonthewing-bot, UnderlyingBot, Chembot, EdinBot, BoulaurBot, MatSuBot, APSbot, MBAreaBot, PingWDbot, InwBot, Emijrpbot, PoulpyBot, Nullzerobot, JudgeBot, B0ttle\n"
     ]
    }
   ],
   "source": [
    "result = cursor.execute(\n",
    "    '''\n",
    "    SELECT DISTINCT(bot_name)\n",
    "    FROM requests_for_permissions\n",
    "    ''')\n",
    "\n",
    "bots = []\n",
    "for item in result:\n",
    "    bots.append(item[0])\n",
    "bots = set(bots)\n",
    "\n",
    "print(\"Number of all unique bots with a request for permission: %d\" % len(bots))\n",
    "print(\"Names of all unique bots with a request for permission: %s\" % ', '.join(list(bots)))"
   ]
  },
  {
   "cell_type": "markdown",
   "metadata": {},
   "source": [
    "Bots without a request for permission:"
   ]
  },
  {
   "cell_type": "code",
   "execution_count": 33,
   "metadata": {},
   "outputs": [
    {
     "name": "stdout",
     "output_type": "stream",
     "text": [
      "Number of all unique bots without a request for permission: 122\n",
      "Names of all unique bots without a request for permission: BernsteinBot, DangSunBot, BinBot, Աշբոտ, Mr Robot, MediaWiki default, Gerakibot, YuatchaBot, AeroidBot, CultureBot, Antoine2711bot, NIOSH bot, Huzzlet the bot, JarektBot, Asahibot, Kartṛ-bot, UVbot, Politican scraper comparison bot, Lansbot, 1VeertjeBot, Gabrielchihonglee-Bot, JanitorBot, Manuvinabot, JonHaraldSøbyWMNO-bot, PavloChemBot, BOTZellforschung, Bovlbbot, Rebot, Zielmicha Bot, Soh.Miero.Bot, JohlBot, Babel AutoCreate, PastoriBot, AxelBot, BacterialAnnotationBot, LinedBot, Maintenance script, ZbwAddAuthorityBot, UreomicsBot, DimaBot, ÖdokBot, US National Archives bot, KoehlBot, YBot, Rodrigo Padula (BOT), CommonsDelinquent, FloBot, Ajrbot, SPQRobot, BotLuffyTech, DæghrefnBot, Persian Wikis Janitor Bot, Crossref bot, Bigbossrobot, Ping08Bot, DynBot Srv2, IDbot, BonifazWolbot, Arasaacbot, MenoBot, ThetaBot, WikiTrackBot, Alecs.bot, Mangler-bot, RobotRobin, Ugbot, DangSunBot2, ZacheBot, EV100 bot, Alleycatbot, AvicBot, Eflybot, Jntent's Bot, A-lú-mih-bot, GanimalBot, QZandenBot, Cheers!-bot, Johnflow, Butlerbot, Fabris Los, LkastlerBot, Tokrkbot, 레비:봇, Mush bot, KamikazeBot, Scorumbot, Theo's Little Bot, Tabot, Vadbot, R2-D2 Bot, Danroks bot, Snow22Bot, OmarGhridaBot, Abuse filter, Fako85bot, Lockalbot, The Anomebot 3, Wolfgang8741 bot, Deskanabot, Armaanaziz, RobokoBot, Neonionbot, DarafshBot, Verification pages bot, Maria research bot, ConBot, Dafna3.bot, Flow talk page manager, JackieBot, FuzzyBot, Jefft0Bot, Dr Plane, Dɐ-Bot, Envlhbot, Lanbot, Csvtodata, MediaWiki message delivery, Xqbot, Mk-II, Wakebrdkid's bot, 127.0.0.1, FischBot-test\n"
     ]
    }
   ],
   "source": [
    "result = cursor.execute(\n",
    "    '''\n",
    "    SELECT name \n",
    "    FROM bots\n",
    "    EXCEPT\n",
    "    SELECT DISTINCT(bot_name) AS name\n",
    "    FROM requests_for_permissions\n",
    "    ''')\n",
    "\n",
    "bots = []\n",
    "for item in result:\n",
    "    bots.append(item[0])\n",
    "bots = set(bots)\n",
    "\n",
    "print(\"Number of all unique bots without a request for permission: %d\" % len(bots))\n",
    "print(\"Names of all unique bots without a request for permission: %s\" % ', '.join(list(bots)))"
   ]
  },
  {
   "cell_type": "markdown",
   "metadata": {},
   "source": [
    "The next comparison is the user rights of bots with and without a request for permission."
   ]
  },
  {
   "cell_type": "markdown",
   "metadata": {},
   "source": [
    "The following shows the destribution of rights of bots with a request for permission. Note: the rights could not be retrived for all bots form the API for the reason that some bots for example do not have a user account anymore. Therefore in the graphic the maximum value of bots that have a specific right is 350 and not 367!"
   ]
  },
  {
   "cell_type": "code",
   "execution_count": 34,
   "metadata": {},
   "outputs": [
    {
     "data": {
      "text/plain": [
       "<matplotlib.axes._subplots.AxesSubplot at 0x114e835f8>"
      ]
     },
     "execution_count": 34,
     "metadata": {},
     "output_type": "execute_result"
    },
    {
     "data": {
      "image/png": "[encoded data removed]",
      "text/plain": [
       "<matplotlib.figure.Figure at 0x114e6cba8>"
      ]
     },
     "metadata": {},
     "output_type": "display_data"
    }
   ],
   "source": [
    "result = cursor.execute(\n",
    "    '''\n",
    "    SELECT DISTINCT(bot_name), rights\n",
    "    FROM requests_for_permissions\n",
    "    INNER JOIN bots ON bots.name = requests_for_permissions.bot_name\n",
    "    ''')\n",
    "\n",
    "rights_dict = {'rights': []}\n",
    "for item in result:\n",
    "    if item[1] is not None:\n",
    "        rights_dict['rights'] += item[1].split(',')\n",
    "\n",
    "df = pd.DataFrame(rights_dict)\n",
    "df = df.groupby(['rights']).size().reset_index(name='counts')\n",
    "df.plot(x='rights', y='counts', figsize=(15,10), kind='bar')"
   ]
  },
  {
   "cell_type": "markdown",
   "metadata": {},
   "source": [
    "The following shows the destribution of rights of bots without a request for permission. Note: the rights could not be retrived for all bots form the API for the reason that some bots for example do not have a user account anymore. Therefore in the graphic the maximum value of bots that have a specific right is 120 and not 122!"
   ]
  },
  {
   "cell_type": "code",
   "execution_count": 35,
   "metadata": {},
   "outputs": [
    {
     "data": {
      "text/plain": [
       "<matplotlib.axes._subplots.AxesSubplot at 0x1175d4908>"
      ]
     },
     "execution_count": 35,
     "metadata": {},
     "output_type": "execute_result"
    },
    {
     "data": {
      "image/png": "[encoded data removed]",
      "text/plain": [
       "<matplotlib.figure.Figure at 0x1176b2b00>"
      ]
     },
     "metadata": {},
     "output_type": "display_data"
    }
   ],
   "source": [
    "result = cursor.execute(\n",
    "    '''\n",
    "    SELECT rights\n",
    "    FROM bots \n",
    "    WHERE name IN (\n",
    "        SELECT name\n",
    "        FROM bots\n",
    "        EXCEPT\n",
    "        SELECT DISTINCT(bot_name) AS name\n",
    "        FROM requests_for_permissions\n",
    "    )\n",
    "    ''')\n",
    "\n",
    "rights_dict = {'rights': []}\n",
    "for item in result:\n",
    "    if item[0] is not None:\n",
    "        rights_dict['rights'] += item[0].split(',')\n",
    "\n",
    "df = pd.DataFrame(rights_dict)\n",
    "df = df.groupby(['rights']).size().reset_index(name='counts')\n",
    "df.plot(x='rights', y='counts', figsize=(15,10), kind='bar')"
   ]
  },
  {
   "cell_type": "code",
   "execution_count": 36,
   "metadata": {},
   "outputs": [],
   "source": [
    "result = cursor.execute(\n",
    "    '''\n",
    "    SELECT DISTINCT(bot_name), rights\n",
    "    FROM requests_for_permissions\n",
    "    INNER JOIN bots ON bots.name = requests_for_permissions.bot_name\n",
    "    ''')\n",
    "\n",
    "with_request_rights = []\n",
    "\n",
    "for item in result:\n",
    "    if item[1] is not None:\n",
    "        with_request_rights += item[1].split(',')\n",
    "\n",
    "with_request_rights = set(with_request_rights)\n",
    "\n",
    "result = cursor.execute(\n",
    "    '''\n",
    "    SELECT rights\n",
    "    FROM bots \n",
    "    WHERE name IN (\n",
    "        SELECT name\n",
    "        FROM bots\n",
    "        EXCEPT\n",
    "        SELECT DISTINCT(bot_name) AS name\n",
    "        FROM requests_for_permissions\n",
    "    )\n",
    "    ''')\n",
    "\n",
    "without_request_rights = []\n",
    "\n",
    "for item in result:\n",
    "    if item[0] is not None:\n",
    "        without_request_rights += item[0].split(',')\n",
    "\n",
    "without_request_rights = set(without_request_rights)"
   ]
  },
  {
   "cell_type": "markdown",
   "metadata": {},
   "source": [
    "The following shows all right that bots with a request for permission have but all other bots do not have."
   ]
  },
  {
   "cell_type": "code",
   "execution_count": 37,
   "metadata": {},
   "outputs": [
    {
     "data": {
      "text/plain": [
       "'movefile, managechangetags, titleblacklistlog, transcode-status, unwatchedpages, blockemail, nuke, editusercss, edituserjson, tboverride, editprotected, edituserjs, deletedhistory, unblockself, editinterface, deleterevision, browsearchive, deletechangetags, deletedtext, import, delete, editcontentmodel, abusefilter-modify, pagelang, globalblock-whitelist, massmessage, reupload-shared, move-subpages, rollback, deletelogentry, abusefilter-modify-restricted, oathauth-enable, block, flow-delete, protect, mergehistory, undelete, property-create, override-antispoof, markbotedits'"
      ]
     },
     "execution_count": 37,
     "metadata": {},
     "output_type": "execute_result"
    }
   ],
   "source": [
    "', '.join(with_request_rights.difference(without_request_rights))"
   ]
  },
  {
   "cell_type": "markdown",
   "metadata": {},
   "source": [
    "The following shows all right that bots without a request for permission have but all other bots do not have."
   ]
  },
  {
   "cell_type": "code",
   "execution_count": 38,
   "metadata": {},
   "outputs": [
    {
     "data": {
      "text/plain": [
       "''"
      ]
     },
     "execution_count": 38,
     "metadata": {},
     "output_type": "execute_result"
    }
   ],
   "source": [
    "', '.join(without_request_rights.difference(with_request_rights))"
   ]
  },
  {
   "cell_type": "markdown",
   "metadata": {},
   "source": [
    "The next comparison is the user groups of bots with and without a request for permission."
   ]
  },
  {
   "cell_type": "markdown",
   "metadata": {},
   "source": [
    "The following shows the destribution of groups of bots with a request for permission. Note: the groups could not be retrived for all bots form the API for the reason that some bots for example do not have a user account anymore. Therefore in the graphic the maximum value of bots that are in a specific group is 350 and not 367!"
   ]
  },
  {
   "cell_type": "code",
   "execution_count": 39,
   "metadata": {},
   "outputs": [
    {
     "data": {
      "text/plain": [
       "<matplotlib.axes._subplots.AxesSubplot at 0x117efde10>"
      ]
     },
     "execution_count": 39,
     "metadata": {},
     "output_type": "execute_result"
    },
    {
     "data": {
      "image/png": "[encoded data removed]",
      "text/plain": [
       "<matplotlib.figure.Figure at 0x117efd588>"
      ]
     },
     "metadata": {},
     "output_type": "display_data"
    }
   ],
   "source": [
    "result = cursor.execute(\n",
    "    '''\n",
    "    SELECT DISTINCT(bot_name), groups\n",
    "    FROM requests_for_permissions\n",
    "    INNER JOIN bots ON bots.name = requests_for_permissions.bot_name\n",
    "    ''')\n",
    "\n",
    "groups_dict = {'groups': []}\n",
    "for item in result:\n",
    "    if item[1] is not None:\n",
    "        groups_dict['groups'] += item[1].split(',')\n",
    "\n",
    "df = pd.DataFrame(groups_dict)\n",
    "df = df.groupby(['groups']).size().reset_index(name='counts')\n",
    "df.plot(x='groups', y='counts', figsize=(15,10), kind='bar')"
   ]
  },
  {
   "cell_type": "markdown",
   "metadata": {},
   "source": [
    "The following shows the destribution of groups of bots without a request for permission. Note: the groups could not be retrived for all bots form the API for the reason that some bots for example do not have a user account anymore. Therefore in the graphic the maximum value of bots that are in a specific group is 120 and not 122!"
   ]
  },
  {
   "cell_type": "code",
   "execution_count": 40,
   "metadata": {},
   "outputs": [
    {
     "data": {
      "text/plain": [
       "<matplotlib.axes._subplots.AxesSubplot at 0x117d2deb8>"
      ]
     },
     "execution_count": 40,
     "metadata": {},
     "output_type": "execute_result"
    },
    {
     "data": {
      "image/png": "[encoded data removed]",
      "text/plain": [
       "<matplotlib.figure.Figure at 0x114da0358>"
      ]
     },
     "metadata": {},
     "output_type": "display_data"
    }
   ],
   "source": [
    "result = cursor.execute(\n",
    "    '''\n",
    "    SELECT groups\n",
    "    FROM bots \n",
    "    WHERE name IN (\n",
    "        SELECT name\n",
    "        FROM bots\n",
    "        EXCEPT\n",
    "        SELECT DISTINCT(bot_name) AS name\n",
    "        FROM requests_for_permissions\n",
    "    )\n",
    "    ''')\n",
    "\n",
    "groups_dict = {'groups': []}\n",
    "for item in result:\n",
    "    if item[0] is not None:\n",
    "        groups_dict['groups'] += item[0].split(',')\n",
    "\n",
    "df = pd.DataFrame(groups_dict)\n",
    "df = df.groupby(['groups']).size().reset_index(name='counts')\n",
    "df.plot(x='groups', y='counts', figsize=(15,10), kind='bar')"
   ]
  },
  {
   "cell_type": "code",
   "execution_count": 41,
   "metadata": {},
   "outputs": [],
   "source": [
    "result = cursor.execute(\n",
    "    '''\n",
    "    SELECT DISTINCT(bot_name), groups\n",
    "    FROM requests_for_permissions\n",
    "    INNER JOIN bots ON bots.name = requests_for_permissions.bot_name\n",
    "    ''')\n",
    "\n",
    "with_request_groups = []\n",
    "\n",
    "for item in result:\n",
    "    if item[1] is not None:\n",
    "        with_request_groups += item[1].split(',')\n",
    "        \n",
    "with_request_groups = set(with_request_groups)\n",
    "\n",
    "result = cursor.execute(\n",
    "    '''\n",
    "    SELECT groups\n",
    "    FROM bots \n",
    "    WHERE name IN (\n",
    "        SELECT name\n",
    "        FROM bots\n",
    "        EXCEPT\n",
    "        SELECT DISTINCT(bot_name) AS name\n",
    "        FROM requests_for_permissions\n",
    "    )\n",
    "    ''')\n",
    "\n",
    "without_request_groups = []\n",
    "\n",
    "for item in result:\n",
    "    if item[0] is not None:\n",
    "        without_request_groups += item[0].split(',')\n",
    "\n",
    "without_request_groups = set(without_request_groups)"
   ]
  },
  {
   "cell_type": "markdown",
   "metadata": {},
   "source": [
    "The following shows all groups that bots with a request for permission have but all other bots do not have."
   ]
  },
  {
   "cell_type": "code",
   "execution_count": 42,
   "metadata": {},
   "outputs": [
    {
     "data": {
      "text/plain": [
       "'sysop, confirmed, rollbacker'"
      ]
     },
     "execution_count": 42,
     "metadata": {},
     "output_type": "execute_result"
    }
   ],
   "source": [
    "', '.join(with_request_groups.difference(without_request_groups))"
   ]
  },
  {
   "cell_type": "markdown",
   "metadata": {},
   "source": [
    "The following shows all right that bots without a request for permission have but all other bots do not have."
   ]
  },
  {
   "cell_type": "code",
   "execution_count": 43,
   "metadata": {},
   "outputs": [
    {
     "data": {
      "text/plain": [
       "'flow-bot'"
      ]
     },
     "execution_count": 43,
     "metadata": {},
     "output_type": "execute_result"
    }
   ],
   "source": [
    "', '.join(without_request_groups.difference(with_request_groups))"
   ]
  },
  {
   "cell_type": "markdown",
   "metadata": {},
   "source": [
    "### Difference between rights of bots wist a bot flag and bots which are in the group 'bot'"
   ]
  },
  {
   "cell_type": "markdown",
   "metadata": {},
   "source": [
    "The following shows which different rights bots with a bot flag but without beeing in the group 'bot' have."
   ]
  },
  {
   "cell_type": "code",
   "execution_count": 44,
   "metadata": {},
   "outputs": [
    {
     "name": "stdout",
     "output_type": "stream",
     "text": [
      "{'transcode-reset', 'spamblacklistlog', 'collectionsaveascommunitypage', 'viewmywatchlist', 'flow-lock', 'flow-edit-post', 'centralauth-merge', 'purge', 'editmyuserjson', 'autoconfirmed', 'edit', 'autopatrol', 'editmyprivateinfo', 'item-term', 'patrol', 'move-categorypages', 'skipcaptcha', 'editmyoptions', 'minoredit', 'createtalk', 'reupload', 'abusefilter-log', 'flow-hide', 'read', 'abusefilter-view', 'move-rootuserpages', 'translate-messagereview', 'viewmyprivateinfo', 'move', 'createaccount', 'property-term', 'translate-groupreview', 'editmyuserjs', 'createpage', 'item-redirect', 'collectionsaveasuserpage', 'vipsscaler-test', 'changetags', 'editmyusercss', 'writeapi', 'sendemail', 'mwoauthmanagemygrants', 'editsemiprotected', 'upload', 'abusefilter-log-detail', 'item-merge', 'translate', 'applychangetags', 'editmywatchlist', 'reupload-own'}\n"
     ]
    }
   ],
   "source": [
    "sql = \"SELECT rights FROM bots WHERE has_botflag = 1 AND groups NOT LIKE '%bot%'\"\n",
    "result = cursor.execute(sql)\n",
    "\n",
    "bot_flag_rights = []\n",
    "for item in result:\n",
    "    if item[0] is not None:\n",
    "        bot_flag_rights += item[0].split(',')\n",
    "bot_flag_rights = set(bot_flag_rights)\n",
    "print(bot_flag_rights)"
   ]
  },
  {
   "cell_type": "markdown",
   "metadata": {},
   "source": [
    "The following shows which different rights bots which are in the group 'bot' but do not have a bot flag have."
   ]
  },
  {
   "cell_type": "code",
   "execution_count": 45,
   "metadata": {},
   "outputs": [
    {
     "name": "stdout",
     "output_type": "stream",
     "text": [
      "{'transcode-reset', 'spamblacklistlog', 'nominornewtalk', 'collectionsaveascommunitypage', 'viewmywatchlist', 'flow-lock', 'flow-edit-post', 'centralauth-merge', 'autoconfirmed', 'editmyuserjson', 'purge', 'autopatrol', 'edit', 'editmyprivateinfo', 'item-term', 'patrol', 'skipcaptcha', 'move-categorypages', 'suppressredirect', 'bot', 'editmyoptions', 'apihighlimits', 'minoredit', 'createtalk', 'reupload', 'abusefilter-log', 'flow-hide', 'noratelimit', 'move', 'read', 'abusefilter-view', 'viewmyprivateinfo', 'move-rootuserpages', 'translate-messagereview', 'createaccount', 'property-term', 'translate-groupreview', 'editmyuserjs', 'createpage', 'item-redirect', 'collectionsaveasuserpage', 'vipsscaler-test', 'changetags', 'editmyusercss', 'writeapi', 'sendemail', 'mwoauthmanagemygrants', 'editsemiprotected', 'upload', 'abusefilter-log-detail', 'item-merge', 'translate', 'applychangetags', 'editmywatchlist', 'reupload-own'}\n"
     ]
    }
   ],
   "source": [
    "sql = \"SELECT rights FROM bots WHERE has_botflag = 0 AND groups LIKE '%bot%'\"\n",
    "result = cursor.execute(sql)\n",
    "\n",
    "group_rights = []\n",
    "for item in result:\n",
    "    if item[0] is not None:\n",
    "        group_rights += item[0].split(',')\n",
    "group_rights = set(group_rights)\n",
    "print(group_rights)"
   ]
  },
  {
   "cell_type": "markdown",
   "metadata": {},
   "source": [
    "This shows all rights that bots with a bot flag have but bot which are in the group 'bot' do not have."
   ]
  },
  {
   "cell_type": "code",
   "execution_count": 46,
   "metadata": {},
   "outputs": [
    {
     "name": "stdout",
     "output_type": "stream",
     "text": [
      "set()\n"
     ]
    }
   ],
   "source": [
    "print(bot_flag_rights.difference(group_rights))"
   ]
  },
  {
   "cell_type": "markdown",
   "metadata": {},
   "source": [
    "This shows all rights that bots which are in the group 'bot' have but bots with a flag do not have."
   ]
  },
  {
   "cell_type": "code",
   "execution_count": 47,
   "metadata": {},
   "outputs": [
    {
     "name": "stdout",
     "output_type": "stream",
     "text": [
      "{'nominornewtalk', 'noratelimit', 'suppressredirect', 'bot', 'apihighlimits'}\n"
     ]
    }
   ],
   "source": [
    "print(group_rights.difference(bot_flag_rights))"
   ]
  },
  {
   "cell_type": "markdown",
   "metadata": {},
   "source": [
    "### Analysis of Requests for Permission\n",
    "\n",
    "This chepter aims to analyse the requests for permissions for bots on Wikidata."
   ]
  },
  {
   "cell_type": "markdown",
   "metadata": {},
   "source": [
    "| criteria                  | amount                |\n",
    "| --------------------------|:---------------------:|\n",
    "| number of bots            |356                    |\n",
    "| number of requests        |655                    |\n",
    "| date of the first request |2012-11-13 03:29:25    |\n",
    "| date of the last request  |2018-05-14 13:03:51    |\n",
    "\n",
    "As date value the date when the request was first edited is taken."
   ]
  },
  {
   "cell_type": "markdown",
   "metadata": {},
   "source": [
    "#### Distribution of request for permission\n",
    "\n",
    "This shows the distribution of request for permission over time. As time value the time when the request for permission was closed is taken."
   ]
  },
  {
   "cell_type": "code",
   "execution_count": 48,
   "metadata": {},
   "outputs": [
    {
     "data": {
      "image/png": "[encoded data removed]",
      "text/plain": [
       "<matplotlib.figure.Figure at 0x1182c7518>"
      ]
     },
     "metadata": {},
     "output_type": "display_data"
    }
   ],
   "source": [
    "Analyser.plot_distribution_over_time(\n",
    "    '''\n",
    "    SELECT closed_at \n",
    "    FROM requests_for_permissions \n",
    "    WHERE closed_at <> '' \n",
    "    ORDER BY closed_at\n",
    "    ''')"
   ]
  },
  {
   "cell_type": "markdown",
   "metadata": {},
   "source": [
    "### Distribution of successful request for permission\n",
    "\n",
    "This shows the distribution of successful request for permission over time. As time value the time when the request for permission was closed is taken."
   ]
  },
  {
   "cell_type": "code",
   "execution_count": 49,
   "metadata": {},
   "outputs": [
    {
     "data": {
      "image/png": "[encoded data removed]",
      "text/plain": [
       "<matplotlib.figure.Figure at 0x1189d7668>"
      ]
     },
     "metadata": {},
     "output_type": "display_data"
    }
   ],
   "source": [
    "Analyser.plot_distribution_over_time(\n",
    "    '''\n",
    "    SELECT closed_at \n",
    "    FROM requests_for_permissions \n",
    "    WHERE is_successful = 1 \n",
    "    AND closed_at <> '' \n",
    "    ORDER BY closed_at\n",
    "    ''')"
   ]
  },
  {
   "cell_type": "markdown",
   "metadata": {},
   "source": [
    "### Distribution of unsuccessful request for permission\n",
    "\n",
    "This shows the distribution of unsuccessful request for permission over time. As time value the time when the request for permission was closed is taken."
   ]
  },
  {
   "cell_type": "code",
   "execution_count": 50,
   "metadata": {},
   "outputs": [
    {
     "data": {
      "image/png": "[encoded data removed]",
      "text/plain": [
       "<matplotlib.figure.Figure at 0x118e94b38>"
      ]
     },
     "metadata": {},
     "output_type": "display_data"
    }
   ],
   "source": [
    "Analyser.plot_distribution_over_time(\n",
    "    '''\n",
    "    SELECT closed_at \n",
    "    FROM requests_for_permissions \n",
    "    WHERE is_successful = 0 \n",
    "    AND closed_at <> '' \n",
    "    ORDER BY closed_at\n",
    "    ''')"
   ]
  },
  {
   "cell_type": "markdown",
   "metadata": {},
   "source": [
    "### Distribution of editor count\n",
    "\n",
    "This shows the distribution of editor count per request for permission. The editor count represents the number of different users who edited the request for permission."
   ]
  },
  {
   "cell_type": "code",
   "execution_count": 51,
   "metadata": {},
   "outputs": [
    {
     "data": {
      "image/png": "[encoded data removed]",
      "text/plain": [
       "<matplotlib.figure.Figure at 0x1192d1470>"
      ]
     },
     "metadata": {},
     "output_type": "display_data"
    }
   ],
   "source": [
    "Analyser.plot_distribution(\n",
    "    '''\n",
    "    SELECT editor_count, COUNT(*)\n",
    "    FROM requests_for_permissions\n",
    "    GROUP BY editor_count\n",
    "    ''')"
   ]
  },
  {
   "cell_type": "code",
   "execution_count": null,
   "metadata": {},
   "outputs": [],
   "source": []
  }
 ],
 "metadata": {
  "kernelspec": {
   "display_name": "Python 3",
   "language": "python",
   "name": "python3"
  },
  "language_info": {
   "codemirror_mode": {
    "name": "ipython",
    "version": 3
   },
   "file_extension": ".py",
   "mimetype": "text/x-python",
   "name": "python",
   "nbconvert_exporter": "python",
   "pygments_lexer": "ipython3",
   "version": "3.6.0"
  }
 },
 "nbformat": 4,
 "nbformat_minor": 1
}
