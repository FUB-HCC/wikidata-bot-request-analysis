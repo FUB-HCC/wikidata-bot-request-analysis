{
 "cells": [
  {
   "cell_type": "code",
   "execution_count": 93,
   "metadata": {
    "collapsed": false
   },
   "outputs": [
    {
     "name": "stdout",
     "output_type": "stream",
     "text": [
      "The autoreload extension is already loaded. To reload it, use:\n",
      "  %reload_ext autoreload\n"
     ]
    }
   ],
   "source": [
    "import sqlite3\n",
    "import pandas as pd\n",
    "import matplotlib.pyplot as plt\n",
    "import matplotlib\n",
    "import pandas as pd\n",
    "import os\n",
    "import sys\n",
    "module_path = os.path.abspath(os.path.join('../src'))\n",
    "if module_path not in sys.path:\n",
    "    sys.path.append(module_path)\n",
    "%matplotlib inline\n",
    "%load_ext autoreload\n",
    "%autoreload 2\n",
    "\n",
    "from analyser import Analyser\n",
    "from db import SqliteDb as db"
   ]
  },
  {
   "cell_type": "markdown",
   "metadata": {
    "collapsed": true
   },
   "source": [
    "# Documentation\n",
    "\n",
    "## Research Questions\n",
    "\n",
    "** Which contribution have bots to the quality of Wikidata? **\n",
    "* Which differences exist between bots which successfully completed the request for permission process and those who doesn't? (Hypothesis: The request for permission process is a quality gate for bots)\n",
    "* How does bot's field of activity change over time?\n",
    "* What is the difference between a bot with the group 'bot' and a bot with a botflag?"
   ]
  },
  {
   "cell_type": "markdown",
   "metadata": {},
   "source": [
    "## Data preparation\n",
    "### Request for permissions\n",
    "\n",
    "As a first step we downloaded and parsed the data about requests for permissions about bots from Wikidata in May 2018. We collected the already closed requests which can be found in the Wikidata archive (e.g. https://www.wikidata.org/wiki/Wikidata:Requests_for_permissions/Archive#Requests_for_bot_flags). The data is stored in a database.\n",
    "\n",
    "Request for permissions which have no own page were left out (e.g. https://www.wikidata.org/w/index.php?title=Wikidata:Requests_for_permissions/Bot/Checkallthestrings_bot_1&action=edit&redlink=1).\n",
    "\n",
    "Request for permissions which are listed several times in different archives were only parsed once (e.g. https://www.wikidata.org/wiki/Wikidata:Requests_for_permissions/Bot/VIAFbot is listes in https://www.wikidata.org/wiki/Wikidata:Requests_for_permissions/RfBot/March_2013 and in https://www.wikidata.org/wiki/Wikidata:Requests_for_permissions/RfBot/April_2013)."
   ]
  },
  {
   "cell_type": "markdown",
   "metadata": {},
   "source": [
    "## DB\n",
    "\n",
    "### Schema"
   ]
  },
  {
   "cell_type": "markdown",
   "metadata": {},
   "source": [
    "The db schema looks as follows (as diagram):\n",
    "\n",
    "![DB schema](images/db_schema.png)"
   ]
  },
  {
   "cell_type": "markdown",
   "metadata": {},
   "source": [
    "and as ddl: \n",
    "\n",
    "```sql\n",
    "CREATE TABLE request_for_permission (\n",
    "    id                    INTEGER PRIMARY KEY AUTOINCREMENT NOT NULL,\n",
    "    url                   TEXT UNIQUE,\n",
    "    bot                   TEXT,\n",
    "    operator              TEXT,\n",
    "    is_successful         INTEGER,\n",
    "    first_edit            TEXT,\n",
    "    last_edit             TEXT,\n",
    "    closed_at             TEXT,\n",
    "    revision_count        INTEGER,\n",
    "    editor_count          INTEGER,\n",
    "    comment_symbol_count  INTEGER,\n",
    "    question_symbol_count INTEGER,\n",
    "    oppose_symbol_count   INTEGER,\n",
    "    answer_symbol_count   INTEGER,\n",
    "    support_symbol_count  INTEGER,\n",
    "    html                  TEXT,\n",
    "    task                  TEXT,\n",
    "    code                  TEXT,\n",
    "    function              TEXT,\n",
    "    archive_comment       TEXT,\n",
    "    summary               TEXT,\n",
    "    retrieved_at          DATE,\n",
    "    FOREIGN KEY(operator) REFERENCES operator(name)\n",
    ");\n",
    "CREATE TABLE bot (\n",
    "    name TEXT PRIMARY KEY NOT NULL\n",
    ");\n",
    "```"
   ]
  },
  {
   "cell_type": "markdown",
   "metadata": {},
   "source": [
    "### Tables"
   ]
  },
  {
   "cell_type": "markdown",
   "metadata": {},
   "source": [
    "The tabel `requests_for_permissions` contains the following content:\n",
    "\n",
    "| column                | content explanation                                                                   |\n",
    "| ----------------------|:-------------------------------------------------------------------------------------:|\n",
    "| id                    | unique identifier                                                                     |\n",
    "| url                   | url of the request for permission                                                     |\n",
    "| bot                   | the wikidata user account for which the request for permission is for.                |\n",
    "| operator              | the wikidata user account which opend the request for permission and is responsible for the bot. |\n",
    "| is_successful         | flag which states if the request for permission was successful. 1 if it was successful and 0 if not     |\n",
    "| first_edit            | utc date and time when the first edit of this request for permission was made         |\n",
    "| last_edit             | utc date and time when the last edit of this request for permission was made          |\n",
    "| closed_at             | utc date and time when the request for permission was closed which is equvalent to the time when the summary was written |\n",
    "| revision_count        | count how many revisions were applied to the request for permission                   |\n",
    "| edit_count            | count how many distinct editors made revisons to the request for permission           |\n",
    "| comment_symbol_count  | count how often a comment symbol was used in the discussion of the request            |\n",
    "| question_symbol_count | count how often a question symbol was used in the discussion of the request           |\n",
    "| oppose_symbol_count   | count how often a oppose symbol was used in the discussion of the request             |\n",
    "| answer_symbol_count   | count how often a answer symbol was used in the discussion of the request             |\n",
    "| support_symbol_count  | count how often a support symbol was used in the discussion of the request            |\n",
    "| html                  | raw html of the site that can be found under the url. only the main part of the site is saved. |\n",
    "| task                  | short description of the bot function                                                 |\n",
    "| code                  | link to the online repository or other code describing text                           |\n",
    "| function              | detailed description of the bot function                                              |\n",
    "| archive_comment       | short comment why the request for permission was successful or not. Example can be found under the following link: https://www.wikidata.org/wiki/Wikidata:Requests_for_permissions/RfBot/April_2013 (see for example '(approved temporary)') |\n",
    "| summary               | summary about the discussion and the final decision about the request for permission   | \n",
    "| retrieved_at          | utc date and time when the data was retrived                                          |"
   ]
  },
  {
   "cell_type": "markdown",
   "metadata": {},
   "source": [
    "The tabel `bots` contains the following content:\n",
    "\n",
    "| column                | content explanation                                                                   |\n",
    "| ----------------------|:-------------------------------------------------------------------------------------:|\n",
    "| name                  | name of the bot                                                                       |"
   ]
  },
  {
   "cell_type": "markdown",
   "metadata": {},
   "source": [
    "## Analysis\n",
    "\n",
    "### Analysis of Wikidata Bots\n",
    "\n",
    "This chapter aims to analyse the bots on wikidata. \n",
    "\n",
    "As a first step we try to find out which user accounts on Wikidata are bots. There are several sources that contain lists of bots or can help to detect them. None of them is complete. Therefore we fetched data from five different sources. The following table lists these sources and the number of contained bots.\n",
    "\n",
    "Note: The list is updateed manually thus disparities between this tables and the following results may occur! Last update: 28 May 2018"
   ]
  },
  {
   "cell_type": "markdown",
   "metadata": {},
   "source": [
    "| criteria                           | amount       | source               | output file          |\n",
    "| ---------------------------------- |:------------:|:--------------------:|:--------------------:|\n",
    "| number of users in the group 'bot' | 245 | MediaWiki API (Example URL: https://www.wikidata.org/w/api.php?action=query&list=allusers&augroup=bot) | data/parser/users_in_bot_group.csv |\n",
    "| number of bots that have a closed request for permission | 364 | [Requests for bot flags](https://www.wikidata.org/wiki/Wikidata:Requests_for_permissions/Archive#Requests_for_bot_flags ) | data/spiders/bots_with_requests_for_permissions.csv |\n",
    "| number of bots with a botflag     | 258 | [Bots with botflag](https://www.wikidata.org/wiki/Category:Bots_with_botflag) | data/spiders/bots_with_botflag.csv |\n",
    "| number of bots without a botflag  | 163 | [Bots without a botflag](https://www.wikidata.org/wiki/Category:Bots_without_botflag) | data/spiders/bots_without_botflag.csv |\n",
    "| number of extension bots           | 7 | [Extension bots](https://www.wikidata.org/wiki/Category:Extension_bots) | data/spiders/extension_bots.csv |"
   ]
  },
  {
   "cell_type": "markdown",
   "metadata": {},
   "source": [
    "### Number of bots with respect to there affiliation"
   ]
  },
  {
   "cell_type": "markdown",
   "metadata": {},
   "source": [
    "The following statistics describe partially the same as the table before but instead of fetching the results from the csv files, they are retrived from the db. The calcuated values are summarizes in the subsequent matrix to give a better overview. An example of how to interpret the matrix is that the field `b_f b_f` describe how many distinct bots with a bot flag exist. If you want to see the names of the bots which belong to each group, you can uncomment the line ``` Analyser.print_matrix_bot_names() ```. The collumn names are described as follows:\n",
    "\n",
    "| column name               | explanation                               |\n",
    "| --------------------------|:-----------------------------------------:|\n",
    "| b_f                       | has bot flag                              |\n",
    "| no_b_f                    | has no bot flag                           |\n",
    "| ex_b                      | is a extension bot                        |\n",
    "| group                     | is in group 'bot'                         |\n",
    "| request                   | has a request for permission              |\n",
    "| s_request                 | has a successful request for permission   |\n",
    "| u_request                 | has a unsuccessful request for permission |\n"
   ]
  },
  {
   "cell_type": "code",
   "execution_count": 46,
   "metadata": {
    "collapsed": false,
    "scrolled": true
   },
   "outputs": [
    {
     "name": "stdout",
     "output_type": "stream",
     "text": [
      "           b_f no_b_f ex_b group request s_request u_request\n",
      "b_f        258      0    0   200     244       244        20\n",
      "no_b_f     NaN    161    0    23      61        40        23\n",
      "ex_b       NaN    NaN    6     3       1         1         0\n",
      "group      NaN    NaN  NaN   251     237       237        15\n",
      "request    NaN    NaN  NaN   NaN     367       321        70\n",
      "s_request  NaN    NaN  NaN   NaN     NaN       321        24\n",
      "u_request  NaN    NaN  NaN   NaN     NaN       NaN        70\n"
     ]
    }
   ],
   "source": [
    "Analyser.generate_matrix()"
   ]
  },
  {
   "cell_type": "code",
   "execution_count": 48,
   "metadata": {
    "collapsed": false
   },
   "outputs": [],
   "source": [
    "# Analyser.print_matrix_bot_names()"
   ]
  },
  {
   "cell_type": "markdown",
   "metadata": {},
   "source": [
    "### Number and names of all unique bots"
   ]
  },
  {
   "cell_type": "markdown",
   "metadata": {},
   "source": [
    "The following describes the number and the names of all unique bots. These bots are retrieved from all lists (e.g. bots with a bot flag, bots without a bot flag, bots with a request for permission, bots in the user group 'bot' and extension bots)"
   ]
  },
  {
   "cell_type": "code",
   "execution_count": 51,
   "metadata": {
    "collapsed": false,
    "scrolled": true
   },
   "outputs": [
    {
     "name": "stdout",
     "output_type": "stream",
     "text": [
      "#################### Number of all unique bots: ####################\n",
      " 489 \n",
      "\n",
      "#################### Names of all unique bots: ####################\n",
      " CellosaurusBot, Persian Wikis Janitor Bot, AGbot, AeroidBot, Rebot, AxelBot, DarafshBot, CommonsDelinquent, Politican scraper comparison bot, Dima st bk bot, MexBot, MBAreaBot, Aosbot, BotAdventures, WikiDataScapeBot, Lansbot, DeltaBot, Hurricanefan25 in the storm, SanniBot, Smbbot, RoboViolet, DæghrefnBot, FuzzyBot, OctraBot, BraveBot, AinaliBot, A-lú-mih-bot, SaschaBot, BMacZeroBot, ZiyadBot, JanitorBot, SoCalChemBot, Lingua Libre Bot, MuISBot, Yuibot, Robbot, Translation Notification Bot, PBot, D%C3%A6ghrefnBot, RobotGMwikt, BeneBot*, Chobot, YasBot, Twofivesixbot, VlsergeyBot, Legobot, Lockalbot, OmarGhridaBot, Babel AutoCreate, KoehlBot, MerlBot, JVbot, Louperibot, AlphamaBot, GeneaBot, DennyBot, MahdiBot, APSbot, Or1Bot, KunMilanoRobot, Structor, EdgarsBot, FischBot, MenoBot, Mush bot, Tokrkbot, Polish Monuments, AndreCostaWMSE-bot, Flow talk page manager, OpenLibraryBot, Butlerbot, PastoriBot, PoliticianBot, William Avery Bot, JohlBot, TambonBot, CalakBot, Welvon-bot, Steenthbot, RaymondYeeBot, Pathwaybot, TaxonBot, SKbot, AuCoBot, Manuvinabot, Pywikibot, AmpersandBot, MilanBot, AlessioBot, Choboty, Hkn-bot, JayWackerBot, WikiTrackBot, BalajijagadeshBot, Theo%27s Little Bot, JarektBot, Alecs.bot, Ra-bot-nik, Fabot, Cyberbot I, Ugbot, Shyde, DBpedia-mapper-bot, GZWDer (flood), Gzen92Bot, KLBot2, PavloChemBot, AvicBot, JonHaraldSøbyWMNO-bot, MediaWiki default, GanimalBot, Mro-bot, ProteinBoxBot, JackieBot, InwBot, Fabris Los, Sarojbot, InfoRobBot, PokestarFanBot, RobotRobin, Mahirbot, Valerio Bozzolan bot, EmausBot, KrBot, Framabot, Alleycatbot, PajnBot, InkoBot, MajedBot, CultureBot, MsynBot, RollBot, Prompter Bot, MineoBot, Scorumbot, Xqbot, Descriptioncreator, HaroldBot, Hoo Bot, Mikey641Bot, StigBot, MatmaBot, QuickStatementsBot, ValterVBot, DimaBot, DangSunFlood2, Sk!dbot, Deskanabot, ShBot, Innocent bot, Armaanaziz, JWbot, WapBot, LocatorBot, Frettiebot, Symac bot, Bovlbbot, 1VeertjeBot, HaploBot, DynamicBot Srv2, NoclaimsBot, B0ttle, TemirovBot, YBot, HiveBot, Dr Plane, EloBot, JhsBot, UreomicsBot, Jeblad (bot), ElphiBot, PreferentialBot, Makrobot, Mjbmrbot, NIOSH bot, KRLS Bot, ZacheBot, The Anonybot, AudeBot, InductiveBot, VollBot, D2-bot, DbBot, ZkBot, TptBot, Gerakibot, SpBot, Maintenance script, %C3%96dokBot, SteinsplitterBot, Kompakt-bot, Cewbot, Mr Robot, SuccuBot, ShinobiBot, ShonagonBot, Alexabot, Lanbot, EV100 bot, BonifazWolbot, DangSunBot2, ZaBOTka, ProgvalInfoboxBot, CennoBot, Peter17-Bot, CanaryBot, Robin Bot, EdinBot, Liangent-bot, PoulpyBot, Dipsacus fullonum bot, 레비:봇, SaamDataImportBot, BacDiveBot, KamikazeBot, MdupontDataBot, RobotMichiel1972, PingWDbot, PLbot, ScorumMEBot, Elhuyar Fundazioa bot, ItalianSchoolsBot, CzechoBot, Research Bot, Dexbot, AlepfuBot, Escarbot, Fluxbot, ViscoBot, Fako85bot, MagulBot, HuskyBot, Makecat-bot, 127.0.0.1, SPQRobot, EmptyBot, Danroks bot, FloBot, AkkakkBot, RobokoBot, US National Archives bot, Citing Bot, Աշբոտ, Bigbossrobot, PintochBot, ThetaBot, Mangler-bot, Gabrielchihonglee-Bot, FrigidBot, Hazard-Bot, BotOrienteerix, Huzzlet the bot, Botik, BthBasketbot, UVbot, UnderlyingBot, Svenbot, Arasaacbot, Github-wiki-bot, Ajrbot, InteliBOT, Sanjeev bot, BotLuffyTech, CC0-JS, BandMemberBot, Asahibot, Shuaib-bot, MABot, 1-Byte-Bot, WylveWidar, FLOSSbot, AkBot, AviBot, Escabot, HannolansBot, Edoderoobot, PamputtBot, Citationgraph bot, Addbot, WYImporterBot, JneubertAutomated, ASammourBot, KaldariBot, LkastlerBot, Catabot, Mr.Ibrahembot, LandesfilmsammlungBot, Nicolas1981Bot, Aplikasi-Bot, ETISBot, Epochs bot, ImplicatorBot, WhidouBot, NikkiBot, BotMultichill, Rezabot, Lisp.hippie.bot, CaliburnBOT, Miguillen-bot, ListeriaBot, StrynBot, MidleadingBot, Ebrambot, Crossref bot, BinBot, Snow22Bot, ZbwAddAuthorityBot, QZandenBot, FischBot-test, BrackiBot, HypoBOT, Maria research bot, Dom bot, Popcornbot, ReimannBot, JhealdBot, Wizzo-Bot, %D4%B1%D5%B7%D5%A2%D5%B8%D5%BF, Luuvabot, The Anomebot, Vadbot, Antoine2711bot, EaasServiceBot, Theo's Little Bot, Chembot, R2-D2 Bot, Thebot, MastiBot, WikiLovesESBot, VortBot, KasparBot, CommonsDelinker, ConBot, BernsteinBot, SLiuBot, Sartle.wiki.bot, JhealdBatch, JarBot, SvebertBot, TokokoBot, TohaomgBot, KabouterBot, KrattBot, Fatemibot, Shankarbot, AHbot, %D0%9D%D0%A1%D0%91%D0%BE%D1%82, Ping08Bot, Kartṛ-bot, ReosarevokBot, Atobot, HaxpettBot, MalarzBOT, Wakebrdkid's bot, XXN-bot, Abuse filter, Eflybot, Pigsonthewing-bot, YuatchaBot, TheStoneBot, SourcererBot, Wolfgang8741 bot, SweetBot, BetaBot, Global Economic Map Bot, SDrewthbot, Jane023bot, Pi bot, DrTrigonBot, VorontsovIEbot, MergeBot, BacterialAnnotationBot, Johnflow, DoctorBot, Tabot, ZedlikBot, FutoohBot, SergoBot, JAnDbot, BotNinja, MuBot, AftabBot, Strainubot, A ka es qbot, DiscogsBot, KrBot2, MedalBot, The Anomebot 3, Zielmicha Bot, VesihiisiBot, Bekicot, Fatameh sister bot, BOTZellforschung, L PBot, Phenobot, WikiGrok, RfcBot, DangSunFlood, JudgeBot, Jntent's Bot, BraunBot, RavenXBot2, Botcrux, ThieolBot, Peuc bot, NukatCatalogBot, Taiwan democracy common, BaseBot, EranBot, Donna Nobot, AvocatoBot, MatSuBot, LinedBot, CoBot, GrammarwareBot, Checkallthestrings bot, Xaris333Bot, Byrialbot, IDbot, Revibot, Hawk-Eye-Bot, AVMbot, MicrobeBot, Widar of zolo, MarmaseBot, SalviBot, Tulsibot, Envlhbot, Glavkos bot, BaluBot, JYBot, PositionStatements Bot, MediaWiki message delivery, Reinheitsgebot, GPUBot, S205643bot, Wasabot, CensusBot, Botapyb, DixonDBot, Goo1Bot, Dcirovicbot, SamoaBot, DangSunBot, Neonionbot, UrbanecmBot, DidymBot, UreomiczBot, CyclingInitBot, Ruud Koot (bot), RileyBot, LinkRecoveryBot, Mk-II, DanmicholoBot, MerlIwBot, BoulaurBot, Dɐ-Bot, Docu with script, Emijrpbot, Whymbot, KrattBot1, AliciaFagervingWMSE-bot, Florentyna, StackerBot, BotMultichillT, EstonianHeritageBot, AndreeBot, Nullzerobot, Soh.Miero.Bot, Faebot, ÖdokBot, Krdbot, SbisoloBot, DSisyphBot, OrlodrimBot, MechQuesterBot, Csvtodata, Position holder history bot, Verification pages bot, DynBot Srv2, Jefft0Bot, Dafna3.bot, JoRobot, Rodrigo Padula (BOT), VsBot, VIAFbot, AyackBot, Cheers!-bot, Mbchbot \n",
      "\n"
     ]
    }
   ],
   "source": [
    "Analyser.print_unique_bots()"
   ]
  },
  {
   "cell_type": "markdown",
   "metadata": {},
   "source": [
    "### Unique bots with and without request for permission\n",
    "The following section compares all unique bots which have a request for permission and those who don't.\n",
    "#### Count and names of bots with a request for permission."
   ]
  },
  {
   "cell_type": "code",
   "execution_count": 55,
   "metadata": {
    "collapsed": false,
    "scrolled": true
   },
   "outputs": [
    {
     "name": "stdout",
     "output_type": "stream",
     "text": [
      "#################### Number of all unique bots with a request for permission: ####################\n",
      " 367 \n",
      "\n",
      "#################### Names of all unique bots with a request for permission: ####################\n",
      " CellosaurusBot, AGbot, Dima st bk bot, MexBot, MBAreaBot, Aosbot, BotAdventures, WikiDataScapeBot, DeltaBot, Hurricanefan25 in the storm, SanniBot, Smbbot, RoboViolet, OctraBot, BraveBot, AinaliBot, SaschaBot, BMacZeroBot, ZiyadBot, SoCalChemBot, Lingua Libre Bot, MuISBot, Yuibot, Robbot, Translation Notification Bot, PBot, D%C3%A6ghrefnBot, RobotGMwikt, BeneBot*, Chobot, YasBot, Twofivesixbot, VlsergeyBot, Legobot, MerlBot, JVbot, Louperibot, AlphamaBot, GeneaBot, DennyBot, MahdiBot, APSbot, Or1Bot, Structor, KunMilanoRobot, EdgarsBot, FischBot, Polish Monuments, AndreCostaWMSE-bot, OpenLibraryBot, PoliticianBot, William Avery Bot, TambonBot, CalakBot, Welvon-bot, Steenthbot, RaymondYeeBot, Pathwaybot, TaxonBot, SKbot, AuCoBot, Pywikibot, AmpersandBot, MilanBot, AlessioBot, Choboty, Hkn-bot, JayWackerBot, BalajijagadeshBot, Theo%27s Little Bot, Ra-bot-nik, Fabot, Cyberbot I, Shyde, DBpedia-mapper-bot, GZWDer (flood), Gzen92Bot, KLBot2, Mro-bot, ProteinBoxBot, InwBot, Sarojbot, InfoRobBot, PokestarFanBot, Mahirbot, Valerio Bozzolan bot, EmausBot, KrBot, Framabot, PajnBot, InkoBot, MajedBot, RollBot, MsynBot, Prompter Bot, MineoBot, Descriptioncreator, HaroldBot, Hoo Bot, Mikey641Bot, StigBot, MatmaBot, QuickStatementsBot, ValterVBot, DangSunFlood2, Sk!dbot, ShBot, Innocent bot, JWbot, WapBot, LocatorBot, Frettiebot, Symac bot, HaploBot, DynamicBot Srv2, TemirovBot, B0ttle, NoclaimsBot, HiveBot, EloBot, JhsBot, Jeblad (bot), ElphiBot, PreferentialBot, Makrobot, Mjbmrbot, KRLS Bot, The Anonybot, AudeBot, InductiveBot, VollBot, D2-bot, DbBot, ZkBot, TptBot, SpBot, %C3%96dokBot, SteinsplitterBot, Kompakt-bot, Cewbot, SuccuBot, ShinobiBot, ShonagonBot, Alexabot, ZaBOTka, ProgvalInfoboxBot, CennoBot, Peter17-Bot, CanaryBot, Robin Bot, EdinBot, Liangent-bot, PoulpyBot, Dipsacus fullonum bot, SaamDataImportBot, BacDiveBot, MdupontDataBot, RobotMichiel1972, PingWDbot, PLbot, ScorumMEBot, Elhuyar Fundazioa bot, ItalianSchoolsBot, CzechoBot, Research Bot, Dexbot, AlepfuBot, Escarbot, Fluxbot, ViscoBot, MagulBot, Makecat-bot, HuskyBot, EmptyBot, AkkakkBot, Citing Bot, PintochBot, FrigidBot, Hazard-Bot, BotOrienteerix, Botik, BthBasketbot, UnderlyingBot, Svenbot, Github-wiki-bot, InteliBOT, Sanjeev bot, CC0-JS, BandMemberBot, Shuaib-bot, MABot, 1-Byte-Bot, WylveWidar, FLOSSbot, AkBot, AviBot, Escabot, HannolansBot, Edoderoobot, PamputtBot, Citationgraph bot, Addbot, WYImporterBot, JneubertAutomated, ASammourBot, KaldariBot, Catabot, Mr.Ibrahembot, LandesfilmsammlungBot, Nicolas1981Bot, Aplikasi-Bot, ETISBot, ImplicatorBot, Epochs bot, WhidouBot, NikkiBot, BotMultichill, Rezabot, Lisp.hippie.bot, CaliburnBOT, Miguillen-bot, ListeriaBot, StrynBot, MidleadingBot, Ebrambot, BrackiBot, HypoBOT, Dom bot, Popcornbot, ReimannBot, Wizzo-Bot, JhealdBot, %D4%B1%D5%B7%D5%A2%D5%B8%D5%BF, Luuvabot, The Anomebot, EaasServiceBot, Chembot, Thebot, MastiBot, WikiLovesESBot, VortBot, KasparBot, CommonsDelinker, SLiuBot, Sartle.wiki.bot, JhealdBatch, JarBot, SvebertBot, TokokoBot, TohaomgBot, KabouterBot, KrattBot, Fatemibot, Shankarbot, AHbot, %D0%9D%D0%A1%D0%91%D0%BE%D1%82, ReosarevokBot, Atobot, HaxpettBot, MalarzBOT, XXN-bot, Pigsonthewing-bot, TheStoneBot, SourcererBot, SweetBot, BetaBot, Global Economic Map Bot, SDrewthbot, Jane023bot, Pi bot, DrTrigonBot, VorontsovIEbot, MergeBot, DoctorBot, ZedlikBot, FutoohBot, SergoBot, JAnDbot, BotNinja, MuBot, Strainubot, AftabBot, A ka es qbot, DiscogsBot, KrBot2, MedalBot, VesihiisiBot, Bekicot, Fatameh sister bot, L PBot, Phenobot, WikiGrok, RfcBot, DangSunFlood, JudgeBot, BraunBot, RavenXBot2, Botcrux, ThieolBot, Peuc bot, NukatCatalogBot, Taiwan democracy common, BaseBot, EranBot, Donna Nobot, AvocatoBot, MatSuBot, CoBot, GrammarwareBot, Checkallthestrings bot, Xaris333Bot, Byrialbot, Revibot, Hawk-Eye-Bot, AVMbot, Widar of zolo, MicrobeBot, MarmaseBot, SalviBot, Tulsibot, Glavkos bot, JYBot, BaluBot, PositionStatements Bot, Reinheitsgebot, GPUBot, S205643bot, Wasabot, CensusBot, Botapyb, DixonDBot, Goo1Bot, Dcirovicbot, SamoaBot, UrbanecmBot, DidymBot, UreomiczBot, CyclingInitBot, Ruud Koot (bot), RileyBot, LinkRecoveryBot, DanmicholoBot, MerlIwBot, BoulaurBot, Docu with script, Emijrpbot, Whymbot, KrattBot1, AliciaFagervingWMSE-bot, Florentyna, StackerBot, BotMultichillT, EstonianHeritageBot, AndreeBot, Nullzerobot, Faebot, Krdbot, SbisoloBot, DSisyphBot, OrlodrimBot, MechQuesterBot, Position holder history bot, JoRobot, VsBot, VIAFbot, AyackBot, Mbchbot \n",
      "\n"
     ]
    }
   ],
   "source": [
    "Analyser.print_unique_bots_with_request()"
   ]
  },
  {
   "cell_type": "markdown",
   "metadata": {},
   "source": [
    "#### Count and names of bots without a request for permission."
   ]
  },
  {
   "cell_type": "code",
   "execution_count": 58,
   "metadata": {
    "collapsed": false,
    "scrolled": false
   },
   "outputs": [
    {
     "name": "stdout",
     "output_type": "stream",
     "text": [
      "#################### Number of all unique bots without a request for permission: ####################\n",
      " 122 \n",
      "\n",
      "#################### Names of all unique bots without a request for permission: ####################\n",
      " Huzzlet the bot, Persian Wikis Janitor Bot, Alleycatbot, BacterialAnnotationBot, Johnflow, AeroidBot, CultureBot, UVbot, Rebot, AxelBot, Scorumbot, Xqbot, DarafshBot, CommonsDelinquent, Politican scraper comparison bot, Arasaacbot, Tabot, Ajrbot, BotLuffyTech, Asahibot, Lansbot, DimaBot, DæghrefnBot, FuzzyBot, Deskanabot, A-lú-mih-bot, The Anomebot 3, Zielmicha Bot, Armaanaziz, JanitorBot, BOTZellforschung, LkastlerBot, Bovlbbot, 1VeertjeBot, YBot, Jntent's Bot, Dr Plane, Lockalbot, OmarGhridaBot, UreomicsBot, Babel AutoCreate, KoehlBot, NIOSH bot, ZacheBot, LinedBot, Gerakibot, IDbot, Crossref bot, Maintenance script, BinBot, MenoBot, Mush bot, Snow22Bot, Envlhbot, ZbwAddAuthorityBot, Mr Robot, QZandenBot, Tokrkbot, Flow talk page manager, PastoriBot, FischBot-test, Butlerbot, Maria research bot, JohlBot, Lanbot, EV100 bot, BonifazWolbot, MediaWiki message delivery, DangSunBot2, Vadbot, Antoine2711bot, Manuvinabot, 레비:봇, Theo's Little Bot, R2-D2 Bot, DangSunBot, Neonionbot, WikiTrackBot, KamikazeBot, JarektBot, Alecs.bot, ConBot, BernsteinBot, Mk-II, Ugbot, Dɐ-Bot, Fako85bot, PavloChemBot, 127.0.0.1, SPQRobot, AvicBot, JonHaraldSøbyWMNO-bot, Danroks bot, MediaWiki default, Soh.Miero.Bot, Ping08Bot, GanimalBot, FloBot, Kartṛ-bot, ÖdokBot, JackieBot, RobokoBot, US National Archives bot, Wakebrdkid's bot, Աշբոտ, Bigbossrobot, Fabris Los, Abuse filter, Csvtodata, Verification pages bot, Eflybot, YuatchaBot, DynBot Srv2, Jefft0Bot, Wolfgang8741 bot, Dafna3.bot, RobotRobin, Rodrigo Padula (BOT), ThetaBot, Mangler-bot, Gabrielchihonglee-Bot, Cheers!-bot \n",
      "\n"
     ]
    }
   ],
   "source": [
    "Analyser.print_unique_bots_without_request()"
   ]
  },
  {
   "cell_type": "markdown",
   "metadata": {},
   "source": [
    "#### Rights of bots with a request for permission.\n",
    "The following shows how many bots with a request for permission have a specific right. Note: the rights could not be retrived for all bots form the API for the reason that some bots for example do not have a user account anymore. Therefore in the graphic the maximum value of bots that have a specific right is 349 and not 367!"
   ]
  },
  {
   "cell_type": "code",
   "execution_count": 81,
   "metadata": {
    "collapsed": false,
    "scrolled": true
   },
   "outputs": [
    {
     "name": "stdout",
     "output_type": "stream",
     "text": [
      "|            rights            |            counts            |\n",
      "|______________________________|______________________________|\n",
      "|       abusefilter-log        |             349              |\n",
      "|       abusefilter-view       |             349              |\n",
      "|       applychangetags        |             349              |\n",
      "|      centralauth-merge       |             349              |\n",
      "|          changetags          |             349              |\n",
      "|        createaccount         |             349              |\n",
      "|          createpage          |             349              |\n",
      "|          createtalk          |             349              |\n",
      "|             edit             |             349              |\n",
      "|        editmyoptions         |             349              |\n",
      "|      editmyprivateinfo       |             349              |\n",
      "|        editmyusercss         |             349              |\n",
      "|         editmyuserjs         |             349              |\n",
      "|        editmyuserjson        |             349              |\n",
      "|       editmywatchlist        |             349              |\n",
      "|          flow-hide           |             349              |\n",
      "|          flow-lock           |             349              |\n",
      "|          item-merge          |             349              |\n",
      "|        item-redirect         |             349              |\n",
      "|          item-term           |             349              |\n",
      "|          minoredit           |             349              |\n",
      "|      move-categorypages      |             349              |\n",
      "|      move-rootuserpages      |             349              |\n",
      "|    mwoauthmanagemygrants     |             349              |\n",
      "|        property-term         |             349              |\n",
      "|            purge             |             349              |\n",
      "|             read             |             349              |\n",
      "|         reupload-own         |             349              |\n",
      "|          sendemail           |             349              |\n",
      "|       spamblacklistlog       |             349              |\n",
      "|          translate           |             349              |\n",
      "|    translate-groupreview     |             349              |\n",
      "|   translate-messagereview    |             349              |\n",
      "|      viewmyprivateinfo       |             349              |\n",
      "|       viewmywatchlist        |             349              |\n",
      "|       vipsscaler-test        |             349              |\n",
      "|           writeapi           |             349              |\n",
      "|        autoconfirmed         |             317              |\n",
      "|          autopatrol          |             317              |\n",
      "|      editsemiprotected       |             317              |\n",
      "|         skipcaptcha          |             317              |\n",
      "|    abusefilter-log-detail    |             311              |\n",
      "|collectionsaveascommunitypage |             311              |\n",
      "|   collectionsaveasuserpage   |             311              |\n",
      "|        flow-edit-post        |             311              |\n",
      "|             move             |             311              |\n",
      "|            patrol            |             311              |\n",
      "|           reupload           |             311              |\n",
      "|       transcode-reset        |             311              |\n",
      "|            upload            |             311              |\n",
      "|        apihighlimits         |             237              |\n",
      "|             bot              |             237              |\n",
      "|        nominornewtalk        |             237              |\n",
      "|         noratelimit          |             237              |\n",
      "|       suppressredirect       |             237              |\n",
      "|         torunblocked         |              10              |\n",
      "|        ipblock-exempt        |              6               |\n",
      "|      globalblock-exempt      |              5               |\n",
      "|           rollback           |              3               |\n",
      "|       oathauth-enable        |              2               |\n",
      "|      abusefilter-modify      |              1               |\n",
      "|abusefilter-modify-restricted |              1               |\n",
      "|            block             |              1               |\n",
      "|          blockemail          |              1               |\n",
      "|        browsearchive         |              1               |\n",
      "|            delete            |              1               |\n",
      "|       deletechangetags       |              1               |\n",
      "|        deletedhistory        |              1               |\n",
      "|         deletedtext          |              1               |\n",
      "|        deletelogentry        |              1               |\n",
      "|        deleterevision        |              1               |\n",
      "|       editcontentmodel       |              1               |\n",
      "|        editinterface         |              1               |\n",
      "|        editprotected         |              1               |\n",
      "|         editusercss          |              1               |\n",
      "|          edituserjs          |              1               |\n",
      "|         edituserjson         |              1               |\n",
      "|      flow-create-board       |              1               |\n",
      "|         flow-delete          |              1               |\n",
      "|    globalblock-whitelist     |              1               |\n",
      "|            import            |              1               |\n",
      "|       managechangetags       |              1               |\n",
      "|         markbotedits         |              1               |\n",
      "|         massmessage          |              1               |\n",
      "|         mergehistory         |              1               |\n",
      "|        move-subpages         |              1               |\n",
      "|           movefile           |              1               |\n",
      "|             nuke             |              1               |\n",
      "|      override-antispoof      |              1               |\n",
      "|           pagelang           |              1               |\n",
      "|       property-create        |              1               |\n",
      "|           protect            |              1               |\n",
      "|       reupload-shared        |              1               |\n",
      "|          tboverride          |              1               |\n",
      "|      titleblacklistlog       |              1               |\n",
      "|       transcode-status       |              1               |\n",
      "|         unblockself          |              1               |\n",
      "|           undelete           |              1               |\n",
      "|        unwatchedpages        |              1               |\n"
     ]
    }
   ],
   "source": [
    "Analyser.print_rights_of_bots_with_request()"
   ]
  },
  {
   "cell_type": "markdown",
   "metadata": {},
   "source": [
    "#### Bots with request and without rights in db"
   ]
  },
  {
   "cell_type": "code",
   "execution_count": 88,
   "metadata": {
    "collapsed": false,
    "scrolled": false
   },
   "outputs": [
    {
     "name": "stdout",
     "output_type": "stream",
     "text": [
      "#################### Number of all bots wit a request, without rights and a red link: ####################\n",
      " 5 \n",
      "\n",
      "#################### Names of all bots wit a request, without rights and a red link: ####################\n",
      " Fabot, RavenXBot2, Epochs bot, AviBot, Shankarbot \n",
      "\n",
      "#################### Number of all bots wit a request, without rights and without a red link: ####################\n",
      " 13 \n",
      "\n",
      "#################### Names of all bots wit a request, without rights and without a red link: ####################\n",
      " %C3%96dokBot, D%C3%A6ghrefnBot, Innocent bot, %D4%B1%D5%B7%D5%A2%D5%B8%D5%BF, Global Economic Map Bot, Luuvabot, %D0%9D%D0%A1%D0%91%D0%BE%D1%82, DangSunFlood, The Anomebot, Theo%27s Little Bot, DynamicBot Srv2, Dima st bk bot, DangSunFlood2 \n",
      "\n"
     ]
    }
   ],
   "source": [
    "Analyser.print_bots_with_request_without_rights()"
   ]
  },
  {
   "cell_type": "markdown",
   "metadata": {},
   "source": [
    "Bots bei denen manuell über die API Rechte abfragbar sind, aber keine Rechte in der DB haben:\n",
    "* %C3%96dokBot\n",
    "* D%C3%A6ghrefnBot\n",
    "* Innocent bot\n",
    "* %D4%B1%D5%B7%D5%A2%D5%B8%D5%BF\n",
    "* %D0%9D%D0%A1%D0%91%D0%BE%D1%82\n",
    "\n",
    "Bots bei denen auch manuell über die API keine Rechte abgefragt werden können:\n",
    "* Global Economic Map Bot\n",
    "* Luuvabot: ist eigentlich A-lú-mih-bot (man wird redirected und nur unter A-lú-mih-bot sind rechte zu finden)\n",
    "* DangSunFlood: ist eigentlich DangSunBot (man wird redirected und nur unter DangSunBot sind rechte zu finden)\n",
    "* The Anomebot: ist eigentlich The Anomebot 3 (der The Anomebot existiert nicht. Die Zahl wird weggeparsed, da meistens die Zahl auf die Nummer des Request hinweißt (hier aber ausnamsweise nicht!))\n",
    "* Theo%27s Little Bot: ist eigentlich Theo's Little Bot\n",
    "* DynamicBot Srv2: ist eigentlich DynBot Srv2 (man wird redirected und nur unter DynBot Srv2 sind rechte zu finden)\n",
    "* Dima st bk bot: ist eigentlich DimaBot (man wird redirected und nur unter DimaBot sind rechte zu finden)\n",
    "* DangSunFlood2: ist eigntlich DangSunBot2 (man wird redirected und nur unter DangSunBot2 sind rechte zu finden)"
   ]
  },
  {
   "cell_type": "markdown",
   "metadata": {},
   "source": [
    "#### Rights of bots without a request for permission.\n",
    "The following shows which rights bots without a request for permission have and how many of them have these right. Note: the rights could not be retrived for all bots form the API for the reason that some bots for example do not have a user account anymore. Therefore in the graphic the maximum value of bots that have a specific right is 120 and not 122!"
   ]
  },
  {
   "cell_type": "code",
   "execution_count": 92,
   "metadata": {
    "collapsed": false,
    "scrolled": true
   },
   "outputs": [
    {
     "name": "stdout",
     "output_type": "stream",
     "text": [
      "|            rights            |            counts            |\n",
      "|______________________________|______________________________|\n",
      "|       abusefilter-log        |             120              |\n",
      "|       abusefilter-view       |             120              |\n",
      "|       applychangetags        |             120              |\n",
      "|      centralauth-merge       |             120              |\n",
      "|          changetags          |             120              |\n",
      "|        createaccount         |             120              |\n",
      "|          createpage          |             120              |\n",
      "|          createtalk          |             120              |\n",
      "|             edit             |             120              |\n",
      "|        editmyoptions         |             120              |\n",
      "|      editmyprivateinfo       |             120              |\n",
      "|        editmyusercss         |             120              |\n",
      "|         editmyuserjs         |             120              |\n",
      "|        editmyuserjson        |             120              |\n",
      "|       editmywatchlist        |             120              |\n",
      "|          flow-hide           |             120              |\n",
      "|          flow-lock           |             120              |\n",
      "|          item-merge          |             120              |\n",
      "|        item-redirect         |             120              |\n",
      "|          item-term           |             120              |\n",
      "|          minoredit           |             120              |\n",
      "|      move-categorypages      |             120              |\n",
      "|      move-rootuserpages      |             120              |\n",
      "|    mwoauthmanagemygrants     |             120              |\n",
      "|        property-term         |             120              |\n",
      "|            purge             |             120              |\n",
      "|             read             |             120              |\n",
      "|         reupload-own         |             120              |\n",
      "|          sendemail           |             120              |\n",
      "|       spamblacklistlog       |             120              |\n",
      "|          translate           |             120              |\n",
      "|    translate-groupreview     |             120              |\n",
      "|   translate-messagereview    |             120              |\n",
      "|      viewmyprivateinfo       |             120              |\n",
      "|       viewmywatchlist        |             120              |\n",
      "|       vipsscaler-test        |             120              |\n",
      "|           writeapi           |             120              |\n",
      "|        autoconfirmed         |              47              |\n",
      "|          autopatrol          |              47              |\n",
      "|      editsemiprotected       |              47              |\n",
      "|         skipcaptcha          |              47              |\n",
      "|    abusefilter-log-detail    |              46              |\n",
      "|collectionsaveascommunitypage |              46              |\n",
      "|   collectionsaveasuserpage   |              46              |\n",
      "|        flow-edit-post        |              46              |\n",
      "|             move             |              46              |\n",
      "|            patrol            |              46              |\n",
      "|           reupload           |              46              |\n",
      "|       transcode-reset        |              46              |\n",
      "|            upload            |              46              |\n",
      "|        apihighlimits         |              14              |\n",
      "|             bot              |              14              |\n",
      "|        nominornewtalk        |              14              |\n",
      "|         noratelimit          |              14              |\n",
      "|       suppressredirect       |              14              |\n",
      "|      globalblock-exempt      |              2               |\n",
      "|         torunblocked         |              2               |\n",
      "|      flow-create-board       |              1               |\n",
      "|        ipblock-exempt        |              1               |\n"
     ]
    }
   ],
   "source": [
    "Analyser.print_rights_of_bots_without_request()"
   ]
  },
  {
   "cell_type": "markdown",
   "metadata": {},
   "source": [
    "#### Bots without request and without rights in db"
   ]
  },
  {
   "cell_type": "code",
   "execution_count": 94,
   "metadata": {
    "collapsed": false,
    "scrolled": true
   },
   "outputs": [
    {
     "name": "stdout",
     "output_type": "stream",
     "text": [
      "#################### Number of all bots without a request and without rights: ####################\n",
      " 2 \n",
      "\n",
      "#################### Names of all bots without a request and without rights: ####################\n",
      " 127.0.0.1, Eflybot \n",
      "\n"
     ]
    }
   ],
   "source": [
    "Analyser.print_bots_without_request_without_rights()"
   ]
  },
  {
   "cell_type": "code",
   "execution_count": 36,
   "metadata": {
    "collapsed": true
   },
   "outputs": [],
   "source": [
    "result = cursor.execute(\n",
    "    '''\n",
    "    SELECT DISTINCT(bot_name), rights\n",
    "    FROM requests_for_permissions\n",
    "    INNER JOIN bots ON bots.name = requests_for_permissions.bot_name\n",
    "    ''')\n",
    "\n",
    "with_request_rights = []\n",
    "\n",
    "for item in result:\n",
    "    if item[1] is not None:\n",
    "        with_request_rights += item[1].split(',')\n",
    "\n",
    "with_request_rights = set(with_request_rights)\n",
    "\n",
    "result = cursor.execute(\n",
    "    '''\n",
    "    SELECT rights\n",
    "    FROM bots \n",
    "    WHERE name IN (\n",
    "        SELECT name\n",
    "        FROM bots\n",
    "        EXCEPT\n",
    "        SELECT DISTINCT(bot_name) AS name\n",
    "        FROM requests_for_permissions\n",
    "    )\n",
    "    ''')\n",
    "\n",
    "without_request_rights = []\n",
    "\n",
    "for item in result:\n",
    "    if item[0] is not None:\n",
    "        without_request_rights += item[0].split(',')\n",
    "\n",
    "without_request_rights = set(without_request_rights)"
   ]
  },
  {
   "cell_type": "markdown",
   "metadata": {},
   "source": [
    "The following shows all right that bots with a request for permission have but all other bots do not have."
   ]
  },
  {
   "cell_type": "code",
   "execution_count": 37,
   "metadata": {
    "collapsed": false
   },
   "outputs": [
    {
     "data": {
      "text/plain": [
       "'movefile, managechangetags, titleblacklistlog, transcode-status, unwatchedpages, blockemail, nuke, editusercss, edituserjson, tboverride, editprotected, edituserjs, deletedhistory, unblockself, editinterface, deleterevision, browsearchive, deletechangetags, deletedtext, import, delete, editcontentmodel, abusefilter-modify, pagelang, globalblock-whitelist, massmessage, reupload-shared, move-subpages, rollback, deletelogentry, abusefilter-modify-restricted, oathauth-enable, block, flow-delete, protect, mergehistory, undelete, property-create, override-antispoof, markbotedits'"
      ]
     },
     "execution_count": 37,
     "metadata": {},
     "output_type": "execute_result"
    }
   ],
   "source": [
    "', '.join(with_request_rights.difference(without_request_rights))"
   ]
  },
  {
   "cell_type": "markdown",
   "metadata": {},
   "source": [
    "The following shows all right that bots without a request for permission have but all other bots do not have."
   ]
  },
  {
   "cell_type": "code",
   "execution_count": 38,
   "metadata": {
    "collapsed": false
   },
   "outputs": [
    {
     "data": {
      "text/plain": [
       "''"
      ]
     },
     "execution_count": 38,
     "metadata": {},
     "output_type": "execute_result"
    }
   ],
   "source": [
    "', '.join(without_request_rights.difference(with_request_rights))"
   ]
  },
  {
   "cell_type": "markdown",
   "metadata": {},
   "source": [
    "The next comparison is the user groups of bots with and without a request for permission."
   ]
  },
  {
   "cell_type": "markdown",
   "metadata": {},
   "source": [
    "The following shows the destribution of groups of bots with a request for permission. Note: the groups could not be retrived for all bots form the API for the reason that some bots for example do not have a user account anymore. Therefore in the graphic the maximum value of bots that are in a specific group is 350 and not 367!"
   ]
  },
  {
   "cell_type": "code",
   "execution_count": 39,
   "metadata": {
    "collapsed": false
   },
   "outputs": [
    {
     "data": {
      "text/plain": [
       "<matplotlib.axes._subplots.AxesSubplot at 0x117efde10>"
      ]
     },
     "execution_count": 39,
     "metadata": {},
     "output_type": "execute_result"
    },
    {
     "data": {
      "image/png": "[encoded data removed]",
      "text/plain": [
       "<matplotlib.figure.Figure at 0x117efd588>"
      ]
     },
     "metadata": {},
     "output_type": "display_data"
    }
   ],
   "source": [
    "result = cursor.execute(\n",
    "    '''\n",
    "    SELECT DISTINCT(bot_name), groups\n",
    "    FROM requests_for_permissions\n",
    "    INNER JOIN bots ON bots.name = requests_for_permissions.bot_name\n",
    "    ''')\n",
    "\n",
    "groups_dict = {'groups': []}\n",
    "for item in result:\n",
    "    if item[1] is not None:\n",
    "        groups_dict['groups'] += item[1].split(',')\n",
    "\n",
    "df = pd.DataFrame(groups_dict)\n",
    "df = df.groupby(['groups']).size().reset_index(name='counts')\n",
    "df.plot(x='groups', y='counts', figsize=(15,10), kind='bar')"
   ]
  },
  {
   "cell_type": "markdown",
   "metadata": {},
   "source": [
    "The following shows the destribution of groups of bots without a request for permission. Note: the groups could not be retrived for all bots form the API for the reason that some bots for example do not have a user account anymore. Therefore in the graphic the maximum value of bots that are in a specific group is 120 and not 122!"
   ]
  },
  {
   "cell_type": "code",
   "execution_count": 40,
   "metadata": {
    "collapsed": false
   },
   "outputs": [
    {
     "data": {
      "text/plain": [
       "<matplotlib.axes._subplots.AxesSubplot at 0x117d2deb8>"
      ]
     },
     "execution_count": 40,
     "metadata": {},
     "output_type": "execute_result"
    },
    {
     "data": {
      "image/png": "[encoded data removed]",
      "text/plain": [
       "<matplotlib.figure.Figure at 0x114da0358>"
      ]
     },
     "metadata": {},
     "output_type": "display_data"
    }
   ],
   "source": [
    "result = cursor.execute(\n",
    "    '''\n",
    "    SELECT groups\n",
    "    FROM bots \n",
    "    WHERE name IN (\n",
    "        SELECT name\n",
    "        FROM bots\n",
    "        EXCEPT\n",
    "        SELECT DISTINCT(bot_name) AS name\n",
    "        FROM requests_for_permissions\n",
    "    )\n",
    "    ''')\n",
    "\n",
    "groups_dict = {'groups': []}\n",
    "for item in result:\n",
    "    if item[0] is not None:\n",
    "        groups_dict['groups'] += item[0].split(',')\n",
    "\n",
    "df = pd.DataFrame(groups_dict)\n",
    "df = df.groupby(['groups']).size().reset_index(name='counts')\n",
    "df.plot(x='groups', y='counts', figsize=(15,10), kind='bar')"
   ]
  },
  {
   "cell_type": "code",
   "execution_count": 41,
   "metadata": {
    "collapsed": true
   },
   "outputs": [],
   "source": [
    "result = cursor.execute(\n",
    "    '''\n",
    "    SELECT DISTINCT(bot_name), groups\n",
    "    FROM requests_for_permissions\n",
    "    INNER JOIN bots ON bots.name = requests_for_permissions.bot_name\n",
    "    ''')\n",
    "\n",
    "with_request_groups = []\n",
    "\n",
    "for item in result:\n",
    "    if item[1] is not None:\n",
    "        with_request_groups += item[1].split(',')\n",
    "        \n",
    "with_request_groups = set(with_request_groups)\n",
    "\n",
    "result = cursor.execute(\n",
    "    '''\n",
    "    SELECT groups\n",
    "    FROM bots \n",
    "    WHERE name IN (\n",
    "        SELECT name\n",
    "        FROM bots\n",
    "        EXCEPT\n",
    "        SELECT DISTINCT(bot_name) AS name\n",
    "        FROM requests_for_permissions\n",
    "    )\n",
    "    ''')\n",
    "\n",
    "without_request_groups = []\n",
    "\n",
    "for item in result:\n",
    "    if item[0] is not None:\n",
    "        without_request_groups += item[0].split(',')\n",
    "\n",
    "without_request_groups = set(without_request_groups)"
   ]
  },
  {
   "cell_type": "markdown",
   "metadata": {},
   "source": [
    "The following shows all groups that bots with a request for permission have but all other bots do not have."
   ]
  },
  {
   "cell_type": "code",
   "execution_count": 42,
   "metadata": {
    "collapsed": false
   },
   "outputs": [
    {
     "data": {
      "text/plain": [
       "'sysop, confirmed, rollbacker'"
      ]
     },
     "execution_count": 42,
     "metadata": {},
     "output_type": "execute_result"
    }
   ],
   "source": [
    "', '.join(with_request_groups.difference(without_request_groups))"
   ]
  },
  {
   "cell_type": "markdown",
   "metadata": {},
   "source": [
    "The following shows all right that bots without a request for permission have but all other bots do not have."
   ]
  },
  {
   "cell_type": "code",
   "execution_count": 43,
   "metadata": {
    "collapsed": false
   },
   "outputs": [
    {
     "data": {
      "text/plain": [
       "'flow-bot'"
      ]
     },
     "execution_count": 43,
     "metadata": {},
     "output_type": "execute_result"
    }
   ],
   "source": [
    "', '.join(without_request_groups.difference(with_request_groups))"
   ]
  },
  {
   "cell_type": "markdown",
   "metadata": {},
   "source": [
    "### Difference between rights of bots wist a bot flag and bots which are in the group 'bot'"
   ]
  },
  {
   "cell_type": "markdown",
   "metadata": {},
   "source": [
    "The following shows which different rights bots with a bot flag but without beeing in the group 'bot' have."
   ]
  },
  {
   "cell_type": "code",
   "execution_count": 44,
   "metadata": {
    "collapsed": false
   },
   "outputs": [
    {
     "name": "stdout",
     "output_type": "stream",
     "text": [
      "{'transcode-reset', 'spamblacklistlog', 'collectionsaveascommunitypage', 'viewmywatchlist', 'flow-lock', 'flow-edit-post', 'centralauth-merge', 'purge', 'editmyuserjson', 'autoconfirmed', 'edit', 'autopatrol', 'editmyprivateinfo', 'item-term', 'patrol', 'move-categorypages', 'skipcaptcha', 'editmyoptions', 'minoredit', 'createtalk', 'reupload', 'abusefilter-log', 'flow-hide', 'read', 'abusefilter-view', 'move-rootuserpages', 'translate-messagereview', 'viewmyprivateinfo', 'move', 'createaccount', 'property-term', 'translate-groupreview', 'editmyuserjs', 'createpage', 'item-redirect', 'collectionsaveasuserpage', 'vipsscaler-test', 'changetags', 'editmyusercss', 'writeapi', 'sendemail', 'mwoauthmanagemygrants', 'editsemiprotected', 'upload', 'abusefilter-log-detail', 'item-merge', 'translate', 'applychangetags', 'editmywatchlist', 'reupload-own'}\n"
     ]
    }
   ],
   "source": [
    "sql = \"SELECT rights FROM bots WHERE has_botflag = 1 AND groups NOT LIKE '%bot%'\"\n",
    "result = cursor.execute(sql)\n",
    "\n",
    "bot_flag_rights = []\n",
    "for item in result:\n",
    "    if item[0] is not None:\n",
    "        bot_flag_rights += item[0].split(',')\n",
    "bot_flag_rights = set(bot_flag_rights)\n",
    "print(bot_flag_rights)"
   ]
  },
  {
   "cell_type": "markdown",
   "metadata": {},
   "source": [
    "The following shows which different rights bots which are in the group 'bot' but do not have a bot flag have."
   ]
  },
  {
   "cell_type": "code",
   "execution_count": 45,
   "metadata": {
    "collapsed": false
   },
   "outputs": [
    {
     "name": "stdout",
     "output_type": "stream",
     "text": [
      "{'transcode-reset', 'spamblacklistlog', 'nominornewtalk', 'collectionsaveascommunitypage', 'viewmywatchlist', 'flow-lock', 'flow-edit-post', 'centralauth-merge', 'autoconfirmed', 'editmyuserjson', 'purge', 'autopatrol', 'edit', 'editmyprivateinfo', 'item-term', 'patrol', 'skipcaptcha', 'move-categorypages', 'suppressredirect', 'bot', 'editmyoptions', 'apihighlimits', 'minoredit', 'createtalk', 'reupload', 'abusefilter-log', 'flow-hide', 'noratelimit', 'move', 'read', 'abusefilter-view', 'viewmyprivateinfo', 'move-rootuserpages', 'translate-messagereview', 'createaccount', 'property-term', 'translate-groupreview', 'editmyuserjs', 'createpage', 'item-redirect', 'collectionsaveasuserpage', 'vipsscaler-test', 'changetags', 'editmyusercss', 'writeapi', 'sendemail', 'mwoauthmanagemygrants', 'editsemiprotected', 'upload', 'abusefilter-log-detail', 'item-merge', 'translate', 'applychangetags', 'editmywatchlist', 'reupload-own'}\n"
     ]
    }
   ],
   "source": [
    "sql = \"SELECT rights FROM bots WHERE has_botflag = 0 AND groups LIKE '%bot%'\"\n",
    "result = cursor.execute(sql)\n",
    "\n",
    "group_rights = []\n",
    "for item in result:\n",
    "    if item[0] is not None:\n",
    "        group_rights += item[0].split(',')\n",
    "group_rights = set(group_rights)\n",
    "print(group_rights)"
   ]
  },
  {
   "cell_type": "markdown",
   "metadata": {},
   "source": [
    "This shows all rights that bots with a bot flag have but bot which are in the group 'bot' do not have."
   ]
  },
  {
   "cell_type": "code",
   "execution_count": 46,
   "metadata": {
    "collapsed": false
   },
   "outputs": [
    {
     "name": "stdout",
     "output_type": "stream",
     "text": [
      "set()\n"
     ]
    }
   ],
   "source": [
    "print(bot_flag_rights.difference(group_rights))"
   ]
  },
  {
   "cell_type": "markdown",
   "metadata": {},
   "source": [
    "This shows all rights that bots which are in the group 'bot' have but bots with a flag do not have."
   ]
  },
  {
   "cell_type": "code",
   "execution_count": 47,
   "metadata": {
    "collapsed": false
   },
   "outputs": [
    {
     "name": "stdout",
     "output_type": "stream",
     "text": [
      "{'nominornewtalk', 'noratelimit', 'suppressredirect', 'bot', 'apihighlimits'}\n"
     ]
    }
   ],
   "source": [
    "print(group_rights.difference(bot_flag_rights))"
   ]
  },
  {
   "cell_type": "markdown",
   "metadata": {},
   "source": [
    "### Analysis of Requests for Permission\n",
    "\n",
    "This chepter aims to analyse the requests for permissions for bots on Wikidata."
   ]
  },
  {
   "cell_type": "markdown",
   "metadata": {},
   "source": [
    "| criteria                  | amount                |\n",
    "| --------------------------|:---------------------:|\n",
    "| number of bots            |356                    |\n",
    "| number of requests        |655                    |\n",
    "| date of the first request |2012-11-13 03:29:25    |\n",
    "| date of the last request  |2018-05-14 13:03:51    |\n",
    "\n",
    "As date value the date when the request was first edited is taken."
   ]
  },
  {
   "cell_type": "markdown",
   "metadata": {},
   "source": [
    "#### Distribution of request for permission\n",
    "\n",
    "This shows the distribution of request for permission over time. As time value the time when the request for permission was closed is taken."
   ]
  },
  {
   "cell_type": "code",
   "execution_count": 48,
   "metadata": {
    "collapsed": false
   },
   "outputs": [
    {
     "data": {
      "image/png": "[encoded data removed]",
      "text/plain": [
       "<matplotlib.figure.Figure at 0x1182c7518>"
      ]
     },
     "metadata": {},
     "output_type": "display_data"
    }
   ],
   "source": [
    "Analyser.plot_distribution_over_time(\n",
    "    '''\n",
    "    SELECT closed_at \n",
    "    FROM requests_for_permissions \n",
    "    WHERE closed_at <> '' \n",
    "    ORDER BY closed_at\n",
    "    ''')"
   ]
  },
  {
   "cell_type": "markdown",
   "metadata": {},
   "source": [
    "### Distribution of successful request for permission\n",
    "\n",
    "This shows the distribution of successful request for permission over time. As time value the time when the request for permission was closed is taken."
   ]
  },
  {
   "cell_type": "code",
   "execution_count": 49,
   "metadata": {
    "collapsed": false
   },
   "outputs": [
    {
     "data": {
      "image/png": "[encoded data removed]",
      "text/plain": [
       "<matplotlib.figure.Figure at 0x1189d7668>"
      ]
     },
     "metadata": {},
     "output_type": "display_data"
    }
   ],
   "source": [
    "Analyser.plot_distribution_over_time(\n",
    "    '''\n",
    "    SELECT closed_at \n",
    "    FROM requests_for_permissions \n",
    "    WHERE is_successful = 1 \n",
    "    AND closed_at <> '' \n",
    "    ORDER BY closed_at\n",
    "    ''')"
   ]
  },
  {
   "cell_type": "markdown",
   "metadata": {},
   "source": [
    "### Distribution of unsuccessful request for permission\n",
    "\n",
    "This shows the distribution of unsuccessful request for permission over time. As time value the time when the request for permission was closed is taken."
   ]
  },
  {
   "cell_type": "code",
   "execution_count": 50,
   "metadata": {
    "collapsed": false
   },
   "outputs": [
    {
     "data": {
      "image/png": "[encoded data removed]",
      "text/plain": [
       "<matplotlib.figure.Figure at 0x118e94b38>"
      ]
     },
     "metadata": {},
     "output_type": "display_data"
    }
   ],
   "source": [
    "Analyser.plot_distribution_over_time(\n",
    "    '''\n",
    "    SELECT closed_at \n",
    "    FROM requests_for_permissions \n",
    "    WHERE is_successful = 0 \n",
    "    AND closed_at <> '' \n",
    "    ORDER BY closed_at\n",
    "    ''')"
   ]
  },
  {
   "cell_type": "markdown",
   "metadata": {},
   "source": [
    "### Distribution of editor count\n",
    "\n",
    "This shows the distribution of editor count per request for permission. The editor count represents the number of different users who edited the request for permission."
   ]
  },
  {
   "cell_type": "code",
   "execution_count": 51,
   "metadata": {
    "collapsed": false
   },
   "outputs": [
    {
     "data": {
      "image/png": "[encoded data removed]",
      "text/plain": [
       "<matplotlib.figure.Figure at 0x1192d1470>"
      ]
     },
     "metadata": {},
     "output_type": "display_data"
    }
   ],
   "source": [
    "Analyser.plot_distribution(\n",
    "    '''\n",
    "    SELECT editor_count, COUNT(*)\n",
    "    FROM requests_for_permissions\n",
    "    GROUP BY editor_count\n",
    "    ''')"
   ]
  },
  {
   "cell_type": "markdown",
   "metadata": {},
   "source": [
    "### Rights\n",
    "\n",
    "\n",
    "| Permission                | Allows user(s) to…    | bot |\n",
    "| --------------------------|:---------------------:|-----|\n",
    "| abusefilter-log            | view the abuse log                   |    |\n",
    "| abusefilter-log-detail        | view detailed abuse log entries                   ||\n",
    "| abusefilter-log-private | view all details for abuse log entries of private filters. All users with abusefilter-modify inherit this.    ||\n",
    "| abusefilter-modify  | modify abuse filters   ||\n",
    "| abusefilter-modify-restricted            | modify abuse filters with restricted actions                   |    |\n",
    "| abusefilter-view        |  view abuse filters                  ||\n",
    "| abusefilter-view-private | view abuse filters marked as private   ||\n",
    "| abusefilter-revert  | revert all changes by a given filter   ||\n",
    "| apihighlimits            |                    |    |\n",
    "| autoconfirmed        |                    ||\n",
    "| autopatrol |    ||\n",
    "| bigdelete  |    ||\n",
    "| block            |                    |    |\n",
    "| bot        |                    ||\n",
    "| checkuser |    ||\n",
    "| checkuser-log  |    ||\n",
    "| createaccount            |                    |    |\n",
    "| createpage        |                    ||\n",
    "| createtalk |   ||\n",
    "| delete  |    ||\n",
    "| deletedhistory            |                    |    |\n",
    "| deletedtext        |                    ||\n",
    "| edit |    ||\n",
    "| (no technical name)  |    ||\n",
    "| editusercssjs            |                    |    |\n",
    "| import        |                    ||\n",
    "| importupload |    ||\n",
    "| ipblockexempt  |   ||\n",
    "| item-create            |                    |    |\n",
    "| item-override        |                    ||\n",
    "| markbotedits |    ||\n",
    "| move  |    ||\n",
    "| movefile            |                    |    |\n",
    "| move-rootuserpages        |                    ||\n",
    "| move-subpages |    ||\n",
    "| nominornewtalk  |    ||\n",
    "| noratelimit            |                    |    |\n",
    "| override-antispoof        |                    ||\n",
    "| oversight |    ||\n",
    "| pagetranslation  |    ||\n",
    "| patrol            |                    |    |\n",
    "| property-create        |                    ||\n",
    "| protect |    ||\n",
    "| purge  |    ||\n",
    "| read            |                    |    |\n",
    "| renameuser        |                    ||\n",
    "| reupload |    ||\n",
    "| reupload-own            |                    |    |\n",
    "| reupload-shared        |                    ||\n",
    "| rollback |    ||\n",
    "| sendemail  |    ||\n",
    "| skipcaptcha            |                    |    |\n",
    "| suppressredirect       |                    ||\n",
    "| suppressrevision |    ||\n",
    "| suppressionlog  |    ||\n",
    "| tboverride            |                    |    |\n",
    "| translate        |                    ||\n",
    "| translate-groupreview |    ||\n",
    "| translate-manage            |                    |    |\n",
    "| translate-review        |                    ||\n",
    "| undelete |    ||\n",
    "| unwatchedpages  |    ||\n",
    "| upload            |                    |    |\n",
    "| userrights       |                    ||\n",
    "| writeapi |    ||"
   ]
  },
  {
   "cell_type": "code",
   "execution_count": null,
   "metadata": {
    "collapsed": true
   },
   "outputs": [],
   "source": []
  }
 ],
 "metadata": {
  "kernelspec": {
   "display_name": "Python 3",
   "language": "python",
   "name": "python3"
  },
  "language_info": {
   "codemirror_mode": {
    "name": "ipython",
    "version": 3
   },
   "file_extension": ".py",
   "mimetype": "text/x-python",
   "name": "python",
   "nbconvert_exporter": "python",
   "pygments_lexer": "ipython3",
   "version": "3.6.0"
  }
 },
 "nbformat": 4,
 "nbformat_minor": 1
}
