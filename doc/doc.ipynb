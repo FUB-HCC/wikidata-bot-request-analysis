{
 "cells": [
  {
   "cell_type": "code",
   "execution_count": 11,
   "metadata": {
    "collapsed": false
   },
   "outputs": [
    {
     "data": {
      "text/html": [
       "<script>requirejs.config({paths: { 'plotly': ['https://cdn.plot.ly/plotly-latest.min']},});if(!window.Plotly) {{require(['plotly'],function(plotly) {window.Plotly=plotly;});}}</script>"
      ],
      "text/vnd.plotly.v1+html": [
       "<script>requirejs.config({paths: { 'plotly': ['https://cdn.plot.ly/plotly-latest.min']},});if(!window.Plotly) {{require(['plotly'],function(plotly) {window.Plotly=plotly;});}}</script>"
      ]
     },
     "metadata": {},
     "output_type": "display_data"
    },
    {
     "name": "stdout",
     "output_type": "stream",
     "text": [
      "The autoreload extension is already loaded. To reload it, use:\n",
      "  %reload_ext autoreload\n"
     ]
    }
   ],
   "source": [
    "import sqlite3\n",
    "import pandas as pd\n",
    "import matplotlib.pyplot as plt\n",
    "import matplotlib\n",
    "import pandas as pd\n",
    "import os\n",
    "import sys\n",
    "from plotly.offline import init_notebook_mode, iplot\n",
    "from plotly.graph_objs import Bar\n",
    "init_notebook_mode(connected=True)\n",
    "\n",
    "module_path = os.path.abspath(os.path.join('../src'))\n",
    "if module_path not in sys.path:\n",
    "    sys.path.append(module_path)\n",
    "\n",
    "from analyser import Analyser\n",
    "from db import SqliteDb as db\n",
    "\n",
    "%matplotlib inline\n",
    "%load_ext autoreload\n",
    "%autoreload 2"
   ]
  },
  {
   "cell_type": "markdown",
   "metadata": {
    "collapsed": true
   },
   "source": [
    "# Documentation\n",
    "\n",
    "## Research Questions\n",
    "\n",
    "** Which contribution have bots to the quality of Wikidata? **\n",
    "* Which differences exist between bots which successfully completed the request for permission process and those who doesn't? (Hypothesis: The request for permission process is a quality gate for bots)\n",
    "* How does bot's field of activity change over time?\n",
    "* What is the difference between a bot with the group 'bot' and a bot with a botflag?"
   ]
  },
  {
   "cell_type": "markdown",
   "metadata": {},
   "source": [
    "## Data preparation\n",
    "### Request for permissions\n",
    "\n",
    "As a first step we downloaded and parsed the data about requests for permissions about bots from Wikidata in May 2018. We collected the already closed requests which can be found in the Wikidata archive (e.g. https://www.wikidata.org/wiki/Wikidata:Requests_for_permissions/Archive#Requests_for_bot_flags). The data is stored in a database.\n",
    "\n",
    "Request for permissions which have no own page were left out (e.g. https://www.wikidata.org/w/index.php?title=Wikidata:Requests_for_permissions/Bot/Checkallthestrings_bot_1&action=edit&redlink=1).\n",
    "\n",
    "Request for permissions which are listed several times in different archives were only parsed once (e.g. https://www.wikidata.org/wiki/Wikidata:Requests_for_permissions/Bot/VIAFbot is listes in https://www.wikidata.org/wiki/Wikidata:Requests_for_permissions/RfBot/March_2013 and in https://www.wikidata.org/wiki/Wikidata:Requests_for_permissions/RfBot/April_2013)."
   ]
  },
  {
   "cell_type": "markdown",
   "metadata": {},
   "source": [
    "## DB\n",
    "\n",
    "### Schema"
   ]
  },
  {
   "cell_type": "markdown",
   "metadata": {},
   "source": [
    "The db schema looks as follows (as diagram):\n",
    "\n",
    "Note: The lates update for this diagram was on May 22 and may not be up-to-date!\n",
    "\n",
    "![DB schema](images/db_schema.png)"
   ]
  },
  {
   "cell_type": "markdown",
   "metadata": {},
   "source": [
    "and as ddl: \n",
    "\n",
    "```sql\n",
    "CREATE TABLE requests_for_permissions (\n",
    "    id                    INTEGER PRIMARY KEY AUTOINCREMENT NOT NULL,\n",
    "    url                   TEXT UNIQUE,\n",
    "    bot                   TEXT,\n",
    "    bot_name              TEXT,\n",
    "    bot_has_red_link      INTEGER,\n",
    "    operator              INTEGER,\n",
    "    is_successful         INTEGER,\n",
    "    first_edit            DATE,\n",
    "    last_edit             DATE,\n",
    "    closed_at             DATE,\n",
    "    revision_count        INTEGER,\n",
    "    editor_count          INTEGER,\n",
    "    comment_symbol_count  INTEGER,\n",
    "    question_symbol_count INTEGER,\n",
    "    oppose_symbol_count   INTEGER,\n",
    "    answer_symbol_count   INTEGER,\n",
    "    support_symbol_count  INTEGER,\n",
    "    html                  TEXT,\n",
    "    task                  TEXT,\n",
    "    code                  TEXT,\n",
    "    function              TEXT,\n",
    "    archive_comment       TEXT,\n",
    "    summary               TEXT,\n",
    "    retrieved_at          DATE,\n",
    "    FOREIGN KEY(bot) REFERENCES bot(id)\n",
    ");\n",
    "CREATE TABLE bots (\n",
    "    id               INTEGER PRIMARY KEY AUTOINCREMENT NOT NULL,\n",
    "    userid           INTEGER UNIQUE,\n",
    "    name             TEXT UNIQUE,\n",
    "    has_botflag      INTEGER,\n",
    "    is_extension_bot INTEGER,\n",
    "    is_blocked       INTEGER,\n",
    "    blockid          INTEGER,\n",
    "    blockedby        TEXT,\n",
    "    blockedbyid      INTEGER,\n",
    "    blockedtimestamp DATE,\n",
    "    blockreason      TEXT,\n",
    "    blockexpiry      TEXT,\n",
    "    groups           TEXT,\n",
    "    implicitgroups   TEXT,\n",
    "    rights           TEXT,\n",
    "    editcount        INTEGER,\n",
    "    registration     TEXT,\n",
    "    retrieved_at     DATE\n",
    ");\n",
    "```"
   ]
  },
  {
   "cell_type": "markdown",
   "metadata": {},
   "source": [
    "### Tables"
   ]
  },
  {
   "cell_type": "markdown",
   "metadata": {},
   "source": [
    "The tabel `requests_for_permissions` contains the following content:\n",
    "\n",
    "| column                | content explanation                                                                   |\n",
    "| ----------------------|:-------------------------------------------------------------------------------------:|\n",
    "| id                    | unique identifier                                                                     |\n",
    "| url                   | url of the request for permission                                                     |\n",
    "| bot                   | the wikidata user account for which the request for permission is for.                |\n",
    "| operator              | the wikidata user account which opend the request for permission and is responsible for the bot. |\n",
    "| is_successful         | flag which states if the request for permission was successful. 1 if it was successful and 0 if not     |\n",
    "| first_edit            | utc date and time when the first edit of this request for permission was made         |\n",
    "| last_edit             | utc date and time when the last edit of this request for permission was made          |\n",
    "| closed_at             | utc date and time when the request for permission was closed which is equvalent to the time when the summary was written |\n",
    "| revision_count        | count how many revisions were applied to the request for permission                   |\n",
    "| edit_count            | count how many distinct editors made revisons to the request for permission           |\n",
    "| comment_symbol_count  | count how often a comment symbol was used in the discussion of the request            |\n",
    "| question_symbol_count | count how often a question symbol was used in the discussion of the request           |\n",
    "| oppose_symbol_count   | count how often a oppose symbol was used in the discussion of the request             |\n",
    "| answer_symbol_count   | count how often a answer symbol was used in the discussion of the request             |\n",
    "| support_symbol_count  | count how often a support symbol was used in the discussion of the request            |\n",
    "| html                  | raw html of the site that can be found under the url. only the main part of the site is saved. |\n",
    "| task                  | short description of the bot function                                                 |\n",
    "| code                  | link to the online repository or other code describing text                           |\n",
    "| function              | detailed description of the bot function                                              |\n",
    "| archive_comment       | short comment why the request for permission was successful or not. Example can be found under the following link: https://www.wikidata.org/wiki/Wikidata:Requests_for_permissions/RfBot/April_2013 (see for example '(approved temporary)') |\n",
    "| summary               | summary about the discussion and the final decision about the request for permission   | \n",
    "| retrieved_at          | utc date and time when the data was retrived                                          |"
   ]
  },
  {
   "cell_type": "markdown",
   "metadata": {},
   "source": [
    "The tabel `bots` contains the following content:\n",
    "\n",
    "| column                | content explanation                                                                   |\n",
    "| ----------------------|:-------------------------------------------------------------------------------------:|\n",
    "| name                  | name of the bot                                                                       |"
   ]
  },
  {
   "cell_type": "markdown",
   "metadata": {},
   "source": [
    "## Analysis\n",
    "\n",
    "### Analysis of Wikidata Bots\n",
    "\n",
    "This chapter aims to analyse the bots on wikidata. \n",
    "\n",
    "As a first step we try to find out which user accounts on Wikidata are bots. There are several sources that contain lists of bots or can help to detect them. None of them is complete. Therefore we fetched data from five different sources. The following table lists these sources and the number of contained bots.\n",
    "\n",
    "Note: The list is updateed manually thus disparities between this tables and the following results may occur! Last update: 28 May 2018"
   ]
  },
  {
   "cell_type": "markdown",
   "metadata": {},
   "source": [
    "| criteria                           | amount       | source               | output file          |\n",
    "| ---------------------------------- |:------------:|:--------------------:|:--------------------:|\n",
    "| number of users in the group 'bot' | 245 | MediaWiki API (Example URL: https://www.wikidata.org/w/api.php?action=query&list=allusers&augroup=bot) | data/parser/users_in_bot_group.csv |\n",
    "| number of bots that have a closed request for permission | 364 | [Requests for bot flags](https://www.wikidata.org/wiki/Wikidata:Requests_for_permissions/Archive#Requests_for_bot_flags ) | data/spiders/bots_with_requests_for_permissions.csv |\n",
    "| number of bots with a botflag     | 258 | [Bots with botflag](https://www.wikidata.org/wiki/Category:Bots_with_botflag) | data/spiders/bots_with_botflag.csv |\n",
    "| number of bots without a botflag  | 163 | [Bots without a botflag](https://www.wikidata.org/wiki/Category:Bots_without_botflag) | data/spiders/bots_without_botflag.csv |\n",
    "| number of extension bots           | 7 | [Extension bots](https://www.wikidata.org/wiki/Category:Extension_bots) | data/spiders/extension_bots.csv |"
   ]
  },
  {
   "cell_type": "markdown",
   "metadata": {},
   "source": [
    "### Number of bots with respect to there affiliation"
   ]
  },
  {
   "cell_type": "markdown",
   "metadata": {},
   "source": [
    "The following statistics describe partially the same as the table before but instead of fetching the results from the csv files, they are retrived from the db. The calcuated values are summarizes in the subsequent matrix to give a better overview. An example of how to interpret the matrix is that the field `b_f b_f` describe how many distinct bots with a bot flag exist. If you want to see the names of the bots which belong to each group, you can uncomment the line ``` Analyser.print_matrix_bot_names() ```. The collumn names are described as follows:\n",
    "\n",
    "| column name               | explanation                               |\n",
    "| --------------------------|:-----------------------------------------:|\n",
    "| b_f                       | has bot flag                              |\n",
    "| no_b_f                    | has no bot flag                           |\n",
    "| ex_b                      | is a extension bot                        |\n",
    "| group                     | is in group 'bot'                         |\n",
    "| request                   | has a request for permission              |\n",
    "| s_request                 | has a successful request for permission   |\n",
    "| u_request                 | has a unsuccessful request for permission |\n"
   ]
  },
  {
   "cell_type": "code",
   "execution_count": 22,
   "metadata": {
    "collapsed": false,
    "scrolled": true
   },
   "outputs": [
    {
     "name": "stdout",
     "output_type": "stream",
     "text": [
      "           b_f no_b_f ex_b group request s_request u_request\n",
      "b_f        259      0    0   202     249       249        20\n",
      "no_b_f     NaN    164    0    23      63        41        24\n",
      "ex_b       NaN    NaN    6     3       1         1         0\n",
      "group      NaN    NaN  NaN   252     242       242        15\n",
      "request    NaN    NaN  NaN   NaN     368       322        70\n",
      "s_request  NaN    NaN  NaN   NaN     NaN       322        24\n",
      "u_request  NaN    NaN  NaN   NaN     NaN       NaN        70\n"
     ]
    }
   ],
   "source": [
    "Analyser.generate_matrix()"
   ]
  },
  {
   "cell_type": "code",
   "execution_count": 21,
   "metadata": {
    "collapsed": false
   },
   "outputs": [],
   "source": [
    "# Analyser.print_matrix_bot_names()"
   ]
  },
  {
   "cell_type": "markdown",
   "metadata": {},
   "source": [
    "### Count and names of unique bots"
   ]
  },
  {
   "cell_type": "markdown",
   "metadata": {},
   "source": [
    "The following describes the number and the names of all unique bots. These bots are retrieved from all lists (e.g. bots with a bot flag, bots without a bot flag, bots with a request for permission, bots in the user group 'bot' and extension bots)"
   ]
  },
  {
   "cell_type": "code",
   "execution_count": 6,
   "metadata": {
    "collapsed": false,
    "scrolled": true
   },
   "outputs": [],
   "source": [
    "# Analyser.print_unique_bots()"
   ]
  },
  {
   "cell_type": "markdown",
   "metadata": {},
   "source": [
    "### Differences between unique bots (with request vs. without request)\n",
    "The following section compares all unique bots which have a request for permission and those who don't.\n",
    "#### Count and names of bots with a request for permission."
   ]
  },
  {
   "cell_type": "code",
   "execution_count": 36,
   "metadata": {
    "collapsed": false,
    "scrolled": true
   },
   "outputs": [],
   "source": [
    "# Analyser.print_bots_with_request()"
   ]
  },
  {
   "cell_type": "markdown",
   "metadata": {},
   "source": [
    "#### Count and names of bots without a request for permission."
   ]
  },
  {
   "cell_type": "code",
   "execution_count": 16,
   "metadata": {
    "collapsed": false,
    "scrolled": false
   },
   "outputs": [],
   "source": [
    "# Analyser.print_bots_without_request()"
   ]
  },
  {
   "cell_type": "markdown",
   "metadata": {},
   "source": [
    "#### Rights of bots with a request for permission.\n",
    "The following shows how many bots with a request for permission have a specific right. Note: the rights could not be retrived for all bots form the API for the reason that some bots for example do not have a user account anymore. Therefore in the graphic the maximum value of bots that have a specific right is 364 and not 368!"
   ]
  },
  {
   "cell_type": "code",
   "execution_count": 23,
   "metadata": {
    "collapsed": false,
    "scrolled": true
   },
   "outputs": [],
   "source": [
    "# Analyser.print_rights_of_bots_with_request()"
   ]
  },
  {
   "cell_type": "markdown",
   "metadata": {},
   "source": [
    "#### Bots with request and without rights in db"
   ]
  },
  {
   "cell_type": "code",
   "execution_count": 19,
   "metadata": {
    "collapsed": false,
    "scrolled": true
   },
   "outputs": [
    {
     "name": "stdout",
     "output_type": "stream",
     "text": [
      "#################### Number of all bots with a request, without rights and a red link: ####################\n",
      " 5 \n",
      "\n",
      "#################### Names of all bots with a request, without rights and a red link: ####################\n",
      " AviBot, Epochs bot, Fabot, RavenXBot2, Shankarbot \n",
      "\n",
      "#################### Number of all bots with a request, without rights and without a red link: ####################\n",
      " 1 \n",
      "\n",
      "#################### Names of all bots with a request, without rights and without a red link: ####################\n",
      " Global Economic Map Bot \n",
      "\n"
     ]
    }
   ],
   "source": [
    "Analyser.print_bots_with_request_without_rights()"
   ]
  },
  {
   "cell_type": "markdown",
   "metadata": {},
   "source": [
    "All bots for which no rights could be retrived and which have a red link, were probably deleted. \n",
    "\n",
    "The bot 'Global Economic Map Bot' has its own user page but still no rights can be retrived over the api. It is not yet solved why (TODO!).\n",
    "\n",
    "Its also not solved yet why there are 6 bots with no rights in the db, but the table above suggests that there are only 4 bots with no rights in the db (TODO!)."
   ]
  },
  {
   "cell_type": "markdown",
   "metadata": {},
   "source": [
    "#### Rights of bots without a request for permission.\n",
    "The following shows which rights bots without a request for permission have and how many of them have these right. Note: the rights could not be retrived for all bots form the API for the reason that some bots for example do not have a user account anymore. Therefore in the graphic the maximum value of bots that have a specific right is 120 and not 122!"
   ]
  },
  {
   "cell_type": "code",
   "execution_count": 1,
   "metadata": {
    "collapsed": false,
    "scrolled": false
   },
   "outputs": [],
   "source": [
    "# Analyser.print_rights_of_bots_without_request()"
   ]
  },
  {
   "cell_type": "markdown",
   "metadata": {},
   "source": [
    "#### Bots without request and without rights in db"
   ]
  },
  {
   "cell_type": "code",
   "execution_count": 7,
   "metadata": {
    "collapsed": false,
    "scrolled": true
   },
   "outputs": [],
   "source": [
    "# Analyser.print_bots_without_request_without_rights()"
   ]
  },
  {
   "cell_type": "markdown",
   "metadata": {},
   "source": [
    "Der Bot 127.0.0.1 ist kein User. Er gehört zu den extension Bots.\n",
    "\n",
    "Bots zu denen über die MediaWikiApi rechte abgefragt werden können aber nicht über die Wikidata:\n",
    "* Eflybot\n",
    "\n",
    "TODO: klären wie diese Exceptions gehandelt werden sollen"
   ]
  },
  {
   "cell_type": "markdown",
   "metadata": {},
   "source": [
    "#### Differences of bot rights\n",
    "The following shows all right that bots with a request for permission have but all other bots do not have and vice versa."
   ]
  },
  {
   "cell_type": "code",
   "execution_count": 14,
   "metadata": {
    "collapsed": false
   },
   "outputs": [],
   "source": [
    "# Analyser.print_right_differences_for_request()"
   ]
  },
  {
   "cell_type": "markdown",
   "metadata": {},
   "source": [
    "#### Groups of bots with a request for permission.\n",
    "The following shows how many bots with a request for permission belong to a specific group. Note: the groups could not be retrived for all bots form the API for the reason that some bots for example do not have a user account anymore. Therefore in the graphic the maximum value of bots that have a specific right is 349 and not 367!\n",
    "\n",
    "Note: All visitors to the site, including unregistered users, are part of the '*' group and get associated rights (for more infromation see: https://en.wikipedia.org/wiki/Wikipedia:User_access_levels#User_groups)"
   ]
  },
  {
   "cell_type": "code",
   "execution_count": 108,
   "metadata": {
    "collapsed": false
   },
   "outputs": [],
   "source": [
    "# Analyser.print_groups_of_bots_with_request()"
   ]
  },
  {
   "cell_type": "markdown",
   "metadata": {},
   "source": [
    "#### Bots with request and without groups in db"
   ]
  },
  {
   "cell_type": "code",
   "execution_count": 106,
   "metadata": {
    "collapsed": false
   },
   "outputs": [],
   "source": [
    "# Analyser.print_bots_with_request_without_groups()"
   ]
  },
  {
   "cell_type": "markdown",
   "metadata": {},
   "source": [
    "Bots bei denen manuell über die API Gruppen abfragbar sind, aber keine Gruppen in der DB stehen (es ist noch nicht klar warum, aber die Vermutung ist, dass es bei den ersten vier an der Kodierung liegt):\n",
    "* %C3%96dokBot\n",
    "* D%C3%A6ghrefnBot\n",
    "* %D4%B1%D5%B7%D5%A2%D5%B8%D5%BF\n",
    "* %D0%9D%D0%A1%D0%91%D0%BE%D1%82\n",
    "* Innocent bot: Der Name wurde manuell nachbearbeitet (vondaher wurden dazu keine Gruppen abgefragt)\n",
    "\n",
    "Bots bei denen auch manuell über die API keine Gruppen abgefragt werden können:\n",
    "* Global Economic Map Bot: Nicht klar warum\n",
    "* Luuvabot: ist eigentlich A-lú-mih-bot (man wird redirected und nur unter A-lú-mih-bot sind Gruppen zu finden)\n",
    "* DangSunFlood: ist eigentlich DangSunBot (man wird redirected und nur unter DangSunBot sind Gruppen zu finden)\n",
    "* The Anomebot: ist eigentlich The Anomebot 3 (der Bot The Anomebot existiert nicht. Die Zahl wird fälschlicherweise weggeparsed)\n",
    "* Theo%27s Little Bot: ist eigentlich Theo's Little Bot (Hier ist etwas mit der Kodierung nicht in Ordnung)\n",
    "* DynamicBot Srv2: ist eigentlich DynBot Srv2 (man wird redirected und nur unter DynBot Srv2 sind Gruppen zu finden)\n",
    "* Dima st bk bot: ist eigentlich DimaBot (man wird redirected und nur unter DimaBot sind Gruppen zu finden)\n",
    "* DangSunFlood2: ist eigntlich DangSunBot2 (man wird redirected und nur unter DangSunBot2 sind Gruppen zu finden)\n",
    "\n",
    "TODO: klären wie diese Exceptions gehandelt werden sollen"
   ]
  },
  {
   "cell_type": "markdown",
   "metadata": {},
   "source": [
    "#### Groups of bots without a request for permission.\n",
    "The following shows how many bots without a request for permission belong to a specific group. Note: the groups could not be retrived for all bots form the API for the reason that some bots for example do not have a user account anymore. Therefore in the graphic the maximum value of bots that have a specific right is 120 and not 122!"
   ]
  },
  {
   "cell_type": "code",
   "execution_count": 31,
   "metadata": {
    "collapsed": false
   },
   "outputs": [],
   "source": [
    "# Analyser.print_groups_of_bots_without_request()"
   ]
  },
  {
   "cell_type": "markdown",
   "metadata": {},
   "source": [
    "#### Bots with request and without groups in db"
   ]
  },
  {
   "cell_type": "code",
   "execution_count": 29,
   "metadata": {
    "collapsed": false
   },
   "outputs": [],
   "source": [
    "# Analyser.print_bots_without_request_without_groups()"
   ]
  },
  {
   "cell_type": "markdown",
   "metadata": {},
   "source": [
    "Der Bot 127.0.0.1 ist kein User. Er gehört zu den extension Bots.\n",
    "\n",
    "Bots zu denen über die MediaWikiApi rechte abgefragt werden können aber nicht über die Wikidata:\n",
    "* Eflybot\n",
    "\n",
    "TODO: klären wie diese Exceptions gehandelt werden sollen"
   ]
  },
  {
   "cell_type": "markdown",
   "metadata": {},
   "source": [
    "#### Differences of bot groups\n",
    "The following shows all groups that bots with a request for permission belong to but all other bots do not and vice versa."
   ]
  },
  {
   "cell_type": "code",
   "execution_count": 27,
   "metadata": {
    "collapsed": false
   },
   "outputs": [],
   "source": [
    "# Analyser.print_groups_differences()"
   ]
  },
  {
   "cell_type": "markdown",
   "metadata": {},
   "source": [
    "### Differences between unique bots (with bot flag vs. bot in group bot)\n",
    "The following section compares all unique bots which have a bot flag (and do not belong to the group bot) and bots which belong to the group bot (and do not have a bot flag).\n",
    "#### Count and names of bots with a bot flag and do not belong to the group bot"
   ]
  },
  {
   "cell_type": "code",
   "execution_count": 53,
   "metadata": {
    "collapsed": false
   },
   "outputs": [],
   "source": [
    "# Analyser.print_bots_with_bot_flag()"
   ]
  },
  {
   "cell_type": "markdown",
   "metadata": {},
   "source": [
    "#### Count and names of bots which belong to the group bot and do not have a bot flag"
   ]
  },
  {
   "cell_type": "code",
   "execution_count": 56,
   "metadata": {
    "collapsed": false
   },
   "outputs": [],
   "source": [
    "# Analyser.print_bots_in_bot_group()"
   ]
  },
  {
   "cell_type": "markdown",
   "metadata": {},
   "source": [
    "#### Count and names of bots with a bot flag and which belong to the group bot\n",
    "Note: if you add up this amount and the amount of 'Count and names of bots which belong to the group bot and do not have a bot flag' you will not get the overall amount of bot which belong to the bot group. This effect is due to the fact that in the db bots exist which belong to the bot group but have a NULL value for the field `has_botflag` and therefore are not captured by one of these queries."
   ]
  },
  {
   "cell_type": "code",
   "execution_count": 58,
   "metadata": {
    "collapsed": false
   },
   "outputs": [],
   "source": [
    "# Analyser.print_bots_with_bot_flag_and_in_bot_group()"
   ]
  },
  {
   "cell_type": "markdown",
   "metadata": {},
   "source": [
    "#### Rights of bots with a bot flag"
   ]
  },
  {
   "cell_type": "code",
   "execution_count": 42,
   "metadata": {
    "collapsed": false
   },
   "outputs": [],
   "source": [
    "# Analyser.print_rights_of_bot_with_bot_flag()"
   ]
  },
  {
   "cell_type": "markdown",
   "metadata": {},
   "source": [
    "#### Rights of bots which belong to the group 'bot'"
   ]
  },
  {
   "cell_type": "code",
   "execution_count": 46,
   "metadata": {
    "collapsed": false
   },
   "outputs": [],
   "source": [
    "# Analyser.print_right_differences_for_bot_flag_and_bot_group()"
   ]
  },
  {
   "cell_type": "markdown",
   "metadata": {},
   "source": [
    "#### Differences of bot rights\n",
    "The following shows all right that bots with a bot flag have but bots which belong to the group bot do not have and vice versa. "
   ]
  },
  {
   "cell_type": "code",
   "execution_count": 50,
   "metadata": {
    "collapsed": false
   },
   "outputs": [],
   "source": [
    "# Analyser.print_right_differences_for_bot_flag_and_bot_group()"
   ]
  },
  {
   "cell_type": "markdown",
   "metadata": {},
   "source": [
    "### Analysis of Requests for Permission\n",
    "\n",
    "This chepter aims to analyse the requests for permissions for bots on Wikidata."
   ]
  },
  {
   "cell_type": "markdown",
   "metadata": {},
   "source": [
    "| criteria                  | amount                |\n",
    "| --------------------------|:---------------------:|\n",
    "| number of bots            |356                    |\n",
    "| number of requests        |655                    |\n",
    "| date of the first request |2012-11-13 03:29:25    |\n",
    "| date of the last request  |2018-05-14 13:03:51    |\n",
    "\n",
    "As reference point the date when the request was first edited is taken."
   ]
  },
  {
   "cell_type": "markdown",
   "metadata": {},
   "source": [
    "#### Distribution of request for permission\n",
    "\n",
    "This shows the distribution of request for permission over time. As reference point for the time the date when the request for permission was closed is taken."
   ]
  },
  {
   "cell_type": "code",
   "execution_count": 110,
   "metadata": {
    "collapsed": false
   },
   "outputs": [
    {
     "data": {
      "application/vnd.plotly.v1+json": {
       "data": [
        {
         "type": "bar",
         "x": [
          "2012-11",
          "2012-12",
          "2013-01",
          "2013-02",
          "2013-03",
          "2013-04",
          "2013-05",
          "2013-06",
          "2013-07",
          "2013-08",
          "2013-09",
          "2013-10",
          "2013-11",
          "2013-12",
          "2014-01",
          "2014-02",
          "2014-03",
          "2014-04",
          "2014-05",
          "2014-06",
          "2014-07",
          "2014-08",
          "2014-09",
          "2014-10",
          "2014-11",
          "2014-12",
          "2015-01",
          "2015-02",
          "2015-03",
          "2015-04",
          "2015-05",
          "2015-06",
          "2015-07",
          "2015-08",
          "2015-09",
          "2015-10",
          "2015-11",
          "2015-12",
          "2016-01",
          "2016-02",
          "2016-03",
          "2016-04",
          "2016-05",
          "2016-06",
          "2016-07",
          "2016-08",
          "2016-09",
          "2016-10",
          "2016-11",
          "2016-12",
          "2017-01",
          "2017-02",
          "2017-03",
          "2017-04",
          "2017-05",
          "2017-06",
          "2017-07",
          "2017-08",
          "2017-09",
          "2017-10",
          "2017-11",
          "2017-12",
          "2018-01",
          "2018-02",
          "2018-03",
          "2018-04",
          "2018-05",
          "2018-06"
         ],
         "y": [
          7,
          3,
          5,
          8,
          19,
          31,
          33,
          24,
          17,
          21,
          10,
          10,
          10,
          11,
          13,
          14,
          10,
          13,
          11,
          4,
          5,
          7,
          13,
          10,
          10,
          10,
          7,
          5,
          8,
          7,
          6,
          10,
          7,
          9,
          4,
          8,
          3,
          5,
          3,
          15,
          7,
          3,
          4,
          8,
          6,
          4,
          7,
          8,
          7,
          3,
          10,
          10,
          12,
          9,
          8,
          12,
          9,
          11,
          9,
          4,
          29,
          6,
          10,
          10,
          21,
          4,
          9,
          7
         ]
        }
       ],
       "layout": {}
      },
      "text/html": [
       "<div id=\"71c1920b-f86a-4105-bef7-948cf52484d9\" style=\"height: 525px; width: 100%;\" class=\"plotly-graph-div\"></div><script type=\"text/javascript\">require([\"plotly\"], function(Plotly) { window.PLOTLYENV=window.PLOTLYENV || {};window.PLOTLYENV.BASE_URL=\"https://plot.ly\";Plotly.newPlot(\"71c1920b-f86a-4105-bef7-948cf52484d9\", [{\"type\": \"bar\", \"x\": [\"2012-11\", \"2012-12\", \"2013-01\", \"2013-02\", \"2013-03\", \"2013-04\", \"2013-05\", \"2013-06\", \"2013-07\", \"2013-08\", \"2013-09\", \"2013-10\", \"2013-11\", \"2013-12\", \"2014-01\", \"2014-02\", \"2014-03\", \"2014-04\", \"2014-05\", \"2014-06\", \"2014-07\", \"2014-08\", \"2014-09\", \"2014-10\", \"2014-11\", \"2014-12\", \"2015-01\", \"2015-02\", \"2015-03\", \"2015-04\", \"2015-05\", \"2015-06\", \"2015-07\", \"2015-08\", \"2015-09\", \"2015-10\", \"2015-11\", \"2015-12\", \"2016-01\", \"2016-02\", \"2016-03\", \"2016-04\", \"2016-05\", \"2016-06\", \"2016-07\", \"2016-08\", \"2016-09\", \"2016-10\", \"2016-11\", \"2016-12\", \"2017-01\", \"2017-02\", \"2017-03\", \"2017-04\", \"2017-05\", \"2017-06\", \"2017-07\", \"2017-08\", \"2017-09\", \"2017-10\", \"2017-11\", \"2017-12\", \"2018-01\", \"2018-02\", \"2018-03\", \"2018-04\", \"2018-05\", \"2018-06\"], \"y\": [7, 3, 5, 8, 19, 31, 33, 24, 17, 21, 10, 10, 10, 11, 13, 14, 10, 13, 11, 4, 5, 7, 13, 10, 10, 10, 7, 5, 8, 7, 6, 10, 7, 9, 4, 8, 3, 5, 3, 15, 7, 3, 4, 8, 6, 4, 7, 8, 7, 3, 10, 10, 12, 9, 8, 12, 9, 11, 9, 4, 29, 6, 10, 10, 21, 4, 9, 7]}], {}, {\"showLink\": true, \"linkText\": \"Export to plot.ly\"})});</script>"
      ],
      "text/vnd.plotly.v1+html": [
       "<div id=\"71c1920b-f86a-4105-bef7-948cf52484d9\" style=\"height: 525px; width: 100%;\" class=\"plotly-graph-div\"></div><script type=\"text/javascript\">require([\"plotly\"], function(Plotly) { window.PLOTLYENV=window.PLOTLYENV || {};window.PLOTLYENV.BASE_URL=\"https://plot.ly\";Plotly.newPlot(\"71c1920b-f86a-4105-bef7-948cf52484d9\", [{\"type\": \"bar\", \"x\": [\"2012-11\", \"2012-12\", \"2013-01\", \"2013-02\", \"2013-03\", \"2013-04\", \"2013-05\", \"2013-06\", \"2013-07\", \"2013-08\", \"2013-09\", \"2013-10\", \"2013-11\", \"2013-12\", \"2014-01\", \"2014-02\", \"2014-03\", \"2014-04\", \"2014-05\", \"2014-06\", \"2014-07\", \"2014-08\", \"2014-09\", \"2014-10\", \"2014-11\", \"2014-12\", \"2015-01\", \"2015-02\", \"2015-03\", \"2015-04\", \"2015-05\", \"2015-06\", \"2015-07\", \"2015-08\", \"2015-09\", \"2015-10\", \"2015-11\", \"2015-12\", \"2016-01\", \"2016-02\", \"2016-03\", \"2016-04\", \"2016-05\", \"2016-06\", \"2016-07\", \"2016-08\", \"2016-09\", \"2016-10\", \"2016-11\", \"2016-12\", \"2017-01\", \"2017-02\", \"2017-03\", \"2017-04\", \"2017-05\", \"2017-06\", \"2017-07\", \"2017-08\", \"2017-09\", \"2017-10\", \"2017-11\", \"2017-12\", \"2018-01\", \"2018-02\", \"2018-03\", \"2018-04\", \"2018-05\", \"2018-06\"], \"y\": [7, 3, 5, 8, 19, 31, 33, 24, 17, 21, 10, 10, 10, 11, 13, 14, 10, 13, 11, 4, 5, 7, 13, 10, 10, 10, 7, 5, 8, 7, 6, 10, 7, 9, 4, 8, 3, 5, 3, 15, 7, 3, 4, 8, 6, 4, 7, 8, 7, 3, 10, 10, 12, 9, 8, 12, 9, 11, 9, 4, 29, 6, 10, 10, 21, 4, 9, 7]}], {}, {\"showLink\": true, \"linkText\": \"Export to plot.ly\"})});</script>"
      ]
     },
     "metadata": {},
     "output_type": "display_data"
    }
   ],
   "source": [
    "Analyser.plot_distribution_over_time(\n",
    "    '''\n",
    "    SELECT closed_at \n",
    "    FROM requests_for_permissions \n",
    "    WHERE closed_at <> ''\n",
    "    AND closed_at NOT NULL\n",
    "    ORDER BY closed_at\n",
    "    ''')"
   ]
  },
  {
   "cell_type": "markdown",
   "metadata": {},
   "source": [
    "#### Distribution of successful request for permission\n",
    "\n",
    "This shows the distribution of successful request for permission over time. As reference point for the time the date when the request for permission was closed is taken."
   ]
  },
  {
   "cell_type": "code",
   "execution_count": 109,
   "metadata": {
    "collapsed": false
   },
   "outputs": [
    {
     "data": {
      "application/vnd.plotly.v1+json": {
       "data": [
        {
         "type": "bar",
         "x": [
          "2012-11",
          "2012-12",
          "2013-01",
          "2013-02",
          "2013-03",
          "2013-04",
          "2013-05",
          "2013-06",
          "2013-07",
          "2013-08",
          "2013-09",
          "2013-10",
          "2013-11",
          "2013-12",
          "2014-01",
          "2014-02",
          "2014-03",
          "2014-04",
          "2014-05",
          "2014-06",
          "2014-07",
          "2014-08",
          "2014-09",
          "2014-10",
          "2014-11",
          "2014-12",
          "2015-01",
          "2015-02",
          "2015-03",
          "2015-04",
          "2015-05",
          "2015-06",
          "2015-07",
          "2015-08",
          "2015-09",
          "2015-10",
          "2015-11",
          "2015-12",
          "2016-01",
          "2016-02",
          "2016-03",
          "2016-04",
          "2016-05",
          "2016-06",
          "2016-07",
          "2016-08",
          "2016-09",
          "2016-10",
          "2016-11",
          "2016-12",
          "2017-01",
          "2017-02",
          "2017-03",
          "2017-04",
          "2017-05",
          "2017-06",
          "2017-07",
          "2017-08",
          "2017-09",
          "2017-10",
          "2017-11",
          "2017-12",
          "2018-01",
          "2018-02",
          "2018-03",
          "2018-04",
          "2018-05",
          "2018-06"
         ],
         "y": [
          6,
          3,
          3,
          7,
          17,
          27,
          31,
          23,
          15,
          17,
          9,
          10,
          10,
          7,
          13,
          14,
          5,
          12,
          10,
          4,
          5,
          6,
          13,
          8,
          7,
          10,
          7,
          5,
          5,
          7,
          6,
          9,
          7,
          9,
          4,
          8,
          3,
          4,
          3,
          10,
          7,
          3,
          4,
          8,
          6,
          4,
          7,
          8,
          6,
          2,
          10,
          9,
          11,
          6,
          7,
          9,
          7,
          10,
          7,
          4,
          29,
          6,
          6,
          6,
          11,
          4,
          8,
          6
         ]
        }
       ],
       "layout": {}
      },
      "text/html": [
       "<div id=\"7518d471-1c15-4b89-813c-4c968f0bea29\" style=\"height: 525px; width: 100%;\" class=\"plotly-graph-div\"></div><script type=\"text/javascript\">require([\"plotly\"], function(Plotly) { window.PLOTLYENV=window.PLOTLYENV || {};window.PLOTLYENV.BASE_URL=\"https://plot.ly\";Plotly.newPlot(\"7518d471-1c15-4b89-813c-4c968f0bea29\", [{\"type\": \"bar\", \"x\": [\"2012-11\", \"2012-12\", \"2013-01\", \"2013-02\", \"2013-03\", \"2013-04\", \"2013-05\", \"2013-06\", \"2013-07\", \"2013-08\", \"2013-09\", \"2013-10\", \"2013-11\", \"2013-12\", \"2014-01\", \"2014-02\", \"2014-03\", \"2014-04\", \"2014-05\", \"2014-06\", \"2014-07\", \"2014-08\", \"2014-09\", \"2014-10\", \"2014-11\", \"2014-12\", \"2015-01\", \"2015-02\", \"2015-03\", \"2015-04\", \"2015-05\", \"2015-06\", \"2015-07\", \"2015-08\", \"2015-09\", \"2015-10\", \"2015-11\", \"2015-12\", \"2016-01\", \"2016-02\", \"2016-03\", \"2016-04\", \"2016-05\", \"2016-06\", \"2016-07\", \"2016-08\", \"2016-09\", \"2016-10\", \"2016-11\", \"2016-12\", \"2017-01\", \"2017-02\", \"2017-03\", \"2017-04\", \"2017-05\", \"2017-06\", \"2017-07\", \"2017-08\", \"2017-09\", \"2017-10\", \"2017-11\", \"2017-12\", \"2018-01\", \"2018-02\", \"2018-03\", \"2018-04\", \"2018-05\", \"2018-06\"], \"y\": [6, 3, 3, 7, 17, 27, 31, 23, 15, 17, 9, 10, 10, 7, 13, 14, 5, 12, 10, 4, 5, 6, 13, 8, 7, 10, 7, 5, 5, 7, 6, 9, 7, 9, 4, 8, 3, 4, 3, 10, 7, 3, 4, 8, 6, 4, 7, 8, 6, 2, 10, 9, 11, 6, 7, 9, 7, 10, 7, 4, 29, 6, 6, 6, 11, 4, 8, 6]}], {}, {\"showLink\": true, \"linkText\": \"Export to plot.ly\"})});</script>"
      ],
      "text/vnd.plotly.v1+html": [
       "<div id=\"7518d471-1c15-4b89-813c-4c968f0bea29\" style=\"height: 525px; width: 100%;\" class=\"plotly-graph-div\"></div><script type=\"text/javascript\">require([\"plotly\"], function(Plotly) { window.PLOTLYENV=window.PLOTLYENV || {};window.PLOTLYENV.BASE_URL=\"https://plot.ly\";Plotly.newPlot(\"7518d471-1c15-4b89-813c-4c968f0bea29\", [{\"type\": \"bar\", \"x\": [\"2012-11\", \"2012-12\", \"2013-01\", \"2013-02\", \"2013-03\", \"2013-04\", \"2013-05\", \"2013-06\", \"2013-07\", \"2013-08\", \"2013-09\", \"2013-10\", \"2013-11\", \"2013-12\", \"2014-01\", \"2014-02\", \"2014-03\", \"2014-04\", \"2014-05\", \"2014-06\", \"2014-07\", \"2014-08\", \"2014-09\", \"2014-10\", \"2014-11\", \"2014-12\", \"2015-01\", \"2015-02\", \"2015-03\", \"2015-04\", \"2015-05\", \"2015-06\", \"2015-07\", \"2015-08\", \"2015-09\", \"2015-10\", \"2015-11\", \"2015-12\", \"2016-01\", \"2016-02\", \"2016-03\", \"2016-04\", \"2016-05\", \"2016-06\", \"2016-07\", \"2016-08\", \"2016-09\", \"2016-10\", \"2016-11\", \"2016-12\", \"2017-01\", \"2017-02\", \"2017-03\", \"2017-04\", \"2017-05\", \"2017-06\", \"2017-07\", \"2017-08\", \"2017-09\", \"2017-10\", \"2017-11\", \"2017-12\", \"2018-01\", \"2018-02\", \"2018-03\", \"2018-04\", \"2018-05\", \"2018-06\"], \"y\": [6, 3, 3, 7, 17, 27, 31, 23, 15, 17, 9, 10, 10, 7, 13, 14, 5, 12, 10, 4, 5, 6, 13, 8, 7, 10, 7, 5, 5, 7, 6, 9, 7, 9, 4, 8, 3, 4, 3, 10, 7, 3, 4, 8, 6, 4, 7, 8, 6, 2, 10, 9, 11, 6, 7, 9, 7, 10, 7, 4, 29, 6, 6, 6, 11, 4, 8, 6]}], {}, {\"showLink\": true, \"linkText\": \"Export to plot.ly\"})});</script>"
      ]
     },
     "metadata": {},
     "output_type": "display_data"
    }
   ],
   "source": [
    "Analyser.plot_distribution_over_time(\n",
    "    '''\n",
    "    SELECT closed_at \n",
    "    FROM requests_for_permissions \n",
    "    WHERE is_successful = 1 \n",
    "    AND closed_at <> '' \n",
    "    AND closed_at NOT NULL\n",
    "    ORDER BY closed_at\n",
    "    ''')"
   ]
  },
  {
   "cell_type": "markdown",
   "metadata": {},
   "source": [
    "#### Distribution of unsuccessful request for permission\n",
    "\n",
    "This shows the distribution of unsuccessful request for permission over time. As reference point for the time the date when the request for permission was closed is taken."
   ]
  },
  {
   "cell_type": "code",
   "execution_count": 111,
   "metadata": {
    "collapsed": false
   },
   "outputs": [
    {
     "data": {
      "application/vnd.plotly.v1+json": {
       "data": [
        {
         "type": "bar",
         "x": [
          "2012-11",
          "2012-12",
          "2013-01",
          "2013-02",
          "2013-03",
          "2013-04",
          "2013-05",
          "2013-06",
          "2013-07",
          "2013-08",
          "2013-09",
          "2013-10",
          "2013-11",
          "2013-12",
          "2014-01",
          "2014-02",
          "2014-03",
          "2014-04",
          "2014-05",
          "2014-06",
          "2014-07",
          "2014-08",
          "2014-09",
          "2014-10",
          "2014-11",
          "2014-12",
          "2015-01",
          "2015-02",
          "2015-03",
          "2015-04",
          "2015-05",
          "2015-06",
          "2015-07",
          "2015-08",
          "2015-09",
          "2015-10",
          "2015-11",
          "2015-12",
          "2016-01",
          "2016-02",
          "2016-03",
          "2016-04",
          "2016-05",
          "2016-06",
          "2016-07",
          "2016-08",
          "2016-09",
          "2016-10",
          "2016-11",
          "2016-12",
          "2017-01",
          "2017-02",
          "2017-03",
          "2017-04",
          "2017-05",
          "2017-06",
          "2017-07",
          "2017-08",
          "2017-09",
          "2017-10",
          "2017-11",
          "2017-12",
          "2018-01",
          "2018-02",
          "2018-03",
          "2018-04",
          "2018-05",
          "2018-06"
         ],
         "y": [
          1,
          0,
          2,
          1,
          2,
          4,
          2,
          1,
          2,
          4,
          1,
          0,
          0,
          4,
          0,
          0,
          5,
          1,
          1,
          0,
          0,
          1,
          0,
          2,
          3,
          0,
          0,
          0,
          3,
          0,
          0,
          1,
          0,
          0,
          0,
          0,
          0,
          1,
          0,
          5,
          0,
          0,
          0,
          0,
          0,
          0,
          0,
          0,
          1,
          1,
          0,
          1,
          1,
          3,
          1,
          3,
          2,
          1,
          2,
          0,
          0,
          0,
          4,
          4,
          10,
          0,
          1,
          1
         ]
        }
       ],
       "layout": {}
      },
      "text/html": [
       "<div id=\"6bd5921c-50b6-4bb3-abc9-38f3f9ad6845\" style=\"height: 525px; width: 100%;\" class=\"plotly-graph-div\"></div><script type=\"text/javascript\">require([\"plotly\"], function(Plotly) { window.PLOTLYENV=window.PLOTLYENV || {};window.PLOTLYENV.BASE_URL=\"https://plot.ly\";Plotly.newPlot(\"6bd5921c-50b6-4bb3-abc9-38f3f9ad6845\", [{\"type\": \"bar\", \"x\": [\"2012-11\", \"2012-12\", \"2013-01\", \"2013-02\", \"2013-03\", \"2013-04\", \"2013-05\", \"2013-06\", \"2013-07\", \"2013-08\", \"2013-09\", \"2013-10\", \"2013-11\", \"2013-12\", \"2014-01\", \"2014-02\", \"2014-03\", \"2014-04\", \"2014-05\", \"2014-06\", \"2014-07\", \"2014-08\", \"2014-09\", \"2014-10\", \"2014-11\", \"2014-12\", \"2015-01\", \"2015-02\", \"2015-03\", \"2015-04\", \"2015-05\", \"2015-06\", \"2015-07\", \"2015-08\", \"2015-09\", \"2015-10\", \"2015-11\", \"2015-12\", \"2016-01\", \"2016-02\", \"2016-03\", \"2016-04\", \"2016-05\", \"2016-06\", \"2016-07\", \"2016-08\", \"2016-09\", \"2016-10\", \"2016-11\", \"2016-12\", \"2017-01\", \"2017-02\", \"2017-03\", \"2017-04\", \"2017-05\", \"2017-06\", \"2017-07\", \"2017-08\", \"2017-09\", \"2017-10\", \"2017-11\", \"2017-12\", \"2018-01\", \"2018-02\", \"2018-03\", \"2018-04\", \"2018-05\", \"2018-06\"], \"y\": [1, 0, 2, 1, 2, 4, 2, 1, 2, 4, 1, 0, 0, 4, 0, 0, 5, 1, 1, 0, 0, 1, 0, 2, 3, 0, 0, 0, 3, 0, 0, 1, 0, 0, 0, 0, 0, 1, 0, 5, 0, 0, 0, 0, 0, 0, 0, 0, 1, 1, 0, 1, 1, 3, 1, 3, 2, 1, 2, 0, 0, 0, 4, 4, 10, 0, 1, 1]}], {}, {\"showLink\": true, \"linkText\": \"Export to plot.ly\"})});</script>"
      ],
      "text/vnd.plotly.v1+html": [
       "<div id=\"6bd5921c-50b6-4bb3-abc9-38f3f9ad6845\" style=\"height: 525px; width: 100%;\" class=\"plotly-graph-div\"></div><script type=\"text/javascript\">require([\"plotly\"], function(Plotly) { window.PLOTLYENV=window.PLOTLYENV || {};window.PLOTLYENV.BASE_URL=\"https://plot.ly\";Plotly.newPlot(\"6bd5921c-50b6-4bb3-abc9-38f3f9ad6845\", [{\"type\": \"bar\", \"x\": [\"2012-11\", \"2012-12\", \"2013-01\", \"2013-02\", \"2013-03\", \"2013-04\", \"2013-05\", \"2013-06\", \"2013-07\", \"2013-08\", \"2013-09\", \"2013-10\", \"2013-11\", \"2013-12\", \"2014-01\", \"2014-02\", \"2014-03\", \"2014-04\", \"2014-05\", \"2014-06\", \"2014-07\", \"2014-08\", \"2014-09\", \"2014-10\", \"2014-11\", \"2014-12\", \"2015-01\", \"2015-02\", \"2015-03\", \"2015-04\", \"2015-05\", \"2015-06\", \"2015-07\", \"2015-08\", \"2015-09\", \"2015-10\", \"2015-11\", \"2015-12\", \"2016-01\", \"2016-02\", \"2016-03\", \"2016-04\", \"2016-05\", \"2016-06\", \"2016-07\", \"2016-08\", \"2016-09\", \"2016-10\", \"2016-11\", \"2016-12\", \"2017-01\", \"2017-02\", \"2017-03\", \"2017-04\", \"2017-05\", \"2017-06\", \"2017-07\", \"2017-08\", \"2017-09\", \"2017-10\", \"2017-11\", \"2017-12\", \"2018-01\", \"2018-02\", \"2018-03\", \"2018-04\", \"2018-05\", \"2018-06\"], \"y\": [1, 0, 2, 1, 2, 4, 2, 1, 2, 4, 1, 0, 0, 4, 0, 0, 5, 1, 1, 0, 0, 1, 0, 2, 3, 0, 0, 0, 3, 0, 0, 1, 0, 0, 0, 0, 0, 1, 0, 5, 0, 0, 0, 0, 0, 0, 0, 0, 1, 1, 0, 1, 1, 3, 1, 3, 2, 1, 2, 0, 0, 0, 4, 4, 10, 0, 1, 1]}], {}, {\"showLink\": true, \"linkText\": \"Export to plot.ly\"})});</script>"
      ]
     },
     "metadata": {},
     "output_type": "display_data"
    }
   ],
   "source": [
    "Analyser.plot_distribution_over_time(\n",
    "    '''\n",
    "    SELECT closed_at \n",
    "    FROM requests_for_permissions \n",
    "    WHERE is_successful = 0 \n",
    "    AND closed_at <> ''\n",
    "    AND closed_at NOT NULL\n",
    "    ORDER BY closed_at\n",
    "    ''')"
   ]
  },
  {
   "cell_type": "markdown",
   "metadata": {},
   "source": [
    "#### Requests for permissions where closed_at is not set\n",
    "\n",
    "TODO: klären, warum das so ist."
   ]
  },
  {
   "cell_type": "code",
   "execution_count": 123,
   "metadata": {
    "collapsed": false
   },
   "outputs": [],
   "source": [
    "# Analyser.print_request_for_permission_without_closed_at()"
   ]
  },
  {
   "cell_type": "markdown",
   "metadata": {},
   "source": [
    "#### Distribution of editor count\n",
    "\n",
    "This shows the distribution of editor count per request for permission. The editor count represents the number of different users who edited the request for permission."
   ]
  },
  {
   "cell_type": "code",
   "execution_count": 99,
   "metadata": {
    "collapsed": false
   },
   "outputs": [
    {
     "data": {
      "application/vnd.plotly.v1+json": {
       "data": [
        {
         "type": "bar",
         "x": [
          1,
          2,
          3,
          4,
          5,
          6,
          7,
          8,
          9,
          10,
          11,
          12,
          13,
          14,
          15,
          16,
          17,
          18,
          19,
          20,
          21
         ],
         "y": [
          16,
          33,
          169,
          172,
          116,
          58,
          27,
          25,
          17,
          9,
          8,
          5,
          3,
          2,
          2,
          1,
          1,
          0,
          6,
          0,
          2
         ]
        }
       ],
       "layout": {}
      },
      "text/html": [
       "<div id=\"92874546-797a-4eb9-b50d-f244149ee86f\" style=\"height: 525px; width: 100%;\" class=\"plotly-graph-div\"></div><script type=\"text/javascript\">require([\"plotly\"], function(Plotly) { window.PLOTLYENV=window.PLOTLYENV || {};window.PLOTLYENV.BASE_URL=\"https://plot.ly\";Plotly.newPlot(\"92874546-797a-4eb9-b50d-f244149ee86f\", [{\"type\": \"bar\", \"x\": [1, 2, 3, 4, 5, 6, 7, 8, 9, 10, 11, 12, 13, 14, 15, 16, 17, 18, 19, 20, 21], \"y\": [16, 33, 169, 172, 116, 58, 27, 25, 17, 9, 8, 5, 3, 2, 2, 1, 1, 0, 6, 0, 2]}], {}, {\"showLink\": true, \"linkText\": \"Export to plot.ly\"})});</script>"
      ],
      "text/vnd.plotly.v1+html": [
       "<div id=\"92874546-797a-4eb9-b50d-f244149ee86f\" style=\"height: 525px; width: 100%;\" class=\"plotly-graph-div\"></div><script type=\"text/javascript\">require([\"plotly\"], function(Plotly) { window.PLOTLYENV=window.PLOTLYENV || {};window.PLOTLYENV.BASE_URL=\"https://plot.ly\";Plotly.newPlot(\"92874546-797a-4eb9-b50d-f244149ee86f\", [{\"type\": \"bar\", \"x\": [1, 2, 3, 4, 5, 6, 7, 8, 9, 10, 11, 12, 13, 14, 15, 16, 17, 18, 19, 20, 21], \"y\": [16, 33, 169, 172, 116, 58, 27, 25, 17, 9, 8, 5, 3, 2, 2, 1, 1, 0, 6, 0, 2]}], {}, {\"showLink\": true, \"linkText\": \"Export to plot.ly\"})});</script>"
      ]
     },
     "metadata": {},
     "output_type": "display_data"
    }
   ],
   "source": [
    "Analyser.plot_distribution(\n",
    "    '''\n",
    "    SELECT editor_count, COUNT(*)\n",
    "    FROM requests_for_permissions\n",
    "    WHERE editor_count NOT NULL\n",
    "    GROUP BY editor_count\n",
    "    ''')"
   ]
  },
  {
   "cell_type": "markdown",
   "metadata": {},
   "source": [
    "#### Distribution of editor count with a successful request for permission"
   ]
  },
  {
   "cell_type": "code",
   "execution_count": 98,
   "metadata": {
    "collapsed": false
   },
   "outputs": [
    {
     "data": {
      "application/vnd.plotly.v1+json": {
       "data": [
        {
         "type": "bar",
         "x": [
          1,
          2,
          3,
          4,
          5,
          6,
          7,
          8,
          9,
          10,
          11,
          12,
          13,
          14,
          15,
          16,
          17,
          18,
          19,
          20,
          21
         ],
         "y": [
          11,
          27,
          163,
          162,
          98,
          48,
          19,
          19,
          14,
          6,
          6,
          4,
          2,
          2,
          1,
          1,
          1,
          0,
          5,
          0,
          1
         ]
        }
       ],
       "layout": {}
      },
      "text/html": [
       "<div id=\"366ce238-92be-4915-af21-90ca4f041edf\" style=\"height: 525px; width: 100%;\" class=\"plotly-graph-div\"></div><script type=\"text/javascript\">require([\"plotly\"], function(Plotly) { window.PLOTLYENV=window.PLOTLYENV || {};window.PLOTLYENV.BASE_URL=\"https://plot.ly\";Plotly.newPlot(\"366ce238-92be-4915-af21-90ca4f041edf\", [{\"type\": \"bar\", \"x\": [1, 2, 3, 4, 5, 6, 7, 8, 9, 10, 11, 12, 13, 14, 15, 16, 17, 18, 19, 20, 21], \"y\": [11, 27, 163, 162, 98, 48, 19, 19, 14, 6, 6, 4, 2, 2, 1, 1, 1, 0, 5, 0, 1]}], {}, {\"showLink\": true, \"linkText\": \"Export to plot.ly\"})});</script>"
      ],
      "text/vnd.plotly.v1+html": [
       "<div id=\"366ce238-92be-4915-af21-90ca4f041edf\" style=\"height: 525px; width: 100%;\" class=\"plotly-graph-div\"></div><script type=\"text/javascript\">require([\"plotly\"], function(Plotly) { window.PLOTLYENV=window.PLOTLYENV || {};window.PLOTLYENV.BASE_URL=\"https://plot.ly\";Plotly.newPlot(\"366ce238-92be-4915-af21-90ca4f041edf\", [{\"type\": \"bar\", \"x\": [1, 2, 3, 4, 5, 6, 7, 8, 9, 10, 11, 12, 13, 14, 15, 16, 17, 18, 19, 20, 21], \"y\": [11, 27, 163, 162, 98, 48, 19, 19, 14, 6, 6, 4, 2, 2, 1, 1, 1, 0, 5, 0, 1]}], {}, {\"showLink\": true, \"linkText\": \"Export to plot.ly\"})});</script>"
      ]
     },
     "metadata": {},
     "output_type": "display_data"
    }
   ],
   "source": [
    "Analyser.plot_distribution(\n",
    "    '''\n",
    "    SELECT editor_count, COUNT(*)\n",
    "    FROM requests_for_permissions\n",
    "    WHERE editor_count NOT NULL\n",
    "    AND is_successful = 1\n",
    "    GROUP BY editor_count\n",
    "    ''')"
   ]
  },
  {
   "cell_type": "code",
   "execution_count": 97,
   "metadata": {
    "collapsed": false
   },
   "outputs": [
    {
     "data": {
      "application/vnd.plotly.v1+json": {
       "data": [
        {
         "type": "bar",
         "x": [
          1,
          2,
          3,
          4,
          5,
          6,
          7,
          8,
          9,
          10,
          11,
          12,
          13,
          14,
          15,
          16,
          17,
          18,
          19,
          20,
          21
         ],
         "y": [
          5,
          6,
          6,
          10,
          18,
          10,
          8,
          6,
          3,
          3,
          2,
          1,
          1,
          0,
          1,
          0,
          0,
          0,
          1,
          0,
          1
         ]
        }
       ],
       "layout": {}
      },
      "text/html": [
       "<div id=\"44a9971b-99b8-4e74-b8eb-fbc078d411dd\" style=\"height: 525px; width: 100%;\" class=\"plotly-graph-div\"></div><script type=\"text/javascript\">require([\"plotly\"], function(Plotly) { window.PLOTLYENV=window.PLOTLYENV || {};window.PLOTLYENV.BASE_URL=\"https://plot.ly\";Plotly.newPlot(\"44a9971b-99b8-4e74-b8eb-fbc078d411dd\", [{\"type\": \"bar\", \"x\": [1, 2, 3, 4, 5, 6, 7, 8, 9, 10, 11, 12, 13, 14, 15, 16, 17, 18, 19, 20, 21], \"y\": [5, 6, 6, 10, 18, 10, 8, 6, 3, 3, 2, 1, 1, 0, 1, 0, 0, 0, 1, 0, 1]}], {}, {\"showLink\": true, \"linkText\": \"Export to plot.ly\"})});</script>"
      ],
      "text/vnd.plotly.v1+html": [
       "<div id=\"44a9971b-99b8-4e74-b8eb-fbc078d411dd\" style=\"height: 525px; width: 100%;\" class=\"plotly-graph-div\"></div><script type=\"text/javascript\">require([\"plotly\"], function(Plotly) { window.PLOTLYENV=window.PLOTLYENV || {};window.PLOTLYENV.BASE_URL=\"https://plot.ly\";Plotly.newPlot(\"44a9971b-99b8-4e74-b8eb-fbc078d411dd\", [{\"type\": \"bar\", \"x\": [1, 2, 3, 4, 5, 6, 7, 8, 9, 10, 11, 12, 13, 14, 15, 16, 17, 18, 19, 20, 21], \"y\": [5, 6, 6, 10, 18, 10, 8, 6, 3, 3, 2, 1, 1, 0, 1, 0, 0, 0, 1, 0, 1]}], {}, {\"showLink\": true, \"linkText\": \"Export to plot.ly\"})});</script>"
      ]
     },
     "metadata": {},
     "output_type": "display_data"
    }
   ],
   "source": [
    "Analyser.plot_distribution(\n",
    "    '''\n",
    "    SELECT editor_count, COUNT(*)\n",
    "    FROM requests_for_permissions\n",
    "    WHERE editor_count NOT NULL\n",
    "    AND is_successful = 0\n",
    "    GROUP BY editor_count\n",
    "    ''')"
   ]
  },
  {
   "cell_type": "markdown",
   "metadata": {},
   "source": [
    "#### Requests for permissions where editor_count is not set\n",
    "\n",
    "TODO: klären, warum das so ist."
   ]
  },
  {
   "cell_type": "code",
   "execution_count": 122,
   "metadata": {
    "collapsed": false
   },
   "outputs": [],
   "source": [
    "# Analyser.print_request_for_permission_without_editor_count()"
   ]
  },
  {
   "cell_type": "code",
   "execution_count": null,
   "metadata": {
    "collapsed": true
   },
   "outputs": [],
   "source": []
  }
 ],
 "metadata": {
  "kernelspec": {
   "display_name": "Python 3",
   "language": "python",
   "name": "python3"
  },
  "language_info": {
   "codemirror_mode": {
    "name": "ipython",
    "version": 3
   },
   "file_extension": ".py",
   "mimetype": "text/x-python",
   "name": "python",
   "nbconvert_exporter": "python",
   "pygments_lexer": "ipython3",
   "version": "3.6.0"
  }
 },
 "nbformat": 4,
 "nbformat_minor": 1
}
